{
 "cells": [
  {
   "cell_type": "code",
   "execution_count": 1,
   "metadata": {},
   "outputs": [],
   "source": [
    "%load_ext autoreload\n",
    "%autoreload 2\n",
    "\n",
    "import sys\n",
    "sys.path.append('/home/jupyter/checkmate-histo/consolidated_workflow/immunoprofile_analysis/')\n",
    "\n",
    "from imports import *\n",
    "import xarray\n",
    "from sklearn.neighbors import KNeighborsRegressor\n",
    "from sklearn.neighbors import KNeighborsClassifier\n",
    "\n",
    "from tqdm import tqdm_notebook\n",
    "set_rc()"
   ]
  },
  {
   "cell_type": "code",
   "execution_count": 2,
   "metadata": {
    "tags": []
   },
   "outputs": [],
   "source": [
    "import networkx as nx\n",
    "from scipy.stats import pearsonr\n",
    "\n",
    "def prune_self_interactions(adata, cell_col = 'cell_type'):\n",
    "    g = nx.Graph(adata.obsp['spatial_connectivities'])\n",
    "\n",
    "    print('pre-prune (E,V): ', len(g.edges), len(g.nodes))\n",
    "\n",
    "    full_edges = np.array(g.edges)\n",
    "    full_edges_df = pd.DataFrame(full_edges, columns=['a','b'])\n",
    "\n",
    "    ct_df = adata.obs[[cell_col, 'detailed_cell_type']]\n",
    "    i = ct_df.iloc[full_edges[:,0]][cell_col]\n",
    "    j = ct_df.iloc[full_edges[:,1]][cell_col]\n",
    "    full_edges_df['ct_a'] = i.values \n",
    "    full_edges_df['ct_b'] = j.values\n",
    "    \n",
    "    i = ct_df.iloc[full_edges[:,0]]['detailed_cell_type']\n",
    "    j = ct_df.iloc[full_edges[:,1]]['detailed_cell_type']\n",
    "    full_edges_df['dct_a'] = i.values \n",
    "    full_edges_df['dct_b'] = j.values\n",
    "\n",
    "    filtered_full_edges_df = full_edges_df.loc[full_edges_df['ct_a'] != full_edges_df['ct_b']]\n",
    "\n",
    "    g = nx.Graph()\n",
    "    g.add_nodes_from(list(range(len(adata.obs))))\n",
    "    g.add_edges_from(filtered_full_edges_df[['a','b']].values)\n",
    "\n",
    "    print('post-prune (E,V): ', len(g.edges), len(g.nodes))\n",
    "\n",
    "    adata.obsp['spatial_connectivities'] = nx.to_scipy_sparse_matrix(g)\n",
    "\n",
    "    degrees = [d for (n,d) in g.degree()]\n",
    "    adata.obs['degree'] = degrees\n",
    "\n",
    "    filtered_full_edges_df[['tumor_node', 'cd8_node']] = np.stack(filtered_full_edges_df.apply(lambda x: fetch_subexpression(x), 1))\n",
    "\n",
    "    filtered_full_edges_df['res_pdl1_in_tumor'] = adata.obs.loc[filtered_full_edges_df['tumor_node'].astype(str), 'residual_pdl1_cond_autofluorescence'].values\n",
    "    filtered_full_edges_df['res_pd1_in_cd8'] = adata.obs.loc[filtered_full_edges_df['cd8_node'].astype(str), 'residual_pd1_cond_autofluorescence'].values\n",
    "\n",
    "    filtered_full_edges_df['tumor_degree'] = adata.obs.loc[filtered_full_edges_df['tumor_node'].astype(str), 'degree'].values\n",
    "    filtered_full_edges_df['cd8_degree'] = adata.obs.loc[filtered_full_edges_df['cd8_node'].astype(str), 'degree'].values\n",
    "\n",
    "    return filtered_full_edges_df\n",
    "\n",
    "def fetch_subexpression(row):\n",
    "    if row['ct_a'] == 'Tumor+':\n",
    "        tumor_idx = row['a']\n",
    "        cd8_idx = row['b']\n",
    "\n",
    "    else:\n",
    "        tumor_idx = row['b']\n",
    "        cd8_idx = row['a']\n",
    "    return tumor_idx, cd8_idx\n",
    "\n",
    "def fetch_full_edge_df(adata, spatial_key = 'unpruned_delaunay_connectivities', cell_col = 'cell_type'):\n",
    "    g = nx.Graph(adata.obsp[spatial_key])\n",
    "\n",
    "    print('pre-prune (E,V): ', len(g.edges), len(g.nodes))\n",
    "\n",
    "    full_edges = np.array(g.edges)\n",
    "    full_edges_df = pd.DataFrame(full_edges, columns=['a','b'])\n",
    "\n",
    "    ct_df = adata.obs[[cell_col, 'detailed_cell_type']]\n",
    "    i = ct_df.iloc[full_edges[:,0]][cell_col]\n",
    "    j = ct_df.iloc[full_edges[:,1]][cell_col]\n",
    "    full_edges_df['ct_a'] = i.values \n",
    "    full_edges_df['ct_b'] = j.values\n",
    "    \n",
    "    i = ct_df.iloc[full_edges[:,0]]['detailed_cell_type']\n",
    "    j = ct_df.iloc[full_edges[:,1]]['detailed_cell_type']\n",
    "    full_edges_df['dct_a'] = i.values \n",
    "    full_edges_df['dct_b'] = j.values\n",
    "    \n",
    "    return full_edges_df\n",
    "\n",
    "def add_degree_centrality(adata, connectivity_key):\n",
    "    g = nx.Graph(adata.obsp[connectivity_key])\n",
    "    dc = nx.algorithms.centrality.degree_centrality(g)\n",
    "    adata.obs[f'{connectivity_key}_degree_centrality'] = list(dc.values())\n",
    "    \n",
    "    degrees = [d for (n,d) in g.degree()]\n",
    "    adata.obs[f'{connectivity_key}_degree'] = degrees"
   ]
  },
  {
   "cell_type": "code",
   "execution_count": 3,
   "metadata": {},
   "outputs": [],
   "source": [
    "def make_statannotations_pairs(i, j, mode='inner'):\n",
    "    if mode == 'inner':\n",
    "        pairs = []\n",
    "        for x in i:\n",
    "            pairs.extend(list(combinations(product([x],j), 2)))\n",
    "            \n",
    "    if mode == 'full':\n",
    "         pairs = list(combinations(product(i,j),2))\n",
    "            \n",
    "    return pairs"
   ]
  },
  {
   "cell_type": "code",
   "execution_count": 4,
   "metadata": {},
   "outputs": [],
   "source": [
    "candidates = pd.read_csv('./immunoprofile_hne_rag_features__passing_14_subset.csv', index_col=0)\n",
    "candidates = candidates.drop('IP_19_E00218')\n",
    "\n",
    "microhet_mapper = candidates['any_diff_edge']\n",
    "microhet_mapper.name = 'microhet'\n",
    "microhet_mapper = microhet_mapper.map({False:'Homog.', True:'Het.'})\n",
    "\n",
    "tilewise = pd.read_csv('/mnt/disks/image_data/immunoprofile/ccrcc_subset_processing/inference_outputs/ccrcc_51_immunoprofile_passing_twostage_segmentation_tile_level_info.csv')\n",
    "tilewise['case_id'] = tilewise['unique_id'].apply(lambda x: x.split('_HnE')[0])\n",
    "tilewise = tilewise.set_index(['case_id'])\n",
    "\n",
    "segmean = tilewise.groupby(['case_id','merged_labels']).mean()\n",
    "segmean['gs'] = segmean['smoothed_prob_g4_not_g2']\n",
    "segmean['ts'] = segmean['smoothed_prob_tumor']\n",
    "segmean.index.names = ['case_id','seg_label']"
   ]
  },
  {
   "cell_type": "markdown",
   "metadata": {
    "tags": []
   },
   "source": [
    "#### Load annotated AnnData objects\n",
    "- Includes various spatial neighbor setups, connectivity filters, and centrality calculations"
   ]
  },
  {
   "cell_type": "code",
   "execution_count": 5,
   "metadata": {},
   "outputs": [],
   "source": [
    "out_dir = '/mnt/disks/image_data/immunoprofile/ccrcc_subset_processing/squidpy_adata_h5ad_files'\n",
    "parse_template = os.path.join(out_dir, '{case_id}_all_area__cd8+_tumor+__bcell_filter___multistrat_radius={radius}__edge_anno_added.h5ad')\n",
    "parses = format_parses(parse_template, glob(out_dir+'/*cd8+_tumor+__bcell_filter*__edge_anno_added*'))\n",
    "\n",
    "regen_adata = {}\n",
    "for idx, row in parses.iterrows():\n",
    "    regen_adata[row['case_id']] = sc.read_h5ad(row['filepath'])"
   ]
  },
  {
   "cell_type": "markdown",
   "metadata": {},
   "source": [
    "#### Incorporate Manual Review \n",
    "- IP_20_J00195: becomes homog.\n",
    "- IP_19_G00660: loses one proximal edge but retains MH label"
   ]
  },
  {
   "cell_type": "code",
   "execution_count": 6,
   "metadata": {},
   "outputs": [],
   "source": [
    "# case with Pancreatic tissue that got called as a heterogeneously distinct tumor region\n",
    "microhet_mapper.loc['IP_20_J00195'] = 'Homog.'"
   ]
  },
  {
   "cell_type": "code",
   "execution_count": 7,
   "metadata": {},
   "outputs": [],
   "source": [
    "# two regions that were adjacent tissue at met site\n",
    "nodes_to_remove = {\n",
    "    'IP_19_G00660': 1.0,\n",
    "    'IP_20_J00195': 1.0,\n",
    "}"
   ]
  },
  {
   "cell_type": "code",
   "execution_count": 8,
   "metadata": {},
   "outputs": [
    {
     "name": "stdout",
     "output_type": "stream",
     "text": [
      "Changed Node 1.0 in IP_19_G00660 to be 0\n",
      "Changed Node 1.0 in IP_20_J00195 to be 0\n"
     ]
    }
   ],
   "source": [
    "for case_id, node_idx in nodes_to_remove.items():\n",
    "    adata = regen_adata[case_id]\n",
    "    crit = adata.obs['merged_labels'] == node_idx\n",
    "    adata.obs.loc[crit, ['merged_labels','seg_label']] = 0  # equivalent columns; overwrite both\n",
    "    print(f'Changed Node {node_idx} in {case_id} to be 0')"
   ]
  },
  {
   "cell_type": "code",
   "execution_count": 9,
   "metadata": {},
   "outputs": [
    {
     "data": {
      "text/plain": [
       "case_id\n",
       "IP_20_M00245         Kidney\n",
       "IP_19_G00562           Lung\n",
       "IP_19_G00660           Lung\n",
       "IP_19_J00132           Lung\n",
       "IP_19_K00058           Lung\n",
       "IP_19_T00810           Lung\n",
       "IP_19_F00568       Lymphoid\n",
       "IP_19_R00053       Lymphoid\n",
       "IP_19_D00209           None\n",
       "IP_19_K00367           None\n",
       "IP_18_A00093           None\n",
       "IP_20_J00195       Pancreas\n",
       "IP_20_F00356    Soft Tissue\n",
       "Name: biopsySite, dtype: object"
      ]
     },
     "execution_count": 9,
     "metadata": {},
     "output_type": "execute_result"
    }
   ],
   "source": [
    "candidates.biopsySite.sort_values()"
   ]
  },
  {
   "cell_type": "markdown",
   "metadata": {
    "tags": []
   },
   "source": [
    "### Optional: generate cell-edge DF"
   ]
  },
  {
   "cell_type": "code",
   "execution_count": 10,
   "metadata": {
    "tags": []
   },
   "outputs": [],
   "source": [
    "# edge_df_agg = pd.DataFrame()\n",
    "# for case_id, adata in regen_adata.items():\n",
    "#     print(case_id)\n",
    "#     # reformat indices to be relative to DF position again \n",
    "#     adata.obs = adata.obs.reset_index(drop=True)\n",
    "#     adata.obs.index= adata.obs.index.astype(str)\n",
    "\n",
    "#     agg = fetch_full_edge_df(adata)\n",
    "#     agg['case_id'] = case_id\n",
    "    \n",
    "#     # set up tumor-immune interaction labels\n",
    "#     crit = (agg['dct_a'] == 'Tumor+ PDL1 Low') | (agg['dct_b'] == 'Tumor+ PDL1 Low')\n",
    "#     agg.loc[crit, 'tumor_pdl1'] = 'PDL1 Low'\n",
    "\n",
    "#     crit = (agg['dct_a'] == 'Tumor+ PDL1 High') | (agg['dct_b'] == 'Tumor+ PDL1 High')\n",
    "#     agg.loc[crit, 'tumor_pdl1'] = 'PDL1 High'\n",
    "\n",
    "#     crit = (agg['dct_a'] == 'CD8+ PD1 Low') | (agg['dct_b'] == 'CD8+ PD1 Low')\n",
    "#     agg.loc[crit, 'cd8_pd1'] = 'PD1 Low'\n",
    "\n",
    "#     crit = (agg['dct_a'] == 'CD8+ PD1 High') | (agg['dct_b'] == 'CD8+ PD1 High')\n",
    "#     agg.loc[crit, 'cd8_pd1'] = 'PD1 High'\n",
    "\n",
    "#     agg['edge_semantic_label'] = 'Tumor+ ' + agg['tumor_pdl1'] + ' vs CD8+ ' + agg['cd8_pd1']\n",
    "\n",
    "#     # set up self-interaction labels wihtin subtypes\n",
    "#     for dct in ['CD8+ PD1 High', 'CD8+ PD1 Low','Tumor+ PDL1 High','Tumor+ PDL1 Low']:\n",
    "#         crit = (agg['dct_a'] == dct) & (agg['dct_b'] == dct)\n",
    "#         agg.loc[crit, 'edge_semantic_label'] = f'{dct} [Self]'\n",
    "\n",
    "#     # set up self interaction with diff submarker labels\n",
    "#     crit = (agg['ct_a'] == 'CD8+') & (agg['ct_a'] == agg['ct_b']) & (agg['dct_a'] != agg['dct_b'])\n",
    "#     agg.loc[crit ,'edge_semantic_label'] = 'CD8+ PD1 High/Low'\n",
    "\n",
    "#     crit = (agg['ct_a'] == 'Tumor+') & (agg['ct_a'] == agg['ct_b']) & (agg['dct_a'] != agg['dct_b'])\n",
    "#     agg.loc[crit ,'edge_semantic_label'] = 'Tumor+ PDL1 High/Low'\n",
    "    \n",
    "    \n",
    "#     for edge_type, subdf in agg.groupby('edge_semantic_label'):\n",
    "#         # print(edge_type)\n",
    "#         adata.obs[edge_type] = 0\n",
    "#         nodeset = set(subdf['a']).union(set(subdf['b']))\n",
    "#         nodeset = [str(x) for x in nodeset]\n",
    "#         adata.obs.loc[nodeset, edge_type] = 1\n",
    "        \n",
    "        \n",
    "#     edge_df_agg = pd.concat([edge_df_agg, agg])\n",
    "    \n",
    "\n",
    "\n",
    "# edge_df_agg['edge_context'] = edge_df_agg['edge_semantic_label'].apply(lambda x: ('Tumor+' in x) & ('CD8+' in x))\n",
    "# edge_df_agg['edge_context'] = edge_df_agg['edge_context'].map({False:'Self-Interaction', True:'Tumor-Immune Interaction'})\n",
    "\n",
    "# for case_id, adata in regen_adata.items():\n",
    "#     agg = edge_df_agg.set_index('case_id').loc[case_id]\n",
    "#     for edge_type, subdf in agg.groupby('edge_context'):\n",
    "#         # print(edge_type)\n",
    "#         adata.obs[edge_type] = 0\n",
    "#         nodeset = set(subdf['a']).union(set(subdf['b']))\n",
    "#         nodeset = [str(x) for x in nodeset]\n",
    "#         adata.obs.loc[nodeset, edge_type] = 1\n",
    "        \n",
    "#     adata.obs['edge_context'] = (adata.obs['Tumor-Immune Interaction'] == 1).map({True:'Tumor-Immune Interaction', False:'Self/Isolated'})"
   ]
  },
  {
   "cell_type": "markdown",
   "metadata": {},
   "source": [
    "### Regenerate distance aggregation correctly while also creating cellwise DF for selected regions with minimum putative tumor content"
   ]
  },
  {
   "cell_type": "markdown",
   "metadata": {},
   "source": [
    "#### Add PDL1-specific Edge Context"
   ]
  },
  {
   "cell_type": "code",
   "execution_count": 11,
   "metadata": {
    "tags": []
   },
   "outputs": [],
   "source": [
    "for case_id, adata in regen_adata.items():\n",
    "    \n",
    "    # add collapsed CD8 back in \n",
    "    adata.obs['collapsed_cd8'] = adata.obs['detailed_cell_type'].astype(str)\n",
    "    crit = adata.obs['detailed_cell_type'].str.startswith('CD8+')\n",
    "    adata.obs.loc[crit, 'collapsed_cd8'] = 'CD8+'\n",
    "    adata.obs['collapsed_cd8'] = adata.obs['collapsed_cd8'].astype('category')\n",
    "\n",
    "    # add collapsed Tumor back in \n",
    "    adata.obs['collapsed_tumor'] = adata.obs['detailed_cell_type'].astype(str)\n",
    "    crit = adata.obs['detailed_cell_type'].str.startswith('Tumor+')\n",
    "    adata.obs.loc[crit, 'collapsed_tumor'] = 'Tumor+'\n",
    "    adata.obs['collapsed_tumor'] = adata.obs['collapsed_tumor'].astype('category')\n",
    "    \n",
    "    adata.obs['edge_context_pdl1_focus'] = adata.obs['edge_context'].astype(str)\n",
    "\n",
    "    adata.obs['Tumor+ PDL1 High vs CD8+'] = adata.obs['Tumor+ PDL1 High vs CD8+ PD1 High'] + adata.obs['Tumor+ PDL1 High vs CD8+ PD1 Low']\n",
    "    adata.obs['Tumor+ PDL1 Low vs CD8+'] = adata.obs['Tumor+ PDL1 Low vs CD8+ PD1 High'] + adata.obs['Tumor+ PDL1 Low vs CD8+ PD1 Low']\n",
    "\n",
    "    # collapse cases where a CD8 contacts both PDL1 Low and High Tumor cells\n",
    "    crit = (adata.obs['Tumor+ PDL1 High vs CD8+'] > 0)\n",
    "    adata.obs.loc[crit, 'edge_context_pdl1_focus'] = 'Tumor-Immune Interaction (PDL1 High)'\n",
    "\n",
    "    crit = (adata.obs['Tumor+ PDL1 High vs CD8+'] == 0) & (adata.obs['Tumor+ PDL1 Low vs CD8+'] > 0)\n",
    "    adata.obs.loc[crit, 'edge_context_pdl1_focus'] = 'Tumor-Immune Interaction (PDL1 Low)'\n"
   ]
  },
  {
   "cell_type": "code",
   "execution_count": 12,
   "metadata": {},
   "outputs": [
    {
     "data": {
      "text/plain": [
       "0        0\n",
       "1        0\n",
       "2        0\n",
       "3        0\n",
       "4        0\n",
       "        ..\n",
       "53376    0\n",
       "53377    0\n",
       "53378    0\n",
       "53379    0\n",
       "53380    0\n",
       "Name: CD8+ PD1 High [Self], Length: 53381, dtype: int64"
      ]
     },
     "execution_count": 12,
     "metadata": {},
     "output_type": "execute_result"
    }
   ],
   "source": [
    "adata.obs['CD8+ PD1 High [Self]']"
   ]
  },
  {
   "cell_type": "code",
   "execution_count": 13,
   "metadata": {},
   "outputs": [
    {
     "data": {
      "text/plain": [
       "['CD8+ PD1 High [Self]', 'CD8+ PD1 High/Low', 'CD8+ PD1 Low [Self]']"
      ]
     },
     "execution_count": 13,
     "metadata": {},
     "output_type": "execute_result"
    }
   ],
   "source": [
    "list(filter(lambda x: x.startswith('CD8+'), adata.obs.columns))"
   ]
  },
  {
   "cell_type": "code",
   "execution_count": 14,
   "metadata": {},
   "outputs": [
    {
     "data": {
      "text/plain": [
       "['Tumor+ PDL1 High [Self]',\n",
       " 'Tumor+ PDL1 High vs CD8+ PD1 High',\n",
       " 'Tumor+ PDL1 High vs CD8+ PD1 Low',\n",
       " 'Tumor+ PDL1 High/Low',\n",
       " 'Tumor+ PDL1 Low [Self]',\n",
       " 'Tumor+ PDL1 Low vs CD8+ PD1 High',\n",
       " 'Tumor+ PDL1 Low vs CD8+ PD1 Low',\n",
       " 'Tumor+ PDL1 High vs CD8+',\n",
       " 'Tumor+ PDL1 Low vs CD8+']"
      ]
     },
     "execution_count": 14,
     "metadata": {},
     "output_type": "execute_result"
    }
   ],
   "source": [
    "list(filter(lambda x: x.startswith('Tumor+'), adata.obs.columns))"
   ]
  },
  {
   "cell_type": "code",
   "execution_count": 15,
   "metadata": {},
   "outputs": [],
   "source": [
    "detailed_interation_names = [\n",
    "    'Tumor+ PDL1 High [Self]',\n",
    "    'Tumor+ PDL1 Low [Self]',\n",
    "    'Tumor+ PDL1 High/Low',\n",
    "    'Tumor+ PDL1 High vs CD8+ PD1 High',\n",
    "    'Tumor+ PDL1 High vs CD8+ PD1 Low',\n",
    "    'Tumor+ PDL1 Low vs CD8+ PD1 High',\n",
    "    'Tumor+ PDL1 Low vs CD8+ PD1 Low',\n",
    "    'CD8+ PD1 High [Self]', \n",
    "    'CD8+ PD1 High/Low', \n",
    "    'CD8+ PD1 Low [Self]'\n",
    "]"
   ]
  },
  {
   "cell_type": "code",
   "execution_count": 16,
   "metadata": {
    "tags": []
   },
   "outputs": [],
   "source": [
    "def plot_adata_neighbors(adata, connectivity_key, hues=['cell_type'], edges_width=1.5, image=None, s = 25, ax=None):\n",
    "    sub = adata.copy()\n",
    "    \n",
    "    spatial_key = \"spatial\"\n",
    "    library_id = \"test_fov\"\n",
    "    sub.uns[spatial_key] = {library_id: {}}\n",
    "    sub.uns[spatial_key][library_id][\"images\"] = {}\n",
    "    sub.uns[spatial_key][library_id][\"images\"] = {\"hires\": image}\n",
    "    sub.uns[spatial_key][library_id][\"scalefactors\"] = {\"tissue_hires_scalef\": 1, \"spot_diameter_fullres\":s}\n",
    "\n",
    "    sq.pl.spatial_scatter(sub, ax=ax, color=hues, edges_width=edges_width, edges_color='black', outline_color=('black','black'), img_alpha=0.8, \n",
    "                          connectivity_key=connectivity_key, img=image, legend_fontsize='medium')"
   ]
  },
  {
   "cell_type": "markdown",
   "metadata": {
    "tags": []
   },
   "source": [
    "# Top-K PTs wrt T-I -- Ripley's L"
   ]
  },
  {
   "cell_type": "code",
   "execution_count": 17,
   "metadata": {
    "tags": []
   },
   "outputs": [],
   "source": [
    "ct_ec_groups = [\n",
    "    'CD8+ : Tumor-Immune Interaction',\n",
    "    'CD8+ : Self/Isolated',\n",
    "    'Tumor+ : Tumor-Immune Interaction',\n",
    "    'Tumor+ : Self/Isolated',\n",
    "]\n"
   ]
  },
  {
   "cell_type": "markdown",
   "metadata": {},
   "source": [
    "- so some cases have much lower cell density from the perspective of the pseudotiles"
   ]
  },
  {
   "cell_type": "markdown",
   "metadata": {},
   "source": [
    "### Implement Test Statistics for Ripley's K \n",
    "- Diggle91\n",
    "- Hahn12"
   ]
  },
  {
   "cell_type": "code",
   "execution_count": 18,
   "metadata": {
    "tags": []
   },
   "outputs": [],
   "source": [
    "from numpy.random import shuffle\n",
    "from dask.distributed import Client\n",
    "\n",
    "def calc_smoothed_variance_estimator(data, stat_col='k_stat', ):\n",
    "    r_0 = data['bins'].max()\n",
    "    \n",
    "    var = data.groupby('bins')[stat_col].apply(lambda x: np.var(x, ddof=1))\n",
    "    var.name = 'var'\n",
    "    \n",
    "    tmp = data.groupby('bins')[stat_col].apply(lambda x: np.var(x, ddof=1)).reset_index()\n",
    "    ratios =  tmp[stat_col]/tmp['bins']**2\n",
    "    const = ratios.sum()/r_0\n",
    "    \n",
    "    var_smooth = const * tmp['bins']**2\n",
    "    \n",
    "    tmp['smoothed_variance'] = var_smooth\n",
    "    tmp = tmp.set_index('bins')['smoothed_variance']\n",
    "    \n",
    "    return tmp\n",
    "\n",
    "def calculate_studentized_ripley_t(a,b, stat_col='k_stat', debug=False):\n",
    "    \"\"\"\n",
    "    a: population a ripley statistics \n",
    "    b: population b ripley statistics \n",
    "    \n",
    "    Follows \"A Studentized Permutation Test for the Comparison of Spatial Point Patterns\" (2012)\n",
    "    \"\"\"\n",
    "    var_a = calc_smoothed_variance_estimator(a)/len(a)\n",
    "    var_b = calc_smoothed_variance_estimator(b)/len(b)\n",
    "    \n",
    "    mu_a = a.groupby('bins')[stat_col].mean()\n",
    "    mu_b = b.groupby('bins')[stat_col].mean()\n",
    "    \n",
    "    stat = (mu_a - mu_b)**2 / (var_a + var_b)\n",
    "    \n",
    "    if debug:\n",
    "        return var_a, var_b, mu_a, mu_b\n",
    "    else:\n",
    "        return stat.dropna().sum()\n",
    "\n",
    "def diggle91_dask(df, col, key_a, key_b, stat_col='k_stat'):\n",
    "    dig = []\n",
    "    for r in df['bins'].unique():\n",
    "        a = df.loc[(df[col] == key_a) & (df['bins'] == r)]\n",
    "        b = df.loc[(df[col] == key_b) & (df['bins'] == r)]\n",
    "\n",
    "        numer = (a[stat_col].mean() - b[stat_col].mean())**2\n",
    "        denom = (r**2 / a['num_cells'].sum()) + (r**2 / b['num_cells'].sum())\n",
    "            \n",
    "        dig.append(0.5 * numer / denom)\n",
    "    return pd.Series(dig).dropna().sum()\n",
    "        "
   ]
  },
  {
   "cell_type": "markdown",
   "metadata": {
    "tags": []
   },
   "source": [
    "### PT 2k, minimum EC 50; top-10; run all comparisons\n",
    "- Do a separated Ripley calculation set for each individual `cluster_key` label"
   ]
  },
  {
   "cell_type": "code",
   "execution_count": 19,
   "metadata": {
    "tags": []
   },
   "outputs": [
    {
     "name": "stdout",
     "output_type": "stream",
     "text": [
      "setting min_cells to 50\n",
      "IP_19_K00367\n",
      "px    py  \n",
      "7.0   19.0    1971\n",
      "6.0   18.0    1933\n",
      "3.0   9.0     1927\n",
      "12.0  27.0    1830\n",
      "4.0   19.0    1774\n",
      "6.0   19.0    1761\n",
      "4.0   18.0    1760\n",
      "8.0   6.0     1709\n",
      "12.0  28.0    1699\n",
      "3.0   8.0     1686\n",
      "dtype: int64\n"
     ]
    },
    {
     "data": {
      "application/vnd.jupyter.widget-view+json": {
       "model_id": "3143d144d7eb4cd5bf9e7458417ec7b8",
       "version_major": 2,
       "version_minor": 0
      },
      "text/plain": [
       "  0%|          | 0/10 [00:00<?, ?it/s]"
      ]
     },
     "metadata": {},
     "output_type": "display_data"
    },
    {
     "name": "stdout",
     "output_type": "stream",
     "text": [
      "(3.0, 8.0)\n",
      "(3.0, 9.0)\n",
      "(4.0, 18.0)\n",
      "(4.0, 19.0)\n",
      "(6.0, 18.0)\n",
      "(6.0, 19.0)\n",
      "(7.0, 19.0)\n",
      "(8.0, 6.0)\n",
      "(12.0, 27.0)\n",
      "(12.0, 28.0)\n",
      "Successfully grabbed 50/50 PT [within putative tumor seg regions]\n",
      "IP_19_D00209\n",
      "px    py  \n",
      "18.0  15.0    214\n",
      "19.0  21.0    157\n",
      "15.0  11.0    153\n",
      "4.0   21.0    146\n",
      "5.0   5.0     140\n",
      "18.0  23.0    136\n",
      "4.0   22.0    135\n",
      "18.0  22.0    130\n",
      "      21.0    128\n",
      "17.0  21.0    126\n",
      "dtype: int64\n"
     ]
    },
    {
     "data": {
      "application/vnd.jupyter.widget-view+json": {
       "model_id": "8d7027caa55b4481bff78510091d7f38",
       "version_major": 2,
       "version_minor": 0
      },
      "text/plain": [
       "  0%|          | 0/10 [00:00<?, ?it/s]"
      ]
     },
     "metadata": {},
     "output_type": "display_data"
    },
    {
     "name": "stdout",
     "output_type": "stream",
     "text": [
      "(4.0, 21.0)\n",
      "(4.0, 22.0)\n",
      "(5.0, 5.0)\n",
      "(15.0, 11.0)\n",
      "(17.0, 21.0)\n",
      "(18.0, 15.0)\n",
      "(18.0, 21.0)\n",
      "(18.0, 22.0)\n",
      "(18.0, 23.0)\n",
      "(19.0, 21.0)\n",
      "Successfully grabbed 50/50 PT [within putative tumor seg regions]\n",
      "IP_19_J00132\n",
      "px    py \n",
      "9.0   8.0    194\n",
      "8.0   7.0    128\n",
      "10.0  7.0    118\n",
      "9.0   7.0    112\n",
      "12.0  4.0     99\n",
      "10.0  9.0     98\n",
      "9.0   5.0     93\n",
      "10.0  8.0     91\n",
      "11.0  7.0     88\n",
      "13.0  8.0     82\n",
      "dtype: int64\n"
     ]
    },
    {
     "data": {
      "application/vnd.jupyter.widget-view+json": {
       "model_id": "134a3627d44e467cb9cd1b7865b24fee",
       "version_major": 2,
       "version_minor": 0
      },
      "text/plain": [
       "  0%|          | 0/10 [00:00<?, ?it/s]"
      ]
     },
     "metadata": {},
     "output_type": "display_data"
    },
    {
     "name": "stdout",
     "output_type": "stream",
     "text": [
      "(8.0, 7.0)\n",
      "(9.0, 5.0)\n",
      "(9.0, 7.0)\n",
      "(9.0, 8.0)\n",
      "(10.0, 7.0)\n",
      "(10.0, 8.0)\n",
      "(10.0, 9.0)\n",
      "(11.0, 7.0)\n",
      "(12.0, 4.0)\n",
      "(13.0, 8.0)\n",
      "Successfully grabbed 50/50 PT [within putative tumor seg regions]\n",
      "IP_19_R00053\n",
      "px    py  \n",
      "13.0  12.0    385\n",
      "      13.0    343\n",
      "16.0  10.0    334\n",
      "15.0  10.0    297\n",
      "14.0  11.0    273\n",
      "      10.0    268\n",
      "16.0  11.0    254\n",
      "13.0  9.0     243\n",
      "15.0  11.0    236\n",
      "      12.0    218\n",
      "dtype: int64\n"
     ]
    },
    {
     "data": {
      "application/vnd.jupyter.widget-view+json": {
       "model_id": "cd1c2cae1a354097a0eac14ac3058230",
       "version_major": 2,
       "version_minor": 0
      },
      "text/plain": [
       "  0%|          | 0/10 [00:00<?, ?it/s]"
      ]
     },
     "metadata": {},
     "output_type": "display_data"
    },
    {
     "name": "stdout",
     "output_type": "stream",
     "text": [
      "(13.0, 9.0)\n",
      "(13.0, 12.0)\n",
      "(13.0, 13.0)\n",
      "(14.0, 10.0)\n",
      "(14.0, 11.0)\n",
      "(15.0, 10.0)\n",
      "(15.0, 11.0)\n",
      "(15.0, 12.0)\n",
      "(16.0, 10.0)\n",
      "(16.0, 11.0)\n",
      "Successfully grabbed 50/50 PT [within putative tumor seg regions]\n",
      "IP_19_F00568\n",
      "px   py  \n",
      "7.0  16.0    723\n",
      "6.0  17.0    696\n",
      "5.0  18.0    693\n",
      "7.0  15.0    687\n",
      "9.0  14.0    629\n",
      "6.0  14.0    598\n",
      "4.0  18.0    598\n",
      "8.0  22.0    582\n",
      "7.0  17.0    576\n",
      "5.0  17.0    568\n",
      "dtype: int64\n"
     ]
    },
    {
     "data": {
      "application/vnd.jupyter.widget-view+json": {
       "model_id": "db0bec2f1bb44b3f8dc1c20843783b04",
       "version_major": 2,
       "version_minor": 0
      },
      "text/plain": [
       "  0%|          | 0/10 [00:00<?, ?it/s]"
      ]
     },
     "metadata": {},
     "output_type": "display_data"
    },
    {
     "name": "stdout",
     "output_type": "stream",
     "text": [
      "(4.0, 18.0)\n",
      "(5.0, 17.0)\n",
      "(5.0, 18.0)\n",
      "(6.0, 14.0)\n",
      "(6.0, 17.0)\n",
      "(7.0, 15.0)\n",
      "(7.0, 16.0)\n",
      "(7.0, 17.0)\n",
      "(8.0, 22.0)\n",
      "(9.0, 14.0)\n",
      "Successfully grabbed 50/50 PT [within putative tumor seg regions]\n",
      "IP_20_F00356\n",
      "px    py  \n",
      "11.0  20.0    482\n",
      "10.0  20.0    435\n",
      "4.0   10.0    311\n",
      "11.0  21.0    257\n",
      "2.0   11.0    237\n",
      "10.0  21.0    232\n",
      "1.0   10.0    173\n",
      "9.0   21.0    166\n",
      "1.0   11.0    158\n",
      "10.0  22.0    155\n",
      "dtype: int64\n"
     ]
    },
    {
     "data": {
      "application/vnd.jupyter.widget-view+json": {
       "model_id": "e639cfa6ee1b4f4394ea2233e682b285",
       "version_major": 2,
       "version_minor": 0
      },
      "text/plain": [
       "  0%|          | 0/10 [00:00<?, ?it/s]"
      ]
     },
     "metadata": {},
     "output_type": "display_data"
    },
    {
     "name": "stdout",
     "output_type": "stream",
     "text": [
      "(1.0, 10.0)\n",
      "(1.0, 11.0)\n",
      "(2.0, 11.0)\n",
      "(4.0, 10.0)\n",
      "(9.0, 21.0)\n",
      "(10.0, 20.0)\n",
      "(10.0, 21.0)\n",
      "(10.0, 22.0)\n",
      "(11.0, 20.0)\n",
      "(11.0, 21.0)\n",
      "Successfully grabbed 50/50 PT [within putative tumor seg regions]\n",
      "IP_19_G00660\n",
      "px    py  \n",
      "10.0  18.0    68\n",
      "11.0  8.0     65\n",
      "dtype: int64\n"
     ]
    },
    {
     "data": {
      "application/vnd.jupyter.widget-view+json": {
       "model_id": "17d35138d2c7488b85f7e7bd583d661e",
       "version_major": 2,
       "version_minor": 0
      },
      "text/plain": [
       "  0%|          | 0/2 [00:00<?, ?it/s]"
      ]
     },
     "metadata": {},
     "output_type": "display_data"
    },
    {
     "name": "stdout",
     "output_type": "stream",
     "text": [
      "(10.0, 18.0)\n",
      "(11.0, 8.0)\n",
      "Successfully grabbed 10/10 PT [within putative tumor seg regions]\n",
      "IP_19_T00810\n",
      "px   py  \n",
      "5.0  12.0    84\n",
      "8.0  12.0    66\n",
      "7.0  15.0    61\n",
      "8.0  13.0    60\n",
      "7.0  14.0    57\n",
      "5.0  13.0    56\n",
      "6.0  12.0    53\n",
      "dtype: int64\n"
     ]
    },
    {
     "data": {
      "application/vnd.jupyter.widget-view+json": {
       "model_id": "eb6860f9f62546709db94a87584ddb0e",
       "version_major": 2,
       "version_minor": 0
      },
      "text/plain": [
       "  0%|          | 0/7 [00:00<?, ?it/s]"
      ]
     },
     "metadata": {},
     "output_type": "display_data"
    },
    {
     "name": "stdout",
     "output_type": "stream",
     "text": [
      "(5.0, 12.0)\n",
      "(5.0, 13.0)\n",
      "(6.0, 12.0)\n",
      "(7.0, 14.0)\n",
      "(7.0, 15.0)\n",
      "(8.0, 12.0)\n",
      "(8.0, 13.0)\n",
      "Successfully grabbed 35/35 PT [within putative tumor seg regions]\n",
      "IP_20_M00245\n",
      "px    py  \n",
      "15.0  12.0    221\n",
      "17.0  12.0    161\n",
      "16.0  5.0     139\n",
      "17.0  11.0    125\n",
      "      5.0     122\n",
      "14.0  14.0    108\n",
      "16.0  18.0    107\n",
      "17.0  15.0    102\n",
      "16.0  12.0    101\n",
      "17.0  8.0     100\n",
      "dtype: int64\n"
     ]
    },
    {
     "data": {
      "application/vnd.jupyter.widget-view+json": {
       "model_id": "7781d9dd056e4b1694ea2542b48a99ad",
       "version_major": 2,
       "version_minor": 0
      },
      "text/plain": [
       "  0%|          | 0/10 [00:00<?, ?it/s]"
      ]
     },
     "metadata": {},
     "output_type": "display_data"
    },
    {
     "name": "stdout",
     "output_type": "stream",
     "text": [
      "(14.0, 14.0)\n",
      "(15.0, 12.0)\n",
      "(16.0, 5.0)\n",
      "(16.0, 12.0)\n",
      "(16.0, 18.0)\n",
      "(17.0, 5.0)\n",
      "(17.0, 8.0)\n",
      "(17.0, 11.0)\n",
      "(17.0, 12.0)\n",
      "(17.0, 15.0)\n",
      "Successfully grabbed 50/50 PT [within putative tumor seg regions]\n",
      "IP_18_A00093\n",
      "px    py \n",
      "16.0  5.0    142\n",
      "17.0  7.0    142\n",
      "15.0  4.0    114\n",
      "18.0  7.0    111\n",
      "17.0  6.0    110\n",
      "13.0  7.0    102\n",
      "17.0  4.0     99\n",
      "12.0  6.0     98\n",
      "15.0  7.0     97\n",
      "16.0  7.0     94\n",
      "dtype: int64\n"
     ]
    },
    {
     "data": {
      "application/vnd.jupyter.widget-view+json": {
       "model_id": "4d265cb0172241738c2d964b564f2639",
       "version_major": 2,
       "version_minor": 0
      },
      "text/plain": [
       "  0%|          | 0/10 [00:00<?, ?it/s]"
      ]
     },
     "metadata": {},
     "output_type": "display_data"
    },
    {
     "name": "stdout",
     "output_type": "stream",
     "text": [
      "(12.0, 6.0)\n",
      "(13.0, 7.0)\n",
      "(15.0, 4.0)\n",
      "(15.0, 7.0)\n",
      "(16.0, 5.0)\n",
      "(16.0, 7.0)\n",
      "(17.0, 4.0)\n",
      "(17.0, 6.0)\n",
      "(17.0, 7.0)\n",
      "(18.0, 7.0)\n",
      "Successfully grabbed 50/50 PT [within putative tumor seg regions]\n",
      "IP_20_J00195\n",
      "Could not process IP_20_J00195; \n",
      " 'CD8+ : Tumor-Immune Interaction'\n",
      "IP_19_K00058\n",
      "px    py  \n",
      "8.0   12.0    392\n",
      "      13.0    389\n",
      "7.0   12.0    377\n",
      "8.0   15.0    369\n",
      "9.0   13.0    358\n",
      "      12.0    313\n",
      "8.0   16.0    257\n",
      "9.0   14.0    230\n",
      "6.0   16.0    222\n",
      "10.0  12.0    220\n",
      "dtype: int64\n"
     ]
    },
    {
     "data": {
      "application/vnd.jupyter.widget-view+json": {
       "model_id": "6a393ac9d2c941babf5cf225834be164",
       "version_major": 2,
       "version_minor": 0
      },
      "text/plain": [
       "  0%|          | 0/10 [00:00<?, ?it/s]"
      ]
     },
     "metadata": {},
     "output_type": "display_data"
    },
    {
     "name": "stdout",
     "output_type": "stream",
     "text": [
      "(6.0, 16.0)\n",
      "(7.0, 12.0)\n",
      "(8.0, 12.0)\n",
      "(8.0, 13.0)\n",
      "(8.0, 15.0)\n",
      "(8.0, 16.0)\n",
      "(9.0, 12.0)\n",
      "(9.0, 13.0)\n",
      "(9.0, 14.0)\n",
      "(10.0, 12.0)\n",
      "Successfully grabbed 50/50 PT [within putative tumor seg regions]\n",
      "IP_19_G00562\n",
      "Could not process IP_19_G00562; \n",
      " 'CD8+ : Tumor-Immune Interaction'\n"
     ]
    }
   ],
   "source": [
    "sc.settings.verbosity = 0\n",
    "\n",
    "top_k = 10\n",
    "\n",
    "pseudo_tile_size = 2000\n",
    "\n",
    "n_neighbors = 8\n",
    "\n",
    "min_cells = 50\n",
    "print(f'setting min_cells to {min_cells}')\n",
    "\n",
    "max_dist = 1500\n",
    "\n",
    "# Ripley calc\n",
    "mode = 'L'\n",
    "n_observations = 1000\n",
    "n_simulations = 0\n",
    "\n",
    "max_ignore_frac = 0.5\n",
    "\n",
    "ripley_store = pd.DataFrame()\n",
    "ripley_singles = pd.DataFrame()\n",
    "\n",
    "\n",
    "calc_distances = False\n",
    "distance_key = 'unpruned_delaunay_distances'\n",
    "distance_store = {}\n",
    "distance_store_full = {}\n",
    "\n",
    "subset_agg = pd.DataFrame()\n",
    "\n",
    "counter = 0 \n",
    "\n",
    "run_plotting = False\n",
    "\n",
    "for case_id, adata in regen_adata.items():\n",
    "    counter += 1 \n",
    "    \n",
    "    try:        \n",
    "        print(case_id)\n",
    "        df = adata.obs\n",
    "        df['pseudo_x'] = df['cell_x_harmonized'] // pseudo_tile_size\n",
    "        df['pseudo_y'] = df['cell_y_harmonized'] // pseudo_tile_size\n",
    "        df['px'] = df['pseudo_x']\n",
    "        df['py'] = df['pseudo_y']\n",
    "\n",
    "        # general T-I context\n",
    "        # Use collapsed tumor\n",
    "        df['dct_ec'] = df['collapsed_tumor'].astype(str) + ' : ' + df['edge_context'].astype(str)\n",
    "        df['dct_ec'] = df['dct_ec'].astype('category')\n",
    "\n",
    "        df['ct_ec'] = df['cell_type'].astype(str) + ' : ' + df['edge_context'].astype(str)\n",
    "        df['ct_ec'] = df['ct_ec'].astype('category')\n",
    "\n",
    "        # PDL1 specific T-I context\n",
    "        # use collapsed CD8 here \n",
    "        df['ct_ec_pdl1_specific'] = df['collapsed_cd8'].astype(str) + ' : ' + df['edge_context_pdl1_focus'].astype(str)\n",
    "        df['ct_ec_pdl1_specific'] = df['ct_ec_pdl1_specific'].astype('category')\n",
    "        \n",
    "        # PDL1 specific T-I context\n",
    "        # full detail\n",
    "        df['dct_ec_pdl1_specific'] = df['detailed_cell_type'].astype(str) + ' : ' + df['edge_context_pdl1_focus'].astype(str)\n",
    "        df['dct_ec_pdl1_specific'] = df['dct_ec_pdl1_specific'].astype('category')\n",
    "        \n",
    "        df['case_id'] = case_id\n",
    "\n",
    "        pass_count = 0\n",
    "        total = 0\n",
    "        \n",
    "        \n",
    "        df_clone = df.copy()\n",
    "        df_clone['omit'] = df_clone['seg_label'].isin([-1,0])\n",
    "\n",
    "        df_clone = df_clone.loc[df_clone['edge_context'] =='Tumor-Immune Interaction']\n",
    "        \n",
    "        candidate_pts = get_indices(df_clone.groupby(['px','py'])['omit'].mean() <= max_ignore_frac)\n",
    "\n",
    "        filtered_pts = []\n",
    "        for (px, py), subdf in df_clone.set_index(['px','py']).loc[candidate_pts].groupby(['px','py']):\n",
    "            counts = subdf['ct_ec'].astype(str).value_counts()\n",
    "            if (len(counts) == 2) & (counts.min() > min_cells):\n",
    "                filtered_pts.append((px,py))\n",
    "\n",
    "        df_clone = df_clone.set_index(['px','py']).loc[filtered_pts]\n",
    "        sorted_top_counts = df_clone.value_counts(['ct_ec','px','py']).loc['CD8+ : Tumor-Immune Interaction'].head(top_k)\n",
    "        print(sorted_top_counts)\n",
    "        subset_indices = sorted_top_counts.index.values\n",
    "        df_clone = df_clone.loc[subset_indices]\n",
    "        \n",
    "        for (px,py), _ in tqdm_notebook(df_clone.groupby(['px','py'])):\n",
    "            print((px,py))\n",
    "            sub = adata[(adata.obs['pseudo_x'] == px) & (adata.obs['pseudo_y'] == py)]\n",
    "            \n",
    "\n",
    "            ignore_frac = sub.obs['seg_label'].isin([-1,0]).mean()\n",
    "\n",
    "            if (ignore_frac <= max_ignore_frac):\n",
    "                # ensure `min_cell` present for both CD8 and Tumor\n",
    "                if len(sub.obsp['unpruned_delaunay_tumor_immune_connectivities'].nonzero()[0]) >= 0:\n",
    "                    # use unfiltered df when storing here\n",
    "                    subset_agg = pd.concat([subset_agg, sub.obs])\n",
    "                    \n",
    "                    # for cluster_key in ['ct_ec','ct_ec_pdl1_specific','dct_ec']:\n",
    "                    for cluster_key in ['cell_type','ct_ec','ct_ec_pdl1_specific','dct_ec','dct_ec_pdl1_specific']:\n",
    "                        total += 1\n",
    "\n",
    "                        # filter out cells with < n_neighbors in that label\n",
    "                        passing_ck_types = get_indices(sub.obs[cluster_key].value_counts() >= n_neighbors)\n",
    "                        sub = sub[sub.obs[cluster_key].isin(passing_ck_types)]\n",
    "\n",
    "                        if calc_distances:\n",
    "                            for ck in ['unpruned_delaunay_self_CD8+_connectivities','unpruned_delaunay_self_Tumor+_connectivities','unpruned_delaunay_tumor_immune_connectivities',]:\n",
    "                                if 'self' in ck:\n",
    "                                    for context in ['Self/Isolated', 'Tumor-Immune Interaction']:\n",
    "                                        for cell in ['Tumor+','CD8+']:\n",
    "                                            subsub = sub[(sub.obs['cell_type'] == cell) & (sub.obs['edge_context'] == context)]\n",
    "                                            a, b = subsub.obsp[ck].nonzero()\n",
    "                                            distance_store[(case_id, px, py, ck, cell, context)] = subsub.obsp[distance_key][a,b].mean()\n",
    "                                            distance_store_full[(case_id, px, py, ck, cell, context)] = subsub.obsp[distance_key][a,b]\n",
    "\n",
    "                                else:\n",
    "                                    a, b = sub.obsp[ck].nonzero()\n",
    "                                    distance_store[(case_id, px, py, ck, 'Tumor+ & CD8+', 'Tumor-Immune Interaction')] = sub.obsp[distance_key][a,b].mean()\n",
    "                                    distance_store_full[(case_id, px, py, ck, 'Tumor+ & CD8+', 'Tumor-Immune Interaction')] = sub.obsp[distance_key][a,b]\n",
    "\n",
    "\n",
    "                        try:\n",
    "                            # reset category to be relative to this pseudotile\n",
    "                            sub.obs[cluster_key] = sub.obs[cluster_key].astype(str).astype('category')\n",
    "                            for mode in ['L']:\n",
    "                                sq.gr.ripley(sub, cluster_key=cluster_key, mode=mode, max_dist=max_dist, n_observations=n_observations, n_neigh=n_neighbors, n_simulations=n_simulations)\n",
    "                                tmp = sub.uns[f'{cluster_key}_ripley_{mode}'][f'{mode}_stat']\n",
    "                                tmp = tmp.rename(columns={cluster_key:'label'})\n",
    "                                tmp['ripley_mode'] = mode\n",
    "                                tmp['pseudo_x'] = px\n",
    "                                tmp['pseudo_y'] = py\n",
    "                                tmp['case_id'] = case_id\n",
    "                                tmp['cluster_key'] = cluster_key\n",
    "                                ripley_store = pd.concat([ripley_store, tmp])\n",
    "                                \n",
    "                                \n",
    "                                # now do per-label individual Ripley calculations\n",
    "                                for x in sub.obs[cluster_key].unique():\n",
    "                                    sub_single = sub[sub.obs[cluster_key] == x]\n",
    "\n",
    "                                    sq.gr.ripley(sub_single, cluster_key=cluster_key, mode=mode, max_dist=max_dist, n_observations=n_observations, n_neigh=n_neighbors, n_simulations=n_simulations)\n",
    "                                    tmp = sub_single.uns[f'{cluster_key}_ripley_{mode}'][f'{mode}_stat']\n",
    "                                    tmp = tmp.rename(columns={cluster_key:'label'})\n",
    "                                    tmp['label'] = x\n",
    "                                    tmp['ripley_mode'] = mode\n",
    "                                    tmp['pseudo_x'] = px\n",
    "                                    tmp['pseudo_y'] = py\n",
    "                                    tmp['case_id'] = case_id\n",
    "                                    tmp['cluster_key'] = cluster_key\n",
    "                                    ripley_singles = pd.concat([ripley_singles,tmp])\n",
    "    \n",
    "#                                 if run_plotting:\n",
    "#                                     print(sub.obs.value_counts([cluster_key], sort=False))\n",
    "#                                     set_rc(6,6)\n",
    "#                                     sq.pl.ripley(sub, cluster_key=cluster_key, mode=mode,)\n",
    "#                                     plt.show()\n",
    "                                \n",
    "                            pass_count += 1\n",
    "                            set_rc(12,12, palette='colorblind', font_scale=1.6)\n",
    "                            # regenerate sub adata fresh for plotting (since we omit sparse cell types prior to Ripley calc)\n",
    "                            sub_regen = adata[(adata.obs['pseudo_x'] == px) & (adata.obs['pseudo_y'] == py)]\n",
    "                    \n",
    "\n",
    "\n",
    "                            if run_plotting:\n",
    "                                ax = plt.gca()\n",
    "                                plot_adata_neighbors(sub_regen, 'unpruned_delaunay_tumor_immune_connectivities', ['ct_ec'], s=15, edges_width=0.25, ax=ax)\n",
    "                                plt.show()\n",
    "                            \n",
    "                        except Exception as e:\n",
    "                            print(f'Error with {case_id}, {px}, {py}:    {e}')\n",
    "                            print(e)\n",
    "                            pass\n",
    "                else:\n",
    "                    pass\n",
    "                    # print(f'Omitting {px}, {py} with {len(sub.obs)} cells')\n",
    "                    # print(sub.obs[cluster_key].value_counts())\n",
    "\n",
    "        print(f'Successfully grabbed {pass_count}/{total} PT [within putative tumor seg regions]')\n",
    "    except Exception as e:\n",
    "        print(f'Could not process {case_id}; \\n {e}')\n",
    "    \n",
    "#     if counter > 0:\n",
    "#         break\n",
    "    \n",
    "ripley_store = ripley_store.set_index('case_id').join(microhet_mapper).reset_index()\n",
    "ripley_singles = ripley_singles.set_index('case_id').join(microhet_mapper).reset_index()\n",
    "\n",
    "for col in ['cell_type','ct_ec','ct_ec_pdl1_specific','dct_ec_pdl1_specific', 'dct_ec']:\n",
    "    subset_agg[col] = subset_agg[col].astype('category')\n",
    "\n",
    "subset_agg = subset_agg.set_index('case_id').join(microhet_mapper).reset_index()\n"
   ]
  },
  {
   "cell_type": "code",
   "execution_count": null,
   "metadata": {},
   "outputs": [],
   "source": [
    "subset_agg.to_csv('./immune_hotspot_topk_cellwise_data__subset_agg.csv')\n",
    "ripley_store.to_csv('./immune_hotspot_topk_ripley_agg_data__subset_agg.csv')\n",
    "ripley_singles.to_csv('./immune_hotspot_topk_ripley_singles_data__subset_agg.csv')"
   ]
  }
 ],
 "metadata": {
  "environment": {
   "kernel": "conda-env-deepcell-py",
   "name": "pytorch-gpu.1-10.m89",
   "type": "gcloud",
   "uri": "gcr.io/deeplearning-platform-release/pytorch-gpu.1-10:m89"
  },
  "kernelspec": {
   "display_name": "pathml",
   "language": "python",
   "name": "pathml"
  },
  "language_info": {
   "codemirror_mode": {
    "name": "ipython",
    "version": 3
   },
   "file_extension": ".py",
   "mimetype": "text/x-python",
   "name": "python",
   "nbconvert_exporter": "python",
   "pygments_lexer": "ipython3",
   "version": "3.8.8"
  }
 },
 "nbformat": 4,
 "nbformat_minor": 5
}
