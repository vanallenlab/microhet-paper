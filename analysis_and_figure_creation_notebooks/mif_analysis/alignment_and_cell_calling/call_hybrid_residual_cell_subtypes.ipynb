{
 "cells": [
  {
   "cell_type": "code",
   "execution_count": 1,
   "id": "64c4d7e0-286b-42fb-97fd-5b739623812f",
   "metadata": {
    "tags": []
   },
   "outputs": [],
   "source": [
    "%load_ext autoreload\n",
    "%autoreload 2\n",
    "\n",
    "import sys\n",
    "sys.path.append('/home/jupyter/checkmate-histo/consolidated_workflow/immunoprofile_analysis/')\n",
    "\n",
    "from imports import *\n",
    "import xarray\n",
    "from sklearn.neighbors import KNeighborsRegressor\n",
    "from sklearn.neighbors import KNeighborsClassifier\n",
    "# import plotly.express as px\n",
    "\n",
    "set_rc()\n",
    "\n",
    "from skimage.io import imread\n",
    "from deepcell.applications import Mesmer\n",
    "\n",
    "qptiff_channels = ['dapi', 'foxp3', 'tumor_specific', 'cd8', 'pd1', 'pdl1','autofluorescence']\n",
    "\n",
    "gating_cols = ['cd8_gate','tumor_gate']\n",
    "\n",
    "morph_fts = [\n",
    "    'centroid_dif', # asymmetry ??\n",
    "    'num_concavities', # \"concavities\"\n",
    "    'convex_hull_resid', # I think this is \"Fill\"\n",
    "    'major_axis_equiv_diam_ratio', # \"aspect ratio\"\n",
    "    'perim_square_over_area', # \"perimeter to area ratio\"\n",
    "    'arcsinh_area',\n",
    "]\n",
    "\n",
    "gating_cols = ['tumor_gate','cd8_gate']\n",
    "\n",
    "feature_cols = qptiff_channels + morph_fts\n",
    "\n",
    "candidates = pd.read_csv('./immunoprofile_hne_rag_features__passing_14_subset.csv', index_col=0)\n",
    "\n",
    "candidates = candidates.drop('IP_19_E00218')"
   ]
  },
  {
   "cell_type": "markdown",
   "id": "b11fe64e-1705-4209-8950-4b63ed274af0",
   "metadata": {},
   "source": [
    "### Load in data\n",
    "- In `pilot_combined_proper_membrane_channels_mesmer`NB we did per-cell-type residual transformation of expression values (within each slide)"
   ]
  },
  {
   "cell_type": "code",
   "execution_count": 2,
   "id": "d9297903-fb39-40e4-9c96-804371ced77b",
   "metadata": {},
   "outputs": [],
   "source": [
    "f_rerun = '/mnt/disks/image_data/immunoprofile/ccrcc_subset_processing/ccrcc_ip14_arcsinh_quant_agg_with_basic_cutoffs__rerun_correct_grade_seg__hybrid_manual_global_louvain__morph_flag__cellsubtypes.pkl'"
   ]
  },
  {
   "cell_type": "code",
   "execution_count": 3,
   "id": "7ec4fd7f-4ad2-439f-9b75-2862d15b85b8",
   "metadata": {},
   "outputs": [],
   "source": [
    "data = pd.read_pickle(f_rerun)"
   ]
  },
  {
   "cell_type": "code",
   "execution_count": 4,
   "id": "b8f5ec50-d628-45b1-9e05-b57365b082c6",
   "metadata": {},
   "outputs": [
    {
     "data": {
      "text/plain": [
       "(16891101, 88)"
      ]
     },
     "execution_count": 4,
     "metadata": {},
     "output_type": "execute_result"
    }
   ],
   "source": [
    "data.shape"
   ]
  },
  {
   "cell_type": "code",
   "execution_count": 5,
   "id": "a81aa144-d9fb-4d1e-b8f2-49ab4a8f2c7a",
   "metadata": {},
   "outputs": [],
   "source": [
    "def get_cd8(df, label_col='filtered_cell_type', label_key='filtered_cell_label_cd8+'):\n",
    "    return df.loc[df[label_col] == label_key]\n",
    "\n",
    "def get_tumor(df, label_col='filtered_cell_type', label_key='filtered_cell_label_tumor+'):\n",
    "    return df.loc[df[label_col] == label_key]"
   ]
  },
  {
   "cell_type": "markdown",
   "id": "1fe04780-4b7e-48a3-9ba4-45a5513db982",
   "metadata": {},
   "source": [
    "### Derive FOXP3 positivity for various compartments"
   ]
  },
  {
   "cell_type": "code",
   "execution_count": 6,
   "id": "a679a4cf-3cc2-49d0-ad60-89898f46dacf",
   "metadata": {},
   "outputs": [],
   "source": [
    "data['consolidated_cell_type'] = data['detailed_cell_type']\n",
    "\n",
    "crit = data['consolidated_cell_type'].isin(['filtered_meta_other','unclear_intermediate'])\n",
    "data.loc[crit, 'consolidated_cell_type'] = 'Ungated'\n",
    "\n",
    "crit = data['consolidated_cell_type'].apply(lambda x: 'omit' in x)\n",
    "data.loc[crit, 'consolidated_cell_type'] = 'Omit'"
   ]
  },
  {
   "cell_type": "code",
   "execution_count": 7,
   "id": "409f6479-4b0d-42d4-bc64-646d63df89d1",
   "metadata": {},
   "outputs": [],
   "source": [
    "def get_ungated(df, label_col='consolidated_cell_type', label_key='Ungated'):\n",
    "    return df.loc[df[label_col] == label_key]"
   ]
  },
  {
   "cell_type": "code",
   "execution_count": 8,
   "id": "1d0b1afe-5e00-4e6e-9197-3a0b07fb5e4a",
   "metadata": {},
   "outputs": [],
   "source": [
    "subtype_cutoffs = {\n",
    "    'residual_foxp3_in_ungated':np.nan,\n",
    "    'residual_foxp3_in_cd+':np.nan,\n",
    "    'residual_pd1_in_cd8+': np.nan,\n",
    "    'residual_pdl1_in_tumor+':np.nan,\n",
    "}"
   ]
  },
  {
   "cell_type": "markdown",
   "id": "729dcac1-39ae-4bb1-9d00-c853a9fb3150",
   "metadata": {},
   "source": [
    "### FOXP3 in Ungated"
   ]
  },
  {
   "cell_type": "code",
   "execution_count": 9,
   "id": "99b707ad-15fb-4140-a63e-478f611922d0",
   "metadata": {
    "tags": []
   },
   "outputs": [
    {
     "name": "stdout",
     "output_type": "stream",
     "text": [
      "IP_19_D00209\n",
      "0.11946103517353884\n",
      "IP_20_F00356\n",
      "-0.0030157168715494453\n",
      "IP_19_K00367\n",
      "-0.021187529598652055\n",
      "IP_19_F00568\n",
      "0.3080309839892632\n",
      "IP_20_J00195\n",
      "-0.018343249701117184\n",
      "IP_19_G00562\n",
      "0.10546525422785956\n",
      "IP_20_M00245\n",
      "0.07186326597636464\n",
      "IP_19_G00660\n",
      "0.06802925028777396\n",
      "IP_19_J00132\n",
      "0.324842402303397\n",
      "IP_19_K00058\n",
      "0.1815828425491868\n",
      "IP_18_A00093\n",
      "-0.15862236595325796\n",
      "IP_19_R00053\n",
      "0.48550913760878855\n",
      "IP_19_T00810\n",
      "-0.022562690095032256\n"
     ]
    },
    {
     "data": {
      "text/plain": [
       "(-1.5, 1.5)"
      ]
     },
     "execution_count": 9,
     "metadata": {},
     "output_type": "execute_result"
    },
    {
     "name": "stderr",
     "output_type": "stream",
     "text": [
      "findfont: Font family ['Arial'] not found. Falling back to DejaVu Sans.\n",
      "findfont: Font family ['Arial'] not found. Falling back to DejaVu Sans.\n"
     ]
    },
    {
     "data": {
      "image/png": "[encoded data removed]",
      "text/plain": [
       "<Figure size 720x720 with 1 Axes>"
      ]
     },
     "metadata": {},
     "output_type": "display_data"
    }
   ],
   "source": [
    "subset = data.loc[data['consolidated_cell_type'] == 'Ungated']\n",
    "\n",
    "marker = 'foxp3'\n",
    "cutoffs = []\n",
    "for case_id in candidates.index.values:\n",
    "    print(case_id)\n",
    "    tmp = subset.loc[case_id]\n",
    "    tmp = tmp.loc[tmp['meta'] == 'Tumor (H&E)']\n",
    "    \n",
    "    lb = tmp[f'res_{marker}'].quantile(0.001)\n",
    "    ub = tmp[f'res_{marker}'].quantile(0.999)\n",
    "\n",
    "    crit = (tmp[f'res_{marker}'] < ub) & (tmp[f'res_{marker}'] > lb)\n",
    "    tmp = tmp.loc[crit]\n",
    "    \n",
    "    a = run_gating_flex(tmp, f'res_{marker}', 2)\n",
    "    \n",
    "    a = tmp.groupby(f'gmm_res_{marker}')[f'res_{marker}'].quantile(0.05).max()\n",
    "    b = tmp.groupby(f'gmm_res_{marker}')[f'res_{marker}'].quantile(0.95).min()\n",
    "\n",
    "    cut = np.mean([a,b])\n",
    "    print(cut)\n",
    "    \n",
    "    cutoffs.append(cut)\n",
    "    \n",
    "    # set_rc(5,5)\n",
    "    # sns.histplot(x=f'res_{marker}', data=tmp.reset_index())\n",
    "    # plt.axvline(cut, c='r')\n",
    "    # plt.show()\n",
    "cutoff_summary = pd.Series(cutoffs).describe()\n",
    "\n",
    "subtype_cutoffs['residual_foxp3_in_ungated'] = cutoff_summary['50%']\n",
    "\n",
    "sns.histplot(x=f'res_{marker}', data=subset.reset_index())\n",
    "plt.axvline(subtype_cutoffs['residual_foxp3_in_ungated'], c='r')\n",
    "plt.xlim(-1.5,1.5)"
   ]
  },
  {
   "cell_type": "markdown",
   "id": "4f0c8609-6bbe-4dd5-aced-4791924eb650",
   "metadata": {
    "tags": []
   },
   "source": [
    "### FOXP3 in CD8+"
   ]
  },
  {
   "cell_type": "code",
   "execution_count": 10,
   "id": "57b3bd46-faa6-4518-b4a2-9242654c1547",
   "metadata": {
    "tags": []
   },
   "outputs": [
    {
     "name": "stdout",
     "output_type": "stream",
     "text": [
      "IP_19_D00209\n",
      "0.11371609844527547\n",
      "IP_20_F00356\n",
      "-0.021590299474735675\n",
      "IP_19_K00367\n",
      "0.02590071916137253\n",
      "IP_19_F00568\n",
      "0.11810585076340308\n",
      "IP_20_J00195\n",
      "0.040212310058591695\n",
      "IP_19_G00562\n",
      "0.0024122248099213784\n",
      "IP_20_M00245\n",
      "0.14571288339962732\n",
      "IP_19_G00660\n",
      "0.3285641707427238\n",
      "IP_19_J00132\n",
      "0.37135479251250914\n",
      "IP_19_K00058\n",
      "0.15488494023823915\n",
      "IP_18_A00093\n",
      "-0.08910536607800679\n",
      "IP_19_R00053\n",
      "0.1948413685601672\n",
      "IP_19_T00810\n",
      "0.022991806852873546\n"
     ]
    },
    {
     "data": {
      "text/plain": [
       "(-1.5, 1.5)"
      ]
     },
     "execution_count": 10,
     "metadata": {},
     "output_type": "execute_result"
    },
    {
     "data": {
      "image/png": "[encoded data removed]",
      "text/plain": [
       "<Figure size 720x720 with 1 Axes>"
      ]
     },
     "metadata": {},
     "output_type": "display_data"
    }
   ],
   "source": [
    "subset = data.loc[data['filtered_cell_type'] == 'filtered_cell_label_cd8+']\n",
    "\n",
    "marker = 'foxp3'\n",
    "cutoffs = []\n",
    "for case_id in candidates.index.values:\n",
    "    print(case_id)\n",
    "    tmp = subset.loc[case_id]\n",
    "    tmp = tmp.loc[tmp['meta'] == 'Tumor (H&E)']\n",
    "    \n",
    "    lb = tmp[f'res_{marker}'].quantile(0.001)\n",
    "    ub = tmp[f'res_{marker}'].quantile(0.999)\n",
    "\n",
    "    crit = (tmp[f'res_{marker}'] < ub) & (tmp[f'res_{marker}'] > lb)\n",
    "    tmp = tmp.loc[crit]\n",
    "    \n",
    "    a = run_gating_flex(tmp, f'res_{marker}', 2)\n",
    "    \n",
    "    a = tmp.groupby(f'gmm_res_{marker}')[f'res_{marker}'].quantile(0.05).max()\n",
    "    b = tmp.groupby(f'gmm_res_{marker}')[f'res_{marker}'].quantile(0.95).min()\n",
    "\n",
    "    cut = np.mean([a,b])\n",
    "    print(cut)\n",
    "    \n",
    "    cutoffs.append(cut)\n",
    "    # sns.histplot(x=f'res_{marker}', data=tmp.reset_index())\n",
    "    # plt.axvline(cut, c='r')\n",
    "    # plt.show()\n",
    "cutoff_summary = pd.Series(cutoffs).describe()\n",
    "\n",
    "subtype_cutoffs['residual_foxp3_in_cd8+'] = cutoff_summary['50%']\n",
    "\n",
    "\n",
    "sns.histplot(x=f'res_{marker}', data=subset.reset_index())\n",
    "plt.axvline(subtype_cutoffs['residual_foxp3_in_cd8+'], c='r')\n",
    "plt.xlim(-1.5,1.5)"
   ]
  },
  {
   "cell_type": "markdown",
   "id": "5405a202-98d4-47f5-99c1-5b9ae9eea2fe",
   "metadata": {
    "jp-MarkdownHeadingCollapsed": true,
    "tags": []
   },
   "source": [
    "### FOXP3 in Tumor+"
   ]
  },
  {
   "cell_type": "code",
   "execution_count": 11,
   "id": "358ad9ca-1394-4b62-a53e-effe12e4c1b0",
   "metadata": {
    "tags": []
   },
   "outputs": [
    {
     "name": "stdout",
     "output_type": "stream",
     "text": [
      "IP_19_D00209\n",
      "0.0972279464253383\n",
      "IP_20_F00356\n",
      "-0.005929033952955319\n",
      "IP_19_K00367\n",
      "0.10000571440038554\n",
      "IP_19_F00568\n",
      "0.1099679300279455\n",
      "IP_20_J00195\n",
      "-0.00690915685492316\n",
      "IP_19_G00562\n",
      "0.15529596997140768\n",
      "IP_20_M00245\n",
      "0.11390180756236015\n",
      "IP_19_G00660\n",
      "0.089135599955673\n",
      "IP_19_J00132\n",
      "-0.02420766714594198\n",
      "IP_19_K00058\n",
      "-0.117669564038043\n",
      "IP_18_A00093\n",
      "-0.09603007713010321\n",
      "IP_19_R00053\n",
      "0.050775365534639884\n",
      "IP_19_T00810\n",
      "0.06602564626936969\n"
     ]
    },
    {
     "data": {
      "text/plain": [
       "(-1.5, 1.5)"
      ]
     },
     "execution_count": 11,
     "metadata": {},
     "output_type": "execute_result"
    },
    {
     "data": {
      "image/png": "[encoded data removed]",
      "text/plain": [
       "<Figure size 720x720 with 1 Axes>"
      ]
     },
     "metadata": {},
     "output_type": "display_data"
    }
   ],
   "source": [
    "subset = data.loc[data['filtered_cell_type'] == 'filtered_cell_label_tumor+']\n",
    "\n",
    "marker = 'foxp3'\n",
    "cutoffs = []\n",
    "for case_id in candidates.index.values:\n",
    "    print(case_id)\n",
    "    tmp = subset.loc[case_id]\n",
    "    tmp = tmp.loc[tmp['meta'] == 'Tumor (H&E)']\n",
    "    \n",
    "    lb = tmp[f'res_{marker}'].quantile(0.001)\n",
    "    ub = tmp[f'res_{marker}'].quantile(0.999)\n",
    "\n",
    "    crit = (tmp[f'res_{marker}'] < ub) & (tmp[f'res_{marker}'] > lb)\n",
    "    tmp = tmp.loc[crit]\n",
    "    \n",
    "    a = run_gating_flex(tmp, f'res_{marker}', 2)\n",
    "    \n",
    "    a = tmp.groupby(f'gmm_res_{marker}')[f'res_{marker}'].quantile(0.05).max()\n",
    "    b = tmp.groupby(f'gmm_res_{marker}')[f'res_{marker}'].quantile(0.95).min()\n",
    "\n",
    "    cut = np.mean([a,b])\n",
    "    print(cut)\n",
    "    \n",
    "    cutoffs.append(cut)\n",
    "    # sns.histplot(x=f'res_{marker}', data=tmp.reset_index())\n",
    "    # plt.axvline(cut, c='r')\n",
    "    # plt.show()\n",
    "cutoff_summary = pd.Series(cutoffs).describe()\n",
    "\n",
    "subtype_cutoffs['residual_foxp3_in_tumor+'] = cutoff_summary['50%']\n",
    "\n",
    "\n",
    "sns.histplot(x=f'res_{marker}', data=subset.reset_index())\n",
    "plt.axvline(subtype_cutoffs['residual_foxp3_in_tumor+'], c='r')\n",
    "plt.xlim(-1.5,1.5)"
   ]
  },
  {
   "cell_type": "markdown",
   "id": "9392ae8b-8cc2-4143-9f3c-1c7c13e4c565",
   "metadata": {},
   "source": [
    "### PD1 in CD8+ [Rerun]"
   ]
  },
  {
   "cell_type": "code",
   "execution_count": 12,
   "id": "80ba74aa-ba17-4e3f-881e-008845415498",
   "metadata": {
    "tags": []
   },
   "outputs": [
    {
     "name": "stdout",
     "output_type": "stream",
     "text": [
      "IP_19_D00209\n",
      "0.2006729788510757\n",
      "IP_20_F00356\n",
      "0.11541192885053295\n",
      "IP_19_K00367\n",
      "0.0008438474175525464\n",
      "IP_19_F00568\n",
      "0.19182752241613307\n",
      "IP_20_J00195\n",
      "0.2552833532233514\n",
      "IP_19_G00562\n",
      "0.17910888777379652\n",
      "IP_20_M00245\n",
      "0.2278589645841565\n",
      "IP_19_G00660\n",
      "0.22349099064698175\n",
      "IP_19_J00132\n",
      "0.29252848206029847\n",
      "IP_19_K00058\n",
      "0.30856252256456607\n",
      "IP_18_A00093\n",
      "0.6420423226641134\n",
      "IP_19_R00053\n",
      "0.1767337663448319\n",
      "IP_19_T00810\n",
      "0.25332855309332813\n"
     ]
    },
    {
     "data": {
      "text/plain": [
       "(-1.5, 1.5)"
      ]
     },
     "execution_count": 12,
     "metadata": {},
     "output_type": "execute_result"
    },
    {
     "data": {
      "image/png": "[encoded data removed]",
      "text/plain": [
       "<Figure size 720x720 with 1 Axes>"
      ]
     },
     "metadata": {},
     "output_type": "display_data"
    }
   ],
   "source": [
    "subset = data.loc[data['filtered_cell_type'] == 'filtered_cell_label_cd8+']\n",
    "\n",
    "marker = 'pd1'\n",
    "cutoffs = []\n",
    "for case_id in candidates.index.values:\n",
    "    print(case_id)\n",
    "    tmp = subset.loc[case_id]\n",
    "    tmp = tmp.loc[tmp['meta'] == 'Tumor (H&E)']\n",
    "    \n",
    "    lb = tmp[f'res_{marker}'].quantile(0.001)\n",
    "    ub = tmp[f'res_{marker}'].quantile(0.999)\n",
    "\n",
    "    crit = (tmp[f'res_{marker}'] < ub) & (tmp[f'res_{marker}'] > lb)\n",
    "    tmp = tmp.loc[crit]\n",
    "    \n",
    "    a = run_gating_flex(tmp, f'res_{marker}', 2)\n",
    "    \n",
    "    a = tmp.groupby(f'gmm_res_{marker}')[f'res_{marker}'].quantile(0.05).max()\n",
    "    b = tmp.groupby(f'gmm_res_{marker}')[f'res_{marker}'].quantile(0.95).min()\n",
    "\n",
    "    cut = np.mean([a,b])\n",
    "    print(cut)\n",
    "    \n",
    "    cutoffs.append(cut)\n",
    "    \n",
    "    # set_rc(5,5)\n",
    "    # sns.histplot(x=f'res_{marker}', data=tmp.reset_index())\n",
    "    # plt.axvline(cut, c='r')\n",
    "    # plt.show()\n",
    "cutoff_summary = pd.Series(cutoffs).describe()\n",
    "\n",
    "subtype_cutoffs['residual_pd1_in_cd8+'] = cutoff_summary['50%']\n",
    "\n",
    "sns.histplot(x=f'res_{marker}', data=subset.reset_index())\n",
    "plt.axvline(subtype_cutoffs['residual_pd1_in_cd8+'], c='r')\n",
    "plt.xlim(-1.5,1.5)"
   ]
  },
  {
   "cell_type": "markdown",
   "id": "c21b2d23-705c-4876-9b04-172ca749e837",
   "metadata": {},
   "source": [
    "### Re-run Tumor+ PDL Residual Cutoff using overlapping quantile approach \n"
   ]
  },
  {
   "cell_type": "code",
   "execution_count": 13,
   "id": "f73f6518-fa62-4d34-87d9-207e681e9842",
   "metadata": {
    "tags": []
   },
   "outputs": [
    {
     "name": "stdout",
     "output_type": "stream",
     "text": [
      "IP_19_D00209\n",
      "0.15753608195083083\n",
      "IP_20_F00356\n",
      "0.10962236669422351\n",
      "IP_19_K00367\n",
      "0.014817110674620925\n",
      "IP_19_F00568\n",
      "0.15729188914744863\n",
      "IP_20_J00195\n",
      "0.08003975177172418\n",
      "IP_19_G00562\n",
      "0.33994131036730224\n",
      "IP_20_M00245\n",
      "0.15902256818078786\n",
      "IP_19_G00660\n",
      "0.09974712923464935\n",
      "IP_19_J00132\n",
      "-0.027024079907252765\n",
      "IP_19_K00058\n",
      "-0.06541745963401704\n",
      "IP_18_A00093\n",
      "-0.05863807228953109\n",
      "IP_19_R00053\n",
      "-0.025208465229605848\n",
      "IP_19_T00810\n",
      "0.1069723430371807\n"
     ]
    },
    {
     "data": {
      "text/plain": [
       "(-1.5, 1.5)"
      ]
     },
     "execution_count": 13,
     "metadata": {},
     "output_type": "execute_result"
    },
    {
     "data": {
      "image/png": "[encoded data removed]",
      "text/plain": [
       "<Figure size 720x720 with 1 Axes>"
      ]
     },
     "metadata": {},
     "output_type": "display_data"
    }
   ],
   "source": [
    "subset = data.loc[data['filtered_cell_type'] == 'filtered_cell_label_tumor+']\n",
    "\n",
    "marker = 'pdl1'\n",
    "cutoffs = []\n",
    "for case_id in candidates.index.values:\n",
    "    print(case_id)\n",
    "    tmp = subset.loc[case_id]\n",
    "    tmp = tmp.loc[tmp['meta'] == 'Tumor (H&E)']\n",
    "    \n",
    "    lb = tmp[f'res_{marker}'].quantile(0.001)\n",
    "    ub = tmp[f'res_{marker}'].quantile(0.999)\n",
    "\n",
    "    crit = (tmp[f'res_{marker}'] < ub) & (tmp[f'res_{marker}'] > lb)\n",
    "    tmp = tmp.loc[crit]\n",
    "    \n",
    "    a = run_gating_flex(tmp, f'res_{marker}', 2)\n",
    "    \n",
    "    a = tmp.groupby(f'gmm_res_{marker}')[f'res_{marker}'].quantile(0.05).max()\n",
    "    b = tmp.groupby(f'gmm_res_{marker}')[f'res_{marker}'].quantile(0.95).min()\n",
    "\n",
    "    cut = np.mean([a,b])\n",
    "    print(cut)\n",
    "    \n",
    "    cutoffs.append(cut)\n",
    "    \n",
    "    # set_rc(5,5)\n",
    "    # sns.histplot(x=f'res_{marker}', data=tmp.reset_index())\n",
    "    # plt.axvline(cut, c='r')\n",
    "    # plt.show()\n",
    "    \n",
    "cutoff_summary = pd.Series(cutoffs).describe()\n",
    "\n",
    "subtype_cutoffs['residual_pdl1_in_tumor+'] = cutoff_summary['50%']\n",
    "\n",
    "sns.histplot(x=f'res_{marker}', data=subset.reset_index())\n",
    "plt.axvline(subtype_cutoffs['residual_pdl1_in_tumor+'], c='r')\n",
    "plt.xlim(-1.5,1.5)"
   ]
  },
  {
   "cell_type": "code",
   "execution_count": 14,
   "id": "8fd48395-c2cd-43a0-9375-d5b5e2543bb4",
   "metadata": {},
   "outputs": [
    {
     "data": {
      "text/plain": [
       "{'residual_foxp3_in_ungated': 0.07186326597636464,\n",
       " 'residual_foxp3_in_cd+': nan,\n",
       " 'residual_pd1_in_cd8+': 0.22349099064698175,\n",
       " 'residual_pdl1_in_tumor+': 0.09974712923464935,\n",
       " 'residual_foxp3_in_cd8+': 0.11371609844527547,\n",
       " 'residual_foxp3_in_tumor+': 0.06602564626936969}"
      ]
     },
     "execution_count": 14,
     "metadata": {},
     "output_type": "execute_result"
    }
   ],
   "source": [
    "subtype_cutoffs"
   ]
  },
  {
   "cell_type": "code",
   "execution_count": 15,
   "id": "12910171-066e-4172-8117-f6fe25d958b1",
   "metadata": {},
   "outputs": [
    {
     "data": {
      "text/plain": [
       "array(['cd8-af-ratio_omit', 'filtered_cell_label_cd8+',\n",
       "       'filtered_cell_label_tumor+', 'filtered_meta_other',\n",
       "       'morphology_omit', 'unclear_intermediate', 'dapi_omit'],\n",
       "      dtype=object)"
      ]
     },
     "execution_count": 15,
     "metadata": {},
     "output_type": "execute_result"
    }
   ],
   "source": [
    "data['filtered_cell_type'].unique()"
   ]
  },
  {
   "cell_type": "code",
   "execution_count": 16,
   "id": "e7f9af92-3354-4f1d-b9dd-e012079b3fc5",
   "metadata": {
    "tags": []
   },
   "outputs": [],
   "source": [
    "data['detailed_cell_type'] = data['filtered_cell_type']\n",
    "\n",
    "##### CD8+\n",
    "crit = (data['filtered_cell_type'] == 'filtered_cell_label_cd8+') & (data['res_pd1'] >= subtype_cutoffs['residual_pd1_in_cd8+'])\n",
    "data.loc[crit, 'detailed_cell_type'] = 'CD8+ PD1 High'\n",
    "\n",
    "crit = (data['filtered_cell_type'] == 'filtered_cell_label_cd8+') & (data['res_pd1'] < subtype_cutoffs['residual_pd1_in_cd8+'])\n",
    "data.loc[crit, 'detailed_cell_type'] = 'CD8+ PD1 Low'\n",
    "\n",
    "##### Tumor+\n",
    "crit = (data['filtered_cell_type'] == 'filtered_cell_label_tumor+') & (data['res_pdl1'] >= subtype_cutoffs['residual_pdl1_in_tumor+'])\n",
    "data.loc[crit, 'detailed_cell_type'] = 'Tumor+ PDL1 High'\n",
    "\n",
    "crit = (data['filtered_cell_type'] == 'filtered_cell_label_tumor+') & (data['res_pdl1'] < subtype_cutoffs['residual_pdl1_in_tumor+'])\n",
    "data.loc[crit, 'detailed_cell_type'] = 'Tumor+ PDL1 Low'\n",
    "\n",
    "##### Ungated\n",
    "crit = (data['consolidated_cell_type'] == 'Ungated') & (data['res_pdl1'] >= subtype_cutoffs['residual_foxp3_in_ungated'])\n",
    "data.loc[crit, 'detailed_cell_type'] = 'Ungated+ FOXP3 High'\n",
    "\n",
    "crit = (data['consolidated_cell_type'] == 'Ungated') & (data['res_pdl1'] < subtype_cutoffs['residual_foxp3_in_ungated'])\n",
    "data.loc[crit, 'detailed_cell_type'] = 'Ungated+ FOXP3 Low'\n",
    "\n",
    "##### Omit\n",
    "crit = data['detailed_cell_type'].apply(lambda x: 'omit' in x)\n",
    "data.loc[crit, 'detailed_cell_type'] = 'Omit'"
   ]
  },
  {
   "cell_type": "code",
   "execution_count": 17,
   "id": "42d1186a-eb0d-43cd-b620-f0f864b6cb59",
   "metadata": {},
   "outputs": [
    {
     "data": {
      "text/plain": [
       "Ungated+ FOXP3 Low     6342667\n",
       "Ungated+ FOXP3 High    3546917\n",
       "Omit                   3295743\n",
       "Tumor+ PDL1 Low        1992816\n",
       "Tumor+ PDL1 High        789751\n",
       "CD8+ PD1 Low            614817\n",
       "CD8+ PD1 High           308390\n",
       "Name: detailed_cell_type, dtype: int64"
      ]
     },
     "execution_count": 17,
     "metadata": {},
     "output_type": "execute_result"
    }
   ],
   "source": [
    "data['detailed_cell_type'].value_counts()"
   ]
  },
  {
   "cell_type": "code",
   "execution_count": 18,
   "id": "83190be7-0e02-4fe5-9afe-26ebee97a77b",
   "metadata": {},
   "outputs": [
    {
     "data": {
      "text/plain": [
       "'/mnt/disks/image_data/immunoprofile/ccrcc_subset_processing/ccrcc_ip14_arcsinh_quant_agg_with_basic_cutoffs__rerun_correct_grade_seg__hybrid_manual_global_louvain__morph_flag__cellsubtypes.pkl'"
      ]
     },
     "execution_count": 18,
     "metadata": {},
     "output_type": "execute_result"
    }
   ],
   "source": [
    "f_rerun"
   ]
  },
  {
   "cell_type": "code",
   "execution_count": 19,
   "id": "7cb5638e-7d10-467d-b5b6-3960a73ffb75",
   "metadata": {},
   "outputs": [],
   "source": [
    "f_calls = '/mnt/disks/image_data/immunoprofile/ccrcc_subset_processing/ccrcc_ip14_arcsinh_quant_agg__hybrid_detailed_cell_type_calls.pkl'"
   ]
  },
  {
   "cell_type": "code",
   "execution_count": 20,
   "id": "17ab0bcf-963e-4c51-b374-c8696bc7079b",
   "metadata": {},
   "outputs": [],
   "source": [
    "data.to_pickle(f_calls)"
   ]
  },
  {
   "cell_type": "code",
   "execution_count": null,
   "id": "d7146217-a924-4165-9c88-6ca41dfa4687",
   "metadata": {
    "jupyter": {
     "source_hidden": true
    },
    "tags": []
   },
   "outputs": [],
   "source": []
  }
 ],
 "metadata": {
  "environment": {
   "kernel": "conda-env-deepcell-py",
   "name": "pytorch-gpu.1-10.m89",
   "type": "gcloud",
   "uri": "gcr.io/deeplearning-platform-release/pytorch-gpu.1-10:m89"
  },
  "kernelspec": {
   "display_name": "Python [conda env:deepcell]",
   "language": "python",
   "name": "conda-env-deepcell-py"
  },
  "language_info": {
   "codemirror_mode": {
    "name": "ipython",
    "version": 3
   },
   "file_extension": ".py",
   "mimetype": "text/x-python",
   "name": "python",
   "nbconvert_exporter": "python",
   "pygments_lexer": "ipython3",
   "version": "3.8.13"
  }
 },
 "nbformat": 4,
 "nbformat_minor": 5
}
