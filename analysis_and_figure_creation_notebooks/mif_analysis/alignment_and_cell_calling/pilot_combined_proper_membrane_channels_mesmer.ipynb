{
 "cells": [
  {
   "cell_type": "code",
   "execution_count": null,
   "metadata": {
    "tags": []
   },
   "outputs": [],
   "source": [
    "%load_ext autoreload\n",
    "%autoreload 2\n",
    "\n",
    "import sys\n",
    "sys.path.append('/home/jupyter/checkmate-histo/consolidated_workflow/immunoprofile_analysis/')\n",
    "\n",
    "from imports import *\n",
    "import xarray\n",
    "from sklearn.neighbors import KNeighborsRegressor\n",
    "from sklearn.neighbors import KNeighborsClassifier\n",
    "# import plotly.express as px\n",
    "\n",
    "set_rc()"
   ]
  },
  {
   "cell_type": "code",
   "execution_count": null,
   "metadata": {},
   "outputs": [],
   "source": [
    "from skimage.io import imread\n",
    "from deepcell.applications import Mesmer"
   ]
  },
  {
   "cell_type": "code",
   "execution_count": null,
   "metadata": {},
   "outputs": [],
   "source": [
    "qptiff_channels = ['dapi', 'foxp3', 'tumor_specific', 'cd8', 'pd1', 'pdl1','autofluorescence']\n",
    "\n",
    "gating_cols = ['cd8_gate','tumor_gate']\n",
    "\n",
    "morph_fts = [\n",
    "    'centroid_dif', # asymmetry ??\n",
    "    'num_concavities', # \"concavities\"\n",
    "    'convex_hull_resid', # I think this is \"Fill\"\n",
    "    'major_axis_equiv_diam_ratio', # \"aspect ratio\"\n",
    "    'perim_square_over_area', # \"perimeter to area ratio\"\n",
    "    'arcsinh_area',\n",
    "]\n",
    "\n",
    "gating_cols = ['tumor_gate','cd8_gate']\n",
    "\n",
    "feature_cols = qptiff_channels + morph_fts"
   ]
  },
  {
   "cell_type": "code",
   "execution_count": null,
   "metadata": {},
   "outputs": [],
   "source": [
    "candidates = pd.read_csv('./immunoprofile_hne_rag_features__passing_14_subset.csv', index_col=0)"
   ]
  },
  {
   "cell_type": "code",
   "execution_count": null,
   "metadata": {},
   "outputs": [],
   "source": [
    "candidates = candidates.drop('IP_19_E00218')"
   ]
  },
  {
   "cell_type": "code",
   "execution_count": null,
   "metadata": {},
   "outputs": [],
   "source": [
    "# # 20220906 NB generation\n",
    "# f = '/mnt/disks/image_data/immunoprofile/ccrcc_subset_processing/ccrcc_ip14_arcsinh_quant_agg_with_basic_cutoffs__rerun_correct_grade_seg__hybrid_manual_global_louvain__residual_markers__morph_flag.pkl'\n",
    "\n",
    "# data = pd.read_pickle(f)"
   ]
  },
  {
   "cell_type": "markdown",
   "metadata": {
    "tags": []
   },
   "source": [
    "### Cell-wise morph flagging"
   ]
  },
  {
   "cell_type": "code",
   "execution_count": null,
   "metadata": {},
   "outputs": [],
   "source": [
    "base_dummy_cols = [\n",
    "    'cell_label_cd8+',\n",
    "    'cell_label_other',\n",
    "    'cell_label_tumor+',\n",
    "    'cell_label_ungated/omit'\n",
    "]\n",
    "\n",
    "detailed_dummy_cols = [\n",
    "    'manual_cell_call_CD8+ PD1+',\n",
    "    'manual_cell_call_CD8+ PD1-',\n",
    "    'manual_cell_call_Omit',\n",
    "    'manual_cell_call_Other FOXP3+',\n",
    "    'manual_cell_call_Other FOXP3-',\n",
    "    'manual_cell_call_Tumor+ PDL1+',\n",
    "    'manual_cell_call_Tumor+ PDL1-',\n",
    "    'manual_cell_call_Ungated'\n",
    "]\n",
    "\n",
    "filtered_cats = [\n",
    "    'filtered_cell_label_cd8+',\n",
    "    'filtered_cell_label_tumor+',\n",
    "    'filtered_meta_other',\n",
    "    'cd8-af-ratio_omit',\n",
    "    'morphology_omit',\n",
    "    'dapi_omit',\n",
    "    'unclear_intermediate'\n",
    "]\n",
    "\n",
    "def filter_clusters_post_morph_flagging(df, dapi_cutoff=7.0, omit_thresh=0.2, lower_thresh=0.3, upper_thresh = 0.6):\n",
    "    \"\"\"\n",
    "    Filter through cell type proportions sequentially based on manually selected gates \n",
    "    Intended to catch FP/FN and refine cell type assignments\n",
    "    \"\"\"\n",
    "    df['filtered_cell_type'] = np.nan\n",
    "    \n",
    "    # order matters here since we'll use nan filter to decide what is considered in loop\n",
    "    cell_cols = [\n",
    "        'cell_label_tumor+',\n",
    "        'cell_label_cd8+',\n",
    "    ]\n",
    "    \n",
    "    crit = df['dapi'] < dapi_cutoff\n",
    "    df.loc[crit, 'filtered_cell_type'] = 'dapi_omit'\n",
    "    \n",
    "    crit = (df['filtered_cell_type'].isna()) & (df['morph_flag_flagged'] == 1.)\n",
    "    df.loc[crit, 'filtered_cell_type'] = 'morphology_omit'\n",
    "\n",
    "    crit = (df['filtered_cell_type'].isna()) & (df['manual_cell_call_Omit'] >= omit_thresh)\n",
    "    df.loc[crit, 'filtered_cell_type'] = 'cd8-af-ratio_omit'\n",
    "    \n",
    "    for col in cell_cols:\n",
    "        crit = (df['filtered_cell_type'].isna()) & (df[col] > upper_thresh)\n",
    "        df.loc[crit, 'filtered_cell_type'] = f'filtered_{col}'\n",
    "    \n",
    "        crit = (df['filtered_cell_type'].isna()) & (df[col] > lower_thresh) & (df[col] < upper_thresh)\n",
    "        df.loc[crit, 'filtered_cell_type'] = f'unclear_intermediate'\n",
    "    \n",
    "    df['filtered_cell_type'] = df['filtered_cell_type'].fillna('filtered_meta_other')\n",
    "    "
   ]
  },
  {
   "cell_type": "code",
   "execution_count": null,
   "metadata": {
    "tags": []
   },
   "outputs": [],
   "source": [
    "def visualize_cluster_distributions(df, cluster_col, ordering_col='cd8_af_ratio'):\n",
    "    #### visualize manual cell calls vs clustering results\n",
    "    fig,axes = plt.subplots(1,2)\n",
    "    order = df.groupby(cluster_col)[ordering_col].median().sort_values().index.values\n",
    "    df[cluster_col] = df[cluster_col].astype('category')\n",
    "    df[cluster_col] = df[cluster_col].cat.reorder_categories(list(order))\n",
    "\n",
    "    g = sns.histplot(x=cluster_col, hue='cell_label', hue_order=['ungated/omit', 'other', 'cd8+',  'tumor+', ], multiple='fill', data=df.reset_index(), ax=axes[0])\n",
    "    sns.move_legend(g, loc='center', bbox_to_anchor=(0.5, -0.5))\n",
    "    g = sns.histplot(x=cluster_col, hue='manual_cell_call', hue_order=['Ungated','Omit','CD8+ PD1+', 'CD8+ PD1-',  'Other FOXP3+', 'Other FOXP3-','Tumor+ PDL1+', 'Tumor+ PDL1-', ], multiple='fill', data=df.reset_index(), ax=axes[1])\n",
    "    sns.move_legend(g, loc='center', bbox_to_anchor=(0.5, -0.5))\n",
    "\n",
    "    plt.title(case_id)\n",
    "    plt.show()\n",
    "\n",
    "def visualize_fov_samples_postcutoff(case_id, cell_df, tumor_parses, n_samples=5, width=7, height=15, channels=[2, 3, 0], \n",
    "                          lower_clip_percentile=25, upper_clip_percentile=99, max_cell_area=2000,\n",
    "                          cell_label_col='cell_label',\n",
    "                          mask_key = {0: 'cd8+', 1: 'other', 2: 'tumor+', 3: 'ungated/omit'},\n",
    "                          full_color_map= {idx:color for idx,color in enumerate(['black','green','grey','purple','yellow','orange',])},\n",
    "                          return_samples=False\n",
    "                         ):\n",
    "\n",
    "\n",
    "    parse_samples = tumor_parses.loc[case_id].sample(n_samples)\n",
    "\n",
    "    print('Loading FOV data')\n",
    "    seg, data = load_fov_data(parse_samples)\n",
    "    print('Normalizing for vis')\n",
    "    store = quantile_normalize_fov_examples(data, channels=channels, lower_clip_percentile=lower_clip_percentile, upper_clip_percentile=upper_clip_percentile)\n",
    "\n",
    "\n",
    "    set_rc(int(n_samples*width), height)\n",
    "    fig, axes = plt.subplots(2,n_samples)\n",
    "    \n",
    "    for i, (fov_idx, row) in enumerate(parse_samples.iterrows()):\n",
    "        # plt.suptitle('Red: DAPI \\n Green: CD8 \\n Blue: Tumor')\n",
    "        axes[0,i].imshow(mark_boundaries(store[i], seg[i,...,0].astype(int), color=(0.5, 0.5, 0.5)))\n",
    "        # axes[0,i].imshow(store)\n",
    "\n",
    "\n",
    "        tile = np.copy(seg[i,...,0])\n",
    "        fill_mask = np.copy(seg[i,...,0])\n",
    "\n",
    "        fov_calls = cell_df.loc[(case_id, fov_idx)]\n",
    "\n",
    "\n",
    "        # print('Dropping big cells (1500 area)')\n",
    "        fov_calls = fov_calls.loc[fov_calls['area'] < max_cell_area]\n",
    "\n",
    "        tile_img = ((tile > 0)*255).astype(np.uint8)\n",
    "        # print(fov_calls[cell_label_col].value_counts())\n",
    "        for cell_type_idx, cell_type in mask_key.items():\n",
    "            temp_mask = np.isin(tile, fov_calls.loc[fov_calls[cell_label_col] == cell_type,'label'].values)\n",
    "            fill_mask[temp_mask] = cell_type_idx+1\n",
    "\n",
    "\n",
    "        # catch cells we dropped and mark as orange\n",
    "        fill_mask[fill_mask > len(mask_key)] = len(mask_key)+1\n",
    "\n",
    "        plot_colors = [full_color_map[k] for k in np.unique(fill_mask.astype(int))[1:]]\n",
    "        colormapped = label2rgb(fill_mask.astype(int), tile_img, alpha=1., colors=plot_colors)\n",
    "        axes[1,i].imshow(mark_boundaries(colormapped,tile.astype(int), color=(0,0,0)))\n",
    "    plt.show()\n",
    "        \n",
    "    if return_samples:\n",
    "        return parse_samples, seg, data, fill_mask, fov_calls, store\n",
    "\n",
    "def visualize_fov_samples_clusters(case_id, cell_df, tumor_parses, n_samples=5, width=7, height=15, channels=[2, 3, 0], \n",
    "                          lower_clip_percentile=25, upper_clip_percentile=99, max_cell_area=2000,\n",
    "                          cell_label_col='cell_label',\n",
    "                          mask_key = {0: 'cd8+', 1: 'other', 2: 'tumor+', 3: 'ungated/omit'},\n",
    "                          full_color_map= {idx:color for idx,color in enumerate(['black','green','grey','purple','yellow','orange',])},\n",
    "                          return_samples=False\n",
    "                         ):\n",
    "\n",
    "\n",
    "    parse_samples = tumor_parses.loc[case_id].sample(n_samples)\n",
    "\n",
    "    print('Loading FOV data')\n",
    "    seg, data = load_fov_data(parse_samples)\n",
    "    print('Normalizing for vis')\n",
    "    store = quantile_normalize_fov_examples(data, channels=channels, lower_clip_percentile=lower_clip_percentile, upper_clip_percentile=upper_clip_percentile)\n",
    "\n",
    "\n",
    "    set_rc(int(n_samples*width), height)\n",
    "    fig, axes = plt.subplots(2,n_samples)\n",
    "    \n",
    "    for i, (fov_idx, row) in enumerate(parse_samples.iterrows()):\n",
    "        print(i, fov_idx)\n",
    "        # plt.suptitle('Red: DAPI \\n Green: CD8 \\n Blue: Tumor')\n",
    "        axes[0,i].imshow(mark_boundaries(store[i], seg[i,...,0].astype(int), color=(0.5, 0.5, 0.5)))\n",
    "        # axes[0,i].imshow(store)\n",
    "\n",
    "\n",
    "        tile = np.copy(seg[i,...,0])\n",
    "        fill_mask = np.copy(seg[i,...,0])\n",
    "\n",
    "        fov_calls = cell_df.loc[(case_id, fov_idx)]\n",
    "\n",
    "\n",
    "        # print('Dropping big cells (1500 area)')\n",
    "        fov_calls = fov_calls.loc[fov_calls['area'] < max_cell_area]\n",
    "\n",
    "        tile_img = ((tile > 0)*255).astype(np.uint8)\n",
    "        # print(fov_calls[cell_label_col].value_counts())\n",
    "        \n",
    "        for cell_type_idx, cell_type in mask_key.items():\n",
    "            temp_mask = np.isin(tile, fov_calls.loc[fov_calls[cell_label_col] == cell_type,'label'].values)\n",
    "            fill_mask[temp_mask] = cell_type_idx+1\n",
    "\n",
    "        colormapped = label2rgb(fill_mask.astype(int), tile_img, alpha=1.,)\n",
    "        axes[1,i].imshow(mark_boundaries(colormapped,tile.astype(int), color=(0,0,0)))\n",
    "    plt.show()\n",
    "        \n",
    "    if return_samples:\n",
    "        return parse_samples, seg, data, fill_mask, fov_calls"
   ]
  },
  {
   "cell_type": "code",
   "execution_count": null,
   "metadata": {
    "tags": []
   },
   "outputs": [],
   "source": [
    "def filter_clusters_post_morph_flagging(df, morph_flag_col='individual_morph_flag', morph_flag_cutoff=0.5,\n",
    "                                        dapi_cutoff=7.0, omit_thresh=0.2, lower_thresh=0.3, upper_thresh = 0.6):\n",
    "    \"\"\"\n",
    "    Filter through cell type proportions sequentially based on manually selected gates \n",
    "    Intended to catch FP/FN and refine cell type assignments\n",
    "    \"\"\"\n",
    "    df['filtered_cell_type'] = np.nan\n",
    "    \n",
    "    # order matters here since we'll use nan filter to decide what is considered in loop\n",
    "    cell_cols = [\n",
    "        'cell_label_tumor+',\n",
    "        'cell_label_cd8+',\n",
    "    ]\n",
    "    \n",
    "    crit = df['dapi'] < dapi_cutoff\n",
    "    df.loc[crit, 'filtered_cell_type'] = 'dapi_omit'\n",
    "    \n",
    "    crit = (df['filtered_cell_type'].isna()) & (df[morph_flag_col] > morph_flag_cutoff)\n",
    "    df.loc[crit, 'filtered_cell_type'] = 'morphology_omit'\n",
    "\n",
    "    crit = (df['filtered_cell_type'].isna()) & (df['manual_cell_call_Omit'] >= omit_thresh)\n",
    "    df.loc[crit, 'filtered_cell_type'] = 'cd8-af-ratio_omit'\n",
    "    \n",
    "    for col in cell_cols:\n",
    "        crit = (df['filtered_cell_type'].isna()) & (df[col] > upper_thresh)\n",
    "        df.loc[crit, 'filtered_cell_type'] = f'filtered_{col}'\n",
    "    \n",
    "        crit = (df['filtered_cell_type'].isna()) & (df[col] > lower_thresh) & (df[col] < upper_thresh)\n",
    "        df.loc[crit, 'filtered_cell_type'] = f'unclear_intermediate'\n",
    "    \n",
    "    df['filtered_cell_type'] = df['filtered_cell_type'].fillna('filtered_meta_other')\n",
    "    "
   ]
  },
  {
   "cell_type": "code",
   "execution_count": null,
   "metadata": {},
   "outputs": [],
   "source": [
    "from sklearn.linear_model import LinearRegression\n",
    "\n",
    "def regress_out(df, x, y, fit_intercept=True):\n",
    "    linreg = LinearRegression(fit_intercept=fit_intercept)\n",
    "    linreg.fit(df[[x]], y=df[[y]])\n",
    "    residuals = linreg.predict(df[[x]])\n",
    "    df[f'pred_{y}_cond_{x}'] = residuals\n",
    "    df[f'residual_{y}_cond_{x}'] = df[y] - df[f'pred_{y}_cond_{x}']"
   ]
  },
  {
   "cell_type": "code",
   "execution_count": null,
   "metadata": {},
   "outputs": [],
   "source": [
    "def run_af_regression(df, marker_channels=['dapi', 'foxp3', 'tumor_specific', 'cd8', 'pd1', 'pdl1']):\n",
    "    print(df.shape)\n",
    "    for channel in marker_channels:\n",
    "        regress_out(df, 'autofluorescence', channel, fit_intercept=True)\n",
    "    \n",
    "    return df"
   ]
  },
  {
   "cell_type": "code",
   "execution_count": null,
   "metadata": {},
   "outputs": [],
   "source": [
    "# `20220824_scratch_pd1_foxp3_checking` NB source\n",
    "\n",
    "cutoff_agg = pd.read_csv('./20220822_manual_cutoffs_temp_all_cells.csv',index_col=0).transpose()\n",
    "cutoff_agg.index.name = 'case_id'\n",
    "\n",
    "updated_cutoffs = pd.read_csv('./20220823_manual_cutoffs_temp_v3.csv',index_col=0).transpose()\n",
    "updated_cutoffs.index.name = 'case_id'\n",
    "\n",
    "evaluation = pd.read_csv('cutoff_set_comparison_results.csv', index_col=0).iloc[:,0]"
   ]
  },
  {
   "cell_type": "code",
   "execution_count": null,
   "metadata": {},
   "outputs": [],
   "source": [
    "f_update = '/mnt/disks/image_data/immunoprofile/ccrcc_subset_processing/ccrcc_ip14_arcsinh_quant_agg_with_basic_cutoffs__rerun_correct_grade_seg__hybrid_manual_global_louvain__morph_flag__celltypes.pkl'\n",
    "labeled_data_updated = pd.read_pickle(f_update)\n",
    "\n",
    "meta_map = {False:'Stroma/Omitted (H&E)',True:'Tumor (H&E)'}\n",
    "labeled_data_updated['meta'] = (~labeled_data_updated['collapsed_grade_seg'].isin(['adj_grade_seg_label_0','adj_grade_seg_label_1'])).map(meta_map)\n",
    "labeled_data_updated['merged_labels'] = labeled_data_updated['collapsed_grade_seg'].apply(lambda x: int(x.split('_')[-1]) - 1)\n",
    "\n",
    "fov_out_dir = '/mnt/disks/image_data/immunoprofile/ccrcc_subset_processing/fov_tiles/filtered'\n",
    "template = '/mnt/disks/image_data/immunoprofile/ccrcc_subset_processing/fov_tiles/filtered/{case_id}_fov{x}_{y}_{format}.nc'\n",
    "parses = glob(fov_out_dir+'/*')\n",
    "parses = format_parses(template, parses)\n",
    "parses = parses.pivot(index=['case_id','x','y'], values='filepath', columns='format')\n",
    "parses['fov'] = ['_'.join(x[1:]) for x in parses.index]\n",
    "\n",
    "# colors = [to_rgb('grey'), to_rgb('tab:purple'), to_rgb('tab:green'), ]\n",
    "full_color_map = {idx:color for idx,color in enumerate(['black','green','grey','purple','yellow','orange',])}\n",
    "colors = [to_rgb('grey'), to_rgb('tab:green'), to_rgb('tab:purple'), ]\n",
    "\n",
    "\n",
    "mask_key = {0: 'cd8+', 1: 'other', 2: 'tumor+', 3: 'ungated/omit'}\n",
    "\n",
    "fov_meta_map = labeled_data_updated.reset_index()[['case_id','fov','meta']].drop_duplicates().set_index(['case_id','fov'])\n",
    "\n",
    "parses_meta = parses.reset_index().set_index(['case_id','fov']).join(fov_meta_map)\n",
    "tumor_parses = parses_meta.loc[parses_meta['meta'] == 'Tumor (H&E)']\n",
    "nontumor_parses = parses_meta.loc[parses_meta['meta'] != 'Tumor (H&E)']"
   ]
  },
  {
   "cell_type": "code",
   "execution_count": null,
   "metadata": {
    "tags": []
   },
   "outputs": [],
   "source": [
    "mask_key = {i:v for i,v in enumerate(filtered_cats)}\n",
    "full_color_map= {idx:color for idx,color in enumerate(['black','green','pink','grey','yellow','white','red','cyan','orange'])}\n",
    "named_color_map = dict(zip(filtered_cats,['green','pink','grey','yellow','white','red','cyan','orange']))\n",
    "\n",
    "# # for case_id in ['IP_18_A00093']:\n",
    "# for case_id in candidates.sample(5).index.values:\n",
    "#     print(case_id)\n",
    "#     df = labeled_data_updated.loc[[case_id]]\n",
    "#     print(df.shape)\n",
    "    \n",
    "#     print(named_color_map)\n",
    "#     cell_samples = df.loc[(case_id, tumor_parses.loc[case_id].index.values),:]\n",
    "#     tumor_parses_subset = tumor_parses.loc[(case_id, get_indices(cell_samples.value_counts(['fov','filtered_cell_type',],sort=False).loc[(slice(None),'filtered_cell_label_cd8+')] > 5)),:]\n",
    "#     parse_samples, seg, data, fill_mask, fov_calls, store = visualize_fov_samples_postcutoff(case_id, df, tumor_parses_subset, cell_label_col='filtered_cell_type', n_samples=5,\n",
    "#                                      mask_key=mask_key, full_color_map=full_color_map, return_samples=True)"
   ]
  },
  {
   "cell_type": "code",
   "execution_count": null,
   "metadata": {},
   "outputs": [],
   "source": [
    "\n",
    "# pos_samples = pd.Series(get_indices(alt_crit)).sample(10)\n",
    "# tumor_parses_subset = tumor_parses.loc[(case_id,list(pos_samples)),:]    \n",
    "\n",
    "# parse_samples, seg, data, fill_mask, fov_calls, store = visualize_fov_samples_postcutoff(case_id, df, tumor_parses_subset,\n",
    "#                                                                                          channels=[5,2,3], lower_clip_percentile=5, upper_clip_percentile=95,\n",
    "#                                                                                          cell_label_col='res_pdl1_pos_tumor', n_samples=10,\n",
    "#                                  mask_key={0:0, 1:1, 2:2}, full_color_map=full_color_map, return_samples=True,\n",
    "#                                                                                     )\n"
   ]
  },
  {
   "cell_type": "code",
   "execution_count": null,
   "metadata": {},
   "outputs": [],
   "source": []
  },
  {
   "cell_type": "code",
   "execution_count": null,
   "metadata": {},
   "outputs": [],
   "source": []
  },
  {
   "cell_type": "code",
   "execution_count": null,
   "metadata": {
    "tags": []
   },
   "outputs": [],
   "source": [
    "# case_id = 'IP_19_R00053'\n",
    "# 'IP_19_T00810', 'IP_19_R00053'\n",
    "\n",
    "for case_id in ['IP_19_R00053']:\n",
    "    print('\\n\\n\\n', case_id)\n",
    "    df = labeled_data_updated.loc[[case_id]]\n",
    "    print(df.shape)\n",
    "\n",
    "    rerun =  pd.concat([run_af_regression(subdf) for cell_type, subdf in df.groupby('filtered_cell_type')])\n",
    "\n",
    "    for marker in qptiff_channels[:-1]:\n",
    "        rerun[f'res_{marker}'] = rerun[f'residual_{marker}_cond_autofluorescence']\n",
    "\n",
    "    df = rerun\n",
    "    \n",
    "    df['res_pdl1_pos'] = df['res_pdl1'] > 0.\n",
    "    df['res_pdl1_pos_tumor'] = (df['filtered_cell_type'] == 'filtered_cell_label_tumor+') & df['res_pdl1_pos']\n",
    "    df['res_pdl1_pos_tumor'] = df['res_pdl1_pos_tumor'].astype(int)+2\n",
    "    df.loc[df['filtered_cell_type'] != 'filtered_cell_label_tumor+', 'res_pdl1_pos_tumor'] = 0\n",
    "    \n",
    "    set_rc(5,5)\n",
    "    sns.histplot(x='res_pdl1', stat='density', data=df.loc[df['filtered_cell_type'] == 'filtered_cell_label_tumor+'].reset_index(), alpha=0.5)\n",
    "    plt.show()\n",
    "    \n",
    "    print(named_color_map)\n",
    "    cell_samples = df.loc[(case_id, tumor_parses.loc[case_id].index.values),:]\n",
    "\n",
    "    # crit = cell_samples.value_counts(['fov','filtered_cell_type',],sort=False).loc[(slice(None),'filtered_cell_label_tumor+')] > 0\n",
    "\n",
    "    crit = cell_samples.value_counts(['fov','res_pdl1_pos_tumor',],sort=False).loc[(slice(None),3)] < 5\n",
    "    alt_crit = cell_samples.value_counts(['fov','res_pdl1_pos_tumor',],sort=False).loc[(slice(None),3)] > 15\n",
    "    # alt_crit = crit & alt_crit\n",
    "\n",
    "    try:\n",
    "        neg_samples = pd.Series(get_indices(crit)).sample(5)\n",
    "        pos_samples = pd.Series(get_indices(alt_crit)).sample(5)\n",
    "\n",
    "\n",
    "        tumor_parses_subset = tumor_parses.loc[(case_id, list(neg_samples) + list(pos_samples)),:]\n",
    "\n",
    "        parse_samples, seg, data, fill_mask, fov_calls, store = visualize_fov_samples_postcutoff(case_id, df, tumor_parses_subset,\n",
    "                                                                                                 channels=[5,2,3], lower_clip_percentile=25, upper_clip_percentile=95,\n",
    "                                                                                                 cell_label_col='res_pdl1_pos_tumor', n_samples=6,\n",
    "                                         mask_key={0:0, 1:1, 2:2}, full_color_map=full_color_map, return_samples=True,\n",
    "                                                                                            )\n",
    "        print(parse_samples)\n",
    "    except Exception as e:\n",
    "        print(e)\n",
    "        print('Probably not enough examples!')"
   ]
  },
  {
   "cell_type": "code",
   "execution_count": null,
   "metadata": {},
   "outputs": [],
   "source": [
    "subset = df.loc[df['filtered_cell_type'] == 'filtered_cell_label_tumor+']"
   ]
  },
  {
   "cell_type": "code",
   "execution_count": null,
   "metadata": {},
   "outputs": [],
   "source": [
    "set_rc(5,5)\n",
    "sns.histplot(x='tumor_specific', y='pdl1', data=subset.reset_index())"
   ]
  },
  {
   "cell_type": "code",
   "execution_count": null,
   "metadata": {},
   "outputs": [],
   "source": [
    "set_rc(5,5)\n",
    "sns.jointplot(x='tumor_specific', y='res_pdl1', kind='hist', data=subset.reset_index())"
   ]
  },
  {
   "cell_type": "code",
   "execution_count": null,
   "metadata": {},
   "outputs": [],
   "source": [
    "subset['pt'] = subset['pdl1']/subset['tumor_specific']"
   ]
  },
  {
   "cell_type": "code",
   "execution_count": null,
   "metadata": {},
   "outputs": [],
   "source": [
    "set_rc(5,5)\n",
    "sns.jointplot(x='res_pdl1', y='pt', kind='hist', data=subset.reset_index())"
   ]
  },
  {
   "cell_type": "code",
   "execution_count": null,
   "metadata": {},
   "outputs": [],
   "source": [
    "df['pt'] = df['pdl1']/df['tumor_specific']"
   ]
  },
  {
   "cell_type": "code",
   "execution_count": null,
   "metadata": {},
   "outputs": [],
   "source": [
    "set_rc(5,5)\n",
    "sns.histplot(x='res_pdl1', data=df.sample(frac=0.1).reset_index())"
   ]
  },
  {
   "cell_type": "code",
   "execution_count": null,
   "metadata": {},
   "outputs": [],
   "source": [
    "subset = df.loc[df['filtered_cell_type'] == 'filtered_cell_label_cd8+']"
   ]
  },
  {
   "cell_type": "code",
   "execution_count": null,
   "metadata": {},
   "outputs": [],
   "source": [
    "set_rc(5,5)\n",
    "sns.jointplot(x='autofluorescence', y='res_pd1', kind='hist', data=subset.reset_index())"
   ]
  },
  {
   "cell_type": "code",
   "execution_count": null,
   "metadata": {},
   "outputs": [],
   "source": [
    "set_rc(5,5)\n",
    "sns.jointplot(x='autofluorescence', y='pd1', kind='hist', data=subset.reset_index())"
   ]
  },
  {
   "cell_type": "code",
   "execution_count": null,
   "metadata": {},
   "outputs": [],
   "source": [
    "x"
   ]
  },
  {
   "cell_type": "code",
   "execution_count": null,
   "metadata": {},
   "outputs": [],
   "source": [
    "(df['meta'] == 'Tumor (H&E)').mean()"
   ]
  },
  {
   "cell_type": "code",
   "execution_count": null,
   "metadata": {
    "tags": []
   },
   "outputs": [],
   "source": [
    "pdl1_mode_check = {}\n",
    "\n",
    "for case_id in candidates.sample(frac=1).index.values:\n",
    "    # print('\\n\\n\\n', case_id)\n",
    "    df = labeled_data_updated.loc[[case_id]]\n",
    "    print(df.shape)\n",
    "\n",
    "    subset = df.loc[df['filtered_cell_type'] == 'filtered_cell_label_tumor+'] \n",
    "    set_rc(15,5)\n",
    "    fig,axes = plt.subplots(1,3)\n",
    "    \n",
    "    sns.histplot(x='tumor_specific', y='pdl1', data=subset.reset_index(), ax=axes[0])\n",
    "    sns.histplot(x='autofluorescence', y='pdl1', data=subset.reset_index(), ax=axes[1])\n",
    "    sns.histplot(x='pdl1', y='res_pdl1', data=subset.reset_index(), ax=axes[2])\n",
    "    plt.show()\n",
    "\n",
    "    \n",
    "    print('Limiting to H&E based tumor area')\n",
    "    subset = subset.loc[subset['meta'] == 'Tumor (H&E)']\n",
    "    print(subset.shape)\n",
    "    set_rc(15,5)\n",
    "    fig,axes = plt.subplots(1,3)\n",
    "    \n",
    "    sns.histplot(x='tumor_specific', y='pdl1', data=subset.reset_index(), ax=axes[0])\n",
    "    sns.histplot(x='autofluorescence', y='pdl1', data=subset.reset_index(), ax=axes[1])\n",
    "    sns.histplot(x='pdl1', y='res_pdl1', data=subset.reset_index(), ax=axes[2])\n",
    "    plt.show()\n",
    "\n",
    "    pdl1_mode_check[case_id] = int(input('Modes?'))"
   ]
  },
  {
   "cell_type": "code",
   "execution_count": null,
   "metadata": {},
   "outputs": [],
   "source": [
    "pdl1_mode_check"
   ]
  },
  {
   "cell_type": "code",
   "execution_count": null,
   "metadata": {
    "tags": []
   },
   "outputs": [],
   "source": [
    "\n",
    "for case_id in ['IP_19_G00660']:\n",
    "    # print('\\n\\n\\n', case_id)\n",
    "    df = labeled_data_updated.loc[[case_id]]\n",
    "    print(df.shape)\n",
    "\n",
    "    subset = df.loc[df['filtered_cell_type'] == 'filtered_cell_label_tumor+'] \n",
    "    set_rc(15,5)\n",
    "    fig,axes = plt.subplots(1,3)\n",
    "    \n",
    "    sns.histplot(x='tumor_specific', y='pdl1', data=subset.reset_index(), ax=axes[0])\n",
    "    sns.histplot(x='autofluorescence', y='pdl1', data=subset.reset_index(), ax=axes[1])\n",
    "    sns.histplot(x='pdl1', y='res_pdl1', data=subset.reset_index(), ax=axes[2])\n",
    "    plt.show()\n",
    "\n",
    "    \n",
    "    print('Limiting to H&E based tumor area')\n",
    "    subset = subset.loc[subset['meta'] == 'Tumor (H&E)']\n",
    "    print(subset.shape)\n",
    "    set_rc(15,5)\n",
    "    fig,axes = plt.subplots(1,3)\n",
    "    \n",
    "    sns.histplot(x='tumor_specific', y='pdl1', data=subset.reset_index(), ax=axes[0])\n",
    "    sns.histplot(x='autofluorescence', y='pdl1', data=subset.reset_index(), ax=axes[1])\n",
    "    sns.histplot(x='pdl1', y='res_pdl1', data=subset.reset_index(), ax=axes[2])\n",
    "    plt.show()\n",
    "\n",
    "    # pdl1_mode_check[case_id] = int(input('Modes?'))"
   ]
  },
  {
   "cell_type": "code",
   "execution_count": null,
   "metadata": {},
   "outputs": [],
   "source": []
  },
  {
   "cell_type": "code",
   "execution_count": null,
   "metadata": {
    "tags": []
   },
   "outputs": [],
   "source": [
    "for case_id in candidates.sample(5).index.values:\n",
    "    print('\\n\\n\\n', case_id)\n",
    "    df = labeled_data_updated.loc[[case_id]]\n",
    "    print(df.shape)\n",
    "\n",
    "    subset = df.loc[df['filtered_cell_type'] == 'filtered_cell_label_cd8+'] \n",
    "    set_rc(20,5)\n",
    "    fig,axes = plt.subplots(1,4)\n",
    "    \n",
    "    sns.histplot(x='cd8', y='pd1', data=subset.reset_index(), ax=axes[0])\n",
    "    sns.histplot(x='autofluorescence', y='pd1', data=subset.reset_index(), ax=axes[1])\n",
    "    sns.histplot(x='autofluorescence', y='res_pd1', data=subset.reset_index(), ax=axes[2])\n",
    "    sns.histplot(x='pd1', y='res_pd1', data=subset.reset_index(), ax=axes[3])\n",
    "    plt.show()\n",
    "\n",
    "    \n",
    "    print('Limiting to H&E based tumor area')\n",
    "    subset = subset.loc[subset['meta'] == 'Tumor (H&E)']\n",
    "    print(subset.shape)\n",
    "    set_rc(20,5)\n",
    "    fig,axes = plt.subplots(1,4)\n",
    "    \n",
    "    sns.histplot(x='cd8', y='pd1', data=subset.reset_index(), ax=axes[0])\n",
    "    sns.histplot(x='autofluorescence', y='pd1', data=subset.reset_index(), ax=axes[1])\n",
    "    sns.histplot(x='autofluorescence', y='res_pd1', data=subset.reset_index(), ax=axes[2])\n",
    "    sns.histplot(x='pd1', y='res_pd1', data=subset.reset_index(), ax=axes[3])\n",
    "    plt.show()\n"
   ]
  },
  {
   "cell_type": "code",
   "execution_count": null,
   "metadata": {},
   "outputs": [],
   "source": [
    "def get_cd8(df, label_col='filtered_cell_type', label_key='filtered_cell_label_cd8+'):\n",
    "    return df.loc[df[label_col] == label_key]\n",
    "\n",
    "def get_tumor(df, label_col='filtered_cell_type', label_key='filtered_cell_label_tumor+'):\n",
    "    return df.loc[df[label_col] == label_key]"
   ]
  },
  {
   "cell_type": "code",
   "execution_count": null,
   "metadata": {},
   "outputs": [],
   "source": []
  },
  {
   "cell_type": "code",
   "execution_count": null,
   "metadata": {},
   "outputs": [],
   "source": [
    "subset = get_cd8(labeled_data_updated)"
   ]
  },
  {
   "cell_type": "code",
   "execution_count": null,
   "metadata": {},
   "outputs": [],
   "source": [
    "set_rc(5,5)\n",
    "sns.histplot(x='res_pd1', data=subset.reset_index())"
   ]
  },
  {
   "cell_type": "code",
   "execution_count": null,
   "metadata": {},
   "outputs": [],
   "source": [
    "run_gating_flex(subset, 'res_pd1', 2)"
   ]
  },
  {
   "cell_type": "code",
   "execution_count": null,
   "metadata": {},
   "outputs": [],
   "source": [
    "subset.groupby('gmm_res_pd1')['res_pd1'].min()"
   ]
  },
  {
   "cell_type": "markdown",
   "metadata": {},
   "source": [
    "### Check Visual Relationship Between PD1 Residual Score and Appearance"
   ]
  },
  {
   "cell_type": "code",
   "execution_count": null,
   "metadata": {},
   "outputs": [],
   "source": [
    "full_color_map"
   ]
  },
  {
   "cell_type": "code",
   "execution_count": null,
   "metadata": {},
   "outputs": [],
   "source": [
    "color_map = {idx:color for idx,color in enumerate(['black','grey','white','cyan','orange','yellow','green',])}"
   ]
  },
  {
   "cell_type": "code",
   "execution_count": null,
   "metadata": {},
   "outputs": [],
   "source": [
    "color_map"
   ]
  },
  {
   "cell_type": "code",
   "execution_count": null,
   "metadata": {
    "tags": []
   },
   "outputs": [],
   "source": [
    "# case_id = 'IP_19_R00053'\n",
    "# 'IP_19_T00810', 'IP_19_R00053'\n",
    "\n",
    "n_samples = 5\n",
    "marker = 'pd1'\n",
    "cell_type = 'filtered_cell_label_cd8+'\n",
    "min_residual = 0.463\n",
    "channels = [4,3,2]\n",
    "\n",
    "\n",
    "for case_id in candidates.sample(3).index.values:\n",
    "    print('\\n\\n\\n', case_id)\n",
    "    df = labeled_data_updated.loc[[case_id]]\n",
    "    print(df.shape)\n",
    "\n",
    "    print('Retaining global based residuals')\n",
    "#     rerun =  pd.concat([run_af_regression(subdf) for cell_type, subdf in df.groupby('filtered_cell_type')])\n",
    "#     for marker in qptiff_channels[:-1]:\n",
    "#         rerun[f'res_{marker}'] = rerun[f'residual_{marker}_cond_autofluorescence']\n",
    "#     df = rerun\n",
    "    \n",
    "    df[f'res_{marker}_pos'] = df[f'res_{marker}'] > min_residual\n",
    "    df[f'res_{marker}_pos_subset'] = (df[f'filtered_cell_type'] == cell_type) & df[f'res_{marker}_pos']\n",
    "    df[f'res_{marker}_pos_subset'] = df[f'res_{marker}_pos_subset'].astype(int)+2\n",
    "    df.loc[df[f'filtered_cell_type'] != cell_type, f'res_{marker}_pos_subset'] = 0\n",
    "    \n",
    "    set_rc(20,5)\n",
    "    fig,axes = plt.subplots(1,4)\n",
    "    subset = df.loc[df['meta'] == 'Tumor (H&E)']\n",
    "    subset = subset.loc[subset['filtered_cell_type'] == cell_type]\n",
    "    sns.histplot(x='cd8', y='pd1', data=subset.reset_index(), ax=axes[0])\n",
    "    sns.histplot(x='autofluorescence', y='pd1', data=subset.reset_index(), ax=axes[1])\n",
    "    sns.histplot(x='autofluorescence', y='res_pd1', data=subset.reset_index(), ax=axes[2])\n",
    "    sns.histplot(x='pd1', y='res_pd1', data=subset.reset_index(), ax=axes[3])\n",
    "    plt.show()\n",
    "    \n",
    "    \n",
    "    print(named_color_map)\n",
    "    cell_samples = df.loc[(case_id, tumor_parses.loc[case_id].index.values),:]\n",
    "\n",
    "    crit = cell_samples.value_counts([f'fov','filtered_cell_type',],sort=False).loc[(slice(None),cell_type)] > 25\n",
    "    filtered_indices = get_indices(crit)\n",
    "    \n",
    "    alt_crit = cell_samples.value_counts([f'fov',f'res_{marker}_pos_subset',],sort=False).loc[(slice(None),3)] > 5\n",
    "    alt_indices = get_indices(alt_crit)\n",
    "    \n",
    "    if len(alt_indices) >= n_samples:\n",
    "        print('Found examples')\n",
    "        tumor_parses_subset = tumor_parses.loc[(case_id, alt_indices),:]\n",
    "        print(len(tumor_parses_subset))\n",
    "    else:\n",
    "        print('cant find enough examples')\n",
    "        tumor_parses_subset = tumor_parses.loc[(case_id, filtered_indices),:]\n",
    "        print(len(tumor_parses_subset))\n",
    "\n",
    "\n",
    "    parse_samples, seg, data, fill_mask, fov_calls, store = visualize_fov_samples_postcutoff(case_id, df, tumor_parses_subset,\n",
    "                                                                                             channels=channels, lower_clip_percentile=5, upper_clip_percentile=95,\n",
    "                                                                                             cell_label_col=f'res_{marker}_pos_subset', n_samples=n_samples,\n",
    "                                     mask_key={0:0, 1:1, 2:2}, full_color_map=color_map, return_samples=True )\n",
    "\n",
    "        \n",
    "    # crit = cell_samples.value_counts([f'fov','res_{marker}_pos_subset',],sort=False).loc[(slice(None),3)] < 5\n",
    "    # alt_crit = cell_samples.value_counts([f'fov','res_{marker}_pos_subset',],sort=False).loc[(slice(None),3)] > 5\n",
    "    # # alt_crit = crit & alt_crit\n",
    "\n",
    "#     try:\n",
    "#         neg_samples = pd.Series(get_indices(crit)).sample(5)\n",
    "#         pos_samples = pd.Series(get_indices(alt_crit)).sample(5)\n",
    "\n",
    "\n",
    "#         tumor_parses_subset = tumor_parses.loc[(case_id, list(neg_samples) + list(pos_samples)),:]\n",
    "\n",
    "#         parse_samples, seg, data, fill_mask, fov_calls, store = visualize_fov_samples_postcutoff(case_id, df, tumor_parses_subset,\n",
    "#                                                                                                  channels=[5,2,3], lower_clip_percentile=5, upper_clip_percentile=95,\n",
    "#                                                                                                  cell_label_col='res_{marker}_pos_subset', n_samples=6,\n",
    "#                                          mask_key={0:0, 1:1, 2:2}, full_color_map=full_color_map, return_samples=True,\n",
    "#                                                                                             )\n",
    "#         print(parse_samples)\n",
    "#     except Exception as e:\n",
    "#         print(e)\n",
    "#         print('Probably not enough examples!')"
   ]
  },
  {
   "cell_type": "code",
   "execution_count": null,
   "metadata": {},
   "outputs": [],
   "source": [
    "pdl1_mode_check"
   ]
  },
  {
   "cell_type": "code",
   "execution_count": null,
   "metadata": {},
   "outputs": [],
   "source": [
    "subset = get_tumor(labeled_data_updated)"
   ]
  },
  {
   "cell_type": "code",
   "execution_count": null,
   "metadata": {},
   "outputs": [],
   "source": [
    "subset = subset.loc[get_indices(pd.Series(pdl1_mode_check) == 2)]"
   ]
  },
  {
   "cell_type": "code",
   "execution_count": null,
   "metadata": {},
   "outputs": [],
   "source": [
    "set_rc(6,6)\n",
    "sns.histplot(x='res_pdl1', data=subset.reset_index())"
   ]
  },
  {
   "cell_type": "code",
   "execution_count": null,
   "metadata": {},
   "outputs": [],
   "source": [
    "set_rc(6,6)\n",
    "sns.displot(x='res_pdl1', col='case_id', data=subset.reset_index())"
   ]
  },
  {
   "cell_type": "code",
   "execution_count": null,
   "metadata": {},
   "outputs": [],
   "source": [
    "cutoffs = []\n",
    "for case_id in get_indices(pd.Series(pdl1_mode_check) == 2):\n",
    "    print(case_id)\n",
    "    tmp = subset.loc[case_id]\n",
    "\n",
    "    run_gating_flex(tmp, 'res_pdl1', 3)\n",
    "\n",
    "    cut = tmp.groupby('gmm_res_pdl1')['res_pdl1'].min().max()\n",
    "    cutoffs.append(cut)\n",
    "    sns.histplot(x='res_pdl1', data=tmp.reset_index())\n",
    "    plt.axvline(cut, c='r')\n",
    "    plt.show()"
   ]
  },
  {
   "cell_type": "code",
   "execution_count": null,
   "metadata": {},
   "outputs": [],
   "source": [
    "np.array(cutoffs).mean()"
   ]
  },
  {
   "cell_type": "code",
   "execution_count": null,
   "metadata": {},
   "outputs": [],
   "source": [
    "pd.Series(cutoffs).describe()"
   ]
  },
  {
   "cell_type": "code",
   "execution_count": null,
   "metadata": {},
   "outputs": [],
   "source": [
    "subset = get_tumor(labeled_data_updated)"
   ]
  },
  {
   "cell_type": "code",
   "execution_count": null,
   "metadata": {
    "tags": []
   },
   "outputs": [],
   "source": [
    "cutoffs = []\n",
    "for case_id in get_indices(pd.Series(pdl1_mode_check) != 2):\n",
    "    print(case_id)\n",
    "    tmp = subset.loc[case_id]\n",
    "\n",
    "    run_gating_flex(tmp, 'res_pdl1', 3)\n",
    "\n",
    "    cut = tmp.groupby('gmm_res_pdl1')['res_pdl1'].min().max()\n",
    "    cutoffs.append(cut)\n",
    "    set_rc(5,5)\n",
    "    sns.histplot(x='res_pdl1', data=tmp.reset_index())\n",
    "    plt.axvline(cut, c='r')\n",
    "    plt.show()\n",
    "pd.Series(cutoffs).describe()"
   ]
  },
  {
   "cell_type": "code",
   "execution_count": null,
   "metadata": {},
   "outputs": [],
   "source": [
    "subset = get_cd8(labeled_data_updated)\n",
    "marker = 'pd1'\n",
    "cutoffs = []\n",
    "for case_id in candidates.index.values:\n",
    "    print(case_id)\n",
    "    tmp = subset.loc[case_id]\n",
    "\n",
    "    run_gating_flex(tmp, f'res_{marker}', 3)\n",
    "\n",
    "    cut = tmp.groupby(f'gmm_res_{marker}')[f'res_{marker}'].min().max()\n",
    "    cutoffs.append(cut)\n",
    "    # set_rc(5,5)\n",
    "    # sns.histplot(x='res_pdl1', data=tmp.reset_index())\n",
    "    # plt.axvline(cut, c='r')\n",
    "    # plt.show()\n",
    "pd.Series(cutoffs).describe()"
   ]
  },
  {
   "cell_type": "code",
   "execution_count": null,
   "metadata": {},
   "outputs": [],
   "source": []
  },
  {
   "cell_type": "code",
   "execution_count": null,
   "metadata": {},
   "outputs": [],
   "source": [
    "crit"
   ]
  },
  {
   "cell_type": "code",
   "execution_count": null,
   "metadata": {
    "tags": []
   },
   "outputs": [],
   "source": [
    "# subset = get_cd8(labeled_data_updated)\n",
    "# marker = 'pd1'\n",
    "# cutoffs = []\n",
    "# for case_id in candidates.index.values:\n",
    "#     print(case_id)\n",
    "#     tmp = subset.loc[case_id]\n",
    "#     tmp = tmp.loc[tmp['meta'] == 'Tumor (H&E)']\n",
    "#     lb = tmp[f'res_{marker}'].quantile(0.01)\n",
    "#     ub = tmp[f'res_{marker}'].quantile(0.99)\n",
    "\n",
    "#     crit = (tmp[f'res_{marker}'] < ub) & (tmp[f'res_{marker}'] > lb)\n",
    "#     tmp = tmp.loc[crit]\n",
    "\n",
    "#     run_gating_flex(tmp, f'res_{marker}', 2)\n",
    "\n",
    "#     cut = tmp.groupby(f'gmm_res_{marker}')[f'res_{marker}'].min().max()\n",
    "#     cutoffs.append(cut)\n",
    "#     set_rc(5,5)\n",
    "#     sns.histplot(x=f'res_{marker}', data=tmp.reset_index())\n",
    "#     plt.axvline(cut, c='r')\n",
    "#     plt.axvline(0.463, c='g')\n",
    "#     plt.show()\n",
    "# pd.Series(cutoffs).describe()"
   ]
  },
  {
   "cell_type": "code",
   "execution_count": null,
   "metadata": {
    "tags": []
   },
   "outputs": [],
   "source": [
    "# subset = get_cd8(labeled_data_updated)\n",
    "# marker = 'pd1'\n",
    "# cutoffs = []\n",
    "# for case_id in candidates.index.values:\n",
    "#     print(case_id)\n",
    "#     tmp = subset.loc[case_id]\n",
    "#     tmp = tmp.loc[tmp['meta'] == 'Tumor (H&E)']\n",
    "#     lb = tmp[f'res_{marker}'].quantile(0.01)\n",
    "#     ub = tmp[f'res_{marker}'].quantile(0.99)\n",
    "\n",
    "#     crit = (tmp[f'res_{marker}'] < ub) & (tmp[f'res_{marker}'] > lb)\n",
    "#     tmp = tmp.loc[crit]\n",
    "\n",
    "#     run_gating_flex(tmp, f'res_{marker}', 2)\n",
    "\n",
    "#     cut = tmp.groupby(f'gmm_res_{marker}')[f'res_{marker}'].min().max()\n",
    "#     cutoffs.append(cut)\n",
    "#     set_rc(5,5)\n",
    "#     sns.histplot(x=f'res_{marker}', data=tmp.reset_index())\n",
    "#     plt.axvline(cut, c='r')\n",
    "#     plt.axvline(0.463, c='g')\n",
    "#     plt.show()\n",
    "# pd.Series(cutoffs).describe()"
   ]
  },
  {
   "cell_type": "code",
   "execution_count": null,
   "metadata": {},
   "outputs": [],
   "source": [
    "# subset = get_tumor(labeled_data_updated)\n",
    "# marker = 'pdl1'\n",
    "# cutoffs = []\n",
    "# for case_id in candidates.index.values:\n",
    "#     print(case_id)\n",
    "#     tmp = subset.loc[case_id]\n",
    "#     tmp = tmp.loc[tmp['meta'] == 'Tumor (H&E)']\n",
    "#     lb = tmp[f'res_{marker}'].quantile(0.01)\n",
    "#     ub = tmp[f'res_{marker}'].quantile(0.99)\n",
    "\n",
    "#     crit = (tmp[f'res_{marker}'] < ub) & (tmp[f'res_{marker}'] > lb)\n",
    "#     tmp = tmp.loc[crit]\n",
    "\n",
    "#     run_gating_flex(tmp, f'res_{marker}', 2)\n",
    "\n",
    "#     cut = tmp.groupby(f'gmm_res_{marker}')[f'res_{marker}'].min().max()\n",
    "#     cutoffs.append(cut)\n",
    "#     set_rc(5,5)\n",
    "#     sns.histplot(x=f'res_{marker}', data=tmp.reset_index())\n",
    "#     plt.axvline(cut, c='r')\n",
    "#     plt.show()\n",
    "# pd.Series(cutoffs).describe()"
   ]
  },
  {
   "cell_type": "code",
   "execution_count": null,
   "metadata": {},
   "outputs": [],
   "source": [
    "subset = get_tumor(labeled_data_updated)\n",
    "marker = 'pdl1'\n",
    "cutoffs = []\n",
    "for case_id in candidates.index.values:\n",
    "    print(case_id)\n",
    "    tmp = subset.loc[case_id]\n",
    "    tmp = tmp.loc[tmp['meta'] == 'Tumor (H&E)']\n",
    "    lb = tmp[f'res_{marker}'].quantile(0.01)\n",
    "    ub = tmp[f'res_{marker}'].quantile(0.99)\n",
    "\n",
    "    crit = (tmp[f'res_{marker}'] < ub) & (tmp[f'res_{marker}'] > lb)\n",
    "    tmp = tmp.loc[crit]\n",
    "    \n",
    "    print('Rerunning Residuals')\n",
    "    rerun =  pd.concat([run_af_regression(subdf) for cell_type, subdf in tmp.groupby('filtered_cell_type')])\n",
    "    for col in qptiff_channels[:-1]:\n",
    "        rerun[f'res_{col}'] = rerun[f'residual_{col}_cond_autofluorescence']\n",
    "    tmp = rerun\n",
    "    \n",
    "\n",
    "    run_gating_flex(tmp, f'res_{marker}', 2)\n",
    "\n",
    "    cut = tmp.groupby(f'gmm_res_{marker}')[f'res_{marker}'].min().max()\n",
    "    cutoffs.append(cut)\n",
    "    set_rc(5,5)\n",
    "    sns.histplot(x=f'res_{marker}', data=tmp.reset_index())\n",
    "    plt.axvline(cut, c='r')\n",
    "    plt.show()\n",
    "pd.Series(cutoffs).describe()"
   ]
  },
  {
   "cell_type": "code",
   "execution_count": null,
   "metadata": {},
   "outputs": [],
   "source": [
    "subset = get_cd8(labeled_data_updated)\n",
    "marker = 'pd1'\n",
    "cutoffs = []\n",
    "for case_id in candidates.index.values:\n",
    "    print(case_id)\n",
    "    tmp = subset.loc[case_id]\n",
    "    tmp = tmp.loc[tmp['meta'] == 'Tumor (H&E)']\n",
    "    lb = tmp[f'res_{marker}'].quantile(0.01)\n",
    "    ub = tmp[f'res_{marker}'].quantile(0.99)\n",
    "\n",
    "    crit = (tmp[f'res_{marker}'] < ub) & (tmp[f'res_{marker}'] > lb)\n",
    "    tmp = tmp.loc[crit]\n",
    "    \n",
    "    print('Rerunning Residuals')\n",
    "    rerun =  pd.concat([run_af_regression(subdf) for cell_type, subdf in tmp.groupby('filtered_cell_type')])\n",
    "    for col in qptiff_channels[:-1]:\n",
    "        rerun[f'res_{col}'] = rerun[f'residual_{col}_cond_autofluorescence']\n",
    "    tmp = rerun\n",
    "    \n",
    "\n",
    "    a = run_gating_flex(tmp, f'res_{marker}', 2)\n",
    "    print(a)\n",
    "\n",
    "    cut = tmp.groupby(f'gmm_res_{marker}')[f'res_{marker}'].min().max()\n",
    "    cutoffs.append(cut)\n",
    "    set_rc(5,5)\n",
    "    sns.histplot(x=f'res_{marker}', data=tmp.reset_index())\n",
    "    plt.axvline(cut, c='r')\n",
    "    plt.show()\n",
    "pd.Series(cutoffs).describe()"
   ]
  },
  {
   "cell_type": "code",
   "execution_count": null,
   "metadata": {},
   "outputs": [],
   "source": [
    "run_gating_flex??"
   ]
  },
  {
   "cell_type": "code",
   "execution_count": null,
   "metadata": {},
   "outputs": [],
   "source": []
  },
  {
   "cell_type": "code",
   "execution_count": null,
   "metadata": {
    "tags": []
   },
   "outputs": [],
   "source": [
    "n_samples = 5\n",
    "marker = 'pdl1'\n",
    "cell_type = 'filtered_cell_label_tumor+'\n",
    "min_residual = 0.095\n",
    "channels = [5,2,3]\n",
    "\n",
    "\n",
    "for case_id in candidates.sample(3).index.values:\n",
    "    print('\\n\\n\\n', case_id)\n",
    "    df = labeled_data_updated.loc[[case_id]]\n",
    "    print(df.shape)\n",
    "\n",
    "    print('Rerunning AF Residuals')\n",
    "    rerun =  pd.concat([run_af_regression(subdf) for cell_type, subdf in df.groupby('filtered_cell_type')])\n",
    "    for col in qptiff_channels[:-1]:\n",
    "        rerun[f'res_{col}'] = rerun[f'residual_{col}_cond_autofluorescence']\n",
    "    df = rerun\n",
    "    \n",
    "    df[f'res_{marker}_pos'] = df[f'res_{marker}'] > min_residual\n",
    "    df[f'res_{marker}_pos_subset'] = (df[f'filtered_cell_type'] == cell_type) & df[f'res_{marker}_pos']\n",
    "    df[f'res_{marker}_pos_subset'] = df[f'res_{marker}_pos_subset'].astype(int)+2\n",
    "    df.loc[df[f'filtered_cell_type'] != cell_type, f'res_{marker}_pos_subset'] = 0\n",
    "    \n",
    "\n",
    "    set_rc(6,6)\n",
    "    subset = df.loc[df['meta'] == 'Tumor (H&E)']\n",
    "    subset = subset.loc[subset['filtered_cell_type'] == cell_type]\n",
    "    sns.histplot(x='autofluorescence', y=f'res_{marker}', data=subset.reset_index(), )\n",
    "    plt.axhline(min_residual, c='r')\n",
    "    plt.show()\n",
    "        \n",
    "    \n",
    "    print(named_color_map)\n",
    "    cell_samples = df.loc[(case_id, tumor_parses.loc[case_id].index.values),:]\n",
    "\n",
    "    crit = cell_samples.value_counts([f'fov','filtered_cell_type',],sort=False).loc[(slice(None),cell_type)] > 25\n",
    "    filtered_indices = get_indices(crit)\n",
    "    \n",
    "    alt_crit = cell_samples.value_counts([f'fov',f'res_{marker}_pos_subset',],sort=False).loc[(slice(None),3)] > 5\n",
    "    alt_indices = get_indices(alt_crit)\n",
    "    \n",
    "    if len(alt_indices) >= n_samples:\n",
    "        print('Found examples')\n",
    "        tumor_parses_subset = tumor_parses.loc[(case_id, alt_indices),:]\n",
    "        print(len(tumor_parses_subset))\n",
    "    else:\n",
    "        print('cant find enough examples')\n",
    "        tumor_parses_subset = tumor_parses.loc[(case_id, filtered_indices),:]\n",
    "        print(len(tumor_parses_subset))\n",
    "\n",
    "\n",
    "    parse_samples, seg, data, fill_mask, fov_calls, store = visualize_fov_samples_postcutoff(case_id, df, tumor_parses_subset,\n",
    "                                                                                             channels=channels, lower_clip_percentile=5, upper_clip_percentile=95,\n",
    "                                                                                             cell_label_col=f'res_{marker}_pos_subset', n_samples=n_samples,\n",
    "                                     mask_key={0:0, 1:1, 2:2}, full_color_map=color_map, return_samples=True )"
   ]
  },
  {
   "cell_type": "code",
   "execution_count": null,
   "metadata": {
    "tags": []
   },
   "outputs": [],
   "source": [
    "n_samples = 5\n",
    "min_pos_cells = 25\n",
    "marker = 'pdl1'\n",
    "cell_type = 'filtered_cell_label_tumor+'\n",
    "min_residual = 0.095\n",
    "channels = [5,2,3]\n",
    "\n",
    "\n",
    "for case_id in candidates.sample(5).index.values:\n",
    "    print('\\n\\n\\n', case_id)\n",
    "    df = labeled_data_updated.loc[[case_id]]\n",
    "    print(df.shape)\n",
    "\n",
    "    print('Rerunning AF Residuals')\n",
    "    rerun =  pd.concat([run_af_regression(subdf) for cell_type, subdf in df.groupby('filtered_cell_type')])\n",
    "    for col in qptiff_channels[:-1]:\n",
    "        rerun[f'res_{col}'] = rerun[f'residual_{col}_cond_autofluorescence']\n",
    "    df = rerun\n",
    "    \n",
    "    df[f'res_{marker}_pos'] = df[f'res_{marker}'] > min_residual\n",
    "    df[f'res_{marker}_pos_subset'] = (df[f'filtered_cell_type'] == cell_type) & df[f'res_{marker}_pos']\n",
    "    df[f'res_{marker}_pos_subset'] = df[f'res_{marker}_pos_subset'].astype(int)+2\n",
    "    df.loc[df[f'filtered_cell_type'] != cell_type, f'res_{marker}_pos_subset'] = 0\n",
    "    \n",
    "\n",
    "    set_rc(6,6)\n",
    "    subset = df.loc[df['meta'] == 'Tumor (H&E)']\n",
    "    subset = subset.loc[subset['filtered_cell_type'] == cell_type]\n",
    "    sns.histplot(x='autofluorescence', y=f'res_{marker}', data=subset.reset_index(), )\n",
    "    plt.axhline(min_residual, c='r')\n",
    "    plt.show()\n",
    "        \n",
    "    \n",
    "    print(named_color_map)\n",
    "    cell_samples = df.loc[(case_id, tumor_parses.loc[case_id].index.values),:]\n",
    "\n",
    "    crit = cell_samples.value_counts([f'fov','filtered_cell_type',],sort=False).loc[(slice(None),cell_type)] > 25\n",
    "    filtered_indices = get_indices(crit)\n",
    "    \n",
    "    alt_crit = cell_samples.value_counts([f'fov',f'res_{marker}_pos_subset',],sort=False).loc[(slice(None),3)] > min_pos_cells\n",
    "    alt_indices = get_indices(alt_crit)\n",
    "    \n",
    "    if len(alt_indices) >= n_samples:\n",
    "        print('Found examples')\n",
    "        tumor_parses_subset = tumor_parses.loc[(case_id, alt_indices),:]\n",
    "        print(len(tumor_parses_subset))\n",
    "    else:\n",
    "        print('cant find enough examples')\n",
    "        tumor_parses_subset = tumor_parses.loc[(case_id, filtered_indices),:]\n",
    "        print(len(tumor_parses_subset))\n",
    "\n",
    "\n",
    "    parse_samples, seg, data, fill_mask, fov_calls, store = visualize_fov_samples_postcutoff(case_id, df, tumor_parses_subset,\n",
    "                                                                                             channels=channels, lower_clip_percentile=5, upper_clip_percentile=95,\n",
    "                                                                                             cell_label_col=f'res_{marker}_pos_subset', n_samples=n_samples,\n",
    "                                     mask_key={0:0, 1:1, 2:2}, full_color_map=color_map, return_samples=True )"
   ]
  },
  {
   "cell_type": "code",
   "execution_count": null,
   "metadata": {
    "tags": []
   },
   "outputs": [],
   "source": [
    "n_samples = 5\n",
    "min_pos_cells = 25\n",
    "marker = 'pd1'\n",
    "cell_type = 'filtered_cell_label_cd8+'\n",
    "min_residual = 0.089\n",
    "# channels = [5,2,3]\n",
    "channels = [4,3,2]\n",
    "\n",
    "for case_id in candidates.sample(3).index.values:\n",
    "    print('\\n\\n\\n', case_id)\n",
    "    df = labeled_data_updated.loc[[case_id]]\n",
    "    print(df.shape)\n",
    "\n",
    "    print('Rerunning AF Residuals')\n",
    "    rerun =  pd.concat([run_af_regression(subdf) for cell_type, subdf in df.groupby('filtered_cell_type')])\n",
    "    for col in qptiff_channels[:-1]:\n",
    "        rerun[f'res_{col}'] = rerun[f'residual_{col}_cond_autofluorescence']\n",
    "    df = rerun\n",
    "    \n",
    "    df[f'res_{marker}_pos'] = df[f'res_{marker}'] > min_residual\n",
    "    df[f'res_{marker}_pos_subset'] = (df[f'filtered_cell_type'] == cell_type) & df[f'res_{marker}_pos']\n",
    "    df[f'res_{marker}_pos_subset'] = df[f'res_{marker}_pos_subset'].astype(int)+2\n",
    "    df.loc[df[f'filtered_cell_type'] != cell_type, f'res_{marker}_pos_subset'] = 0\n",
    "    \n",
    "\n",
    "    set_rc(6,6)\n",
    "    subset = df.loc[df['meta'] == 'Tumor (H&E)']\n",
    "    subset = subset.loc[subset['filtered_cell_type'] == cell_type]\n",
    "    sns.histplot(x='autofluorescence', y=f'res_{marker}', data=subset.reset_index(), )\n",
    "    plt.axhline(min_residual, c='r')\n",
    "    plt.show()\n",
    "        \n",
    "    \n",
    "    print(named_color_map)\n",
    "    cell_samples = df.loc[(case_id, tumor_parses.loc[case_id].index.values),:]\n",
    "\n",
    "    crit = cell_samples.value_counts([f'fov','filtered_cell_type',],sort=False).loc[(slice(None),cell_type)] > 25\n",
    "    filtered_indices = get_indices(crit)\n",
    "    \n",
    "    alt_crit = cell_samples.value_counts([f'fov',f'res_{marker}_pos_subset',],sort=False).loc[(slice(None),3)] > min_pos_cells\n",
    "    alt_indices = get_indices(alt_crit)\n",
    "    \n",
    "    if len(alt_indices) >= n_samples:\n",
    "        print('Found examples')\n",
    "        tumor_parses_subset = tumor_parses.loc[(case_id, alt_indices),:]\n",
    "        print(len(tumor_parses_subset))\n",
    "    else:\n",
    "        print('cant find enough examples')\n",
    "        tumor_parses_subset = tumor_parses.loc[(case_id, filtered_indices),:]\n",
    "        print(len(tumor_parses_subset))\n",
    "\n",
    "\n",
    "    parse_samples, seg, data, fill_mask, fov_calls, store = visualize_fov_samples_postcutoff(case_id, df, tumor_parses_subset,\n",
    "                                                                                             channels=channels, lower_clip_percentile=5, upper_clip_percentile=95,\n",
    "                                                                                             cell_label_col=f'res_{marker}_pos_subset', n_samples=n_samples,\n",
    "                                     mask_key={0:0, 1:1, 2:2}, full_color_map=color_map, return_samples=True )"
   ]
  },
  {
   "cell_type": "code",
   "execution_count": null,
   "metadata": {},
   "outputs": [],
   "source": []
  },
  {
   "cell_type": "code",
   "execution_count": null,
   "metadata": {},
   "outputs": [],
   "source": []
  },
  {
   "cell_type": "code",
   "execution_count": null,
   "metadata": {
    "tags": []
   },
   "outputs": [],
   "source": [
    "# n_samples = 5\n",
    "# marker = 'pd1'\n",
    "# cell_type = 'filtered_cell_label_cd8+'\n",
    "# min_residual = 0.4\n",
    "# # channels = [5,2,3]\n",
    "# channels = [4,3,2]\n",
    "\n",
    "# for case_id in candidates.sample(3).index.values:\n",
    "#     print('\\n\\n\\n', case_id)\n",
    "#     df = labeled_data_updated.loc[[case_id]]\n",
    "#     print(df.shape)\n",
    "\n",
    "# #     print('Rerunning AF Residuals')\n",
    "# #     rerun =  pd.concat([run_af_regression(subdf) for cell_type, subdf in df.groupby('filtered_cell_type')])\n",
    "# #     for col in qptiff_channels[:-1]:\n",
    "# #         rerun[f'res_{col}'] = rerun[f'residual_{col}_cond_autofluorescence']\n",
    "# #     df = rerun\n",
    "    \n",
    "#     df[f'res_{marker}_pos'] = df[f'res_{marker}'] > min_residual\n",
    "#     df[f'res_{marker}_pos_subset'] = (df[f'filtered_cell_type'] == cell_type) & df[f'res_{marker}_pos']\n",
    "#     df[f'res_{marker}_pos_subset'] = df[f'res_{marker}_pos_subset'].astype(int)+2\n",
    "#     df.loc[df[f'filtered_cell_type'] != cell_type, f'res_{marker}_pos_subset'] = 0\n",
    "    \n",
    "\n",
    "#     set_rc(6,6)\n",
    "#     subset = df.loc[df['meta'] == 'Tumor (H&E)']\n",
    "#     subset = subset.loc[subset['filtered_cell_type'] == cell_type]\n",
    "#     sns.histplot(x='autofluorescence', y=f'res_{marker}', data=subset.reset_index(), )\n",
    "#     plt.axhline(min_residual, c='r')\n",
    "#     plt.show()\n",
    "        \n",
    "    \n",
    "#     print(named_color_map)\n",
    "#     cell_samples = df.loc[(case_id, tumor_parses.loc[case_id].index.values),:]\n",
    "\n",
    "#     crit = cell_samples.value_counts([f'fov','filtered_cell_type',],sort=False).loc[(slice(None),cell_type)] > 25\n",
    "#     filtered_indices = get_indices(crit)\n",
    "    \n",
    "#     alt_crit = cell_samples.value_counts([f'fov',f'res_{marker}_pos_subset',],sort=False).loc[(slice(None),3)] > 5\n",
    "#     alt_indices = get_indices(alt_crit)\n",
    "    \n",
    "#     if len(alt_indices) >= n_samples:\n",
    "#         print('Found examples')\n",
    "#         tumor_parses_subset = tumor_parses.loc[(case_id, alt_indices),:]\n",
    "#         print(len(tumor_parses_subset))\n",
    "#     else:\n",
    "#         print('cant find enough examples')\n",
    "#         tumor_parses_subset = tumor_parses.loc[(case_id, filtered_indices),:]\n",
    "#         print(len(tumor_parses_subset))\n",
    "\n",
    "\n",
    "#     parse_samples, seg, data, fill_mask, fov_calls, store = visualize_fov_samples_postcutoff(case_id, df, tumor_parses_subset,\n",
    "#                                                                                              channels=channels, lower_clip_percentile=5, upper_clip_percentile=95,\n",
    "#                                                                                              cell_label_col=f'res_{marker}_pos_subset', n_samples=n_samples,\n",
    "#                                      mask_key={0:0, 1:1, 2:2}, full_color_map=color_map, return_samples=True )"
   ]
  },
  {
   "cell_type": "code",
   "execution_count": null,
   "metadata": {},
   "outputs": [],
   "source": []
  },
  {
   "cell_type": "code",
   "execution_count": null,
   "metadata": {},
   "outputs": [],
   "source": []
  },
  {
   "cell_type": "code",
   "execution_count": null,
   "metadata": {},
   "outputs": [],
   "source": [
    "rerun.shape"
   ]
  },
  {
   "cell_type": "code",
   "execution_count": null,
   "metadata": {},
   "outputs": [],
   "source": [
    "subset = get_cd8(rerun)\n",
    "marker = 'pd1'\n",
    "cutoffs = []\n",
    "for case_id in candidates.index.values:\n",
    "    print(case_id)\n",
    "    tmp = subset.loc[case_id]\n",
    "    tmp = tmp.loc[tmp['meta'] == 'Tumor (H&E)']\n",
    "    lb = tmp[f'res_{marker}'].quantile(0.01)\n",
    "    ub = tmp[f'res_{marker}'].quantile(0.99)\n",
    "\n",
    "    crit = (tmp[f'res_{marker}'] < ub) & (tmp[f'res_{marker}'] > lb)\n",
    "    tmp = tmp.loc[crit]\n",
    "\n",
    "    a = run_gating_flex(tmp, f'res_{marker}', 2)\n",
    "    print(a)\n",
    "\n",
    "    cut = tmp.groupby(f'gmm_res_{marker}')[f'res_{marker}'].min().max()\n",
    "    cutoffs.append(cut)\n",
    "    set_rc(5,5)\n",
    "    sns.histplot(x=f'res_{marker}', data=tmp.reset_index())\n",
    "    plt.axvline(cut, c='r')\n",
    "    plt.show()\n",
    "pd.Series(cutoffs).describe()"
   ]
  },
  {
   "cell_type": "code",
   "execution_count": null,
   "metadata": {},
   "outputs": [],
   "source": [
    "subset = get_cd8(rerun)\n",
    "marker = 'pd1'\n",
    "cutoffs = []\n",
    "for case_id in candidates.index.values:\n",
    "    print(case_id)\n",
    "    tmp = subset.loc[case_id]\n",
    "    tmp = tmp.loc[tmp['meta'] == 'Tumor (H&E)']\n",
    "    lb = tmp[f'res_{marker}'].quantile(0.01)\n",
    "    ub = tmp[f'res_{marker}'].quantile(0.99)\n",
    "\n",
    "    crit = (tmp[f'res_{marker}'] < ub) & (tmp[f'res_{marker}'] > lb)\n",
    "    tmp = tmp.loc[crit]\n",
    "\n",
    "    a = run_gating_flex(tmp, f'res_{marker}', 2)\n",
    "    print(a)\n",
    "\n",
    "    cut = tmp.groupby(f'gmm_res_{marker}')[f'res_{marker}'].min().max()\n",
    "    cutoffs.append(cut)\n",
    "    # set_rc(5,5)\n",
    "    # sns.histplot(x=f'res_{marker}', data=tmp.reset_index())\n",
    "    # plt.axvline(cut, c='r')\n",
    "    # plt.show()\n",
    "pd.Series(cutoffs).describe()"
   ]
  },
  {
   "cell_type": "code",
   "execution_count": null,
   "metadata": {},
   "outputs": [],
   "source": [
    "rerun.head()"
   ]
  },
  {
   "cell_type": "code",
   "execution_count": null,
   "metadata": {
    "tags": []
   },
   "outputs": [],
   "source": [
    "subset = get_cd8(labeled_data_updated)\n",
    "marker = 'pd1'\n",
    "cutoffs = []\n",
    "for case_id in candidates.index.values:\n",
    "    print(case_id)\n",
    "    tmp = subset.loc[case_id]\n",
    "    tmp = tmp.loc[tmp['meta'] == 'Tumor (H&E)']\n",
    "    lb = tmp[f'res_{marker}'].quantile(0.01)\n",
    "    ub = tmp[f'res_{marker}'].quantile(0.99)\n",
    "\n",
    "    crit = (tmp[f'res_{marker}'] < ub) & (tmp[f'res_{marker}'] > lb)\n",
    "    tmp = tmp.loc[crit]\n",
    "    \n",
    "    print('Rerunning Residuals')\n",
    "    rerun =  pd.concat([run_af_regression(subdf) for cell_type, subdf in tmp.groupby('filtered_cell_type')])\n",
    "    for col in qptiff_channels[:-1]:\n",
    "        rerun[f'res_{col}'] = rerun[f'residual_{col}_cond_autofluorescence']\n",
    "    tmp = rerun\n",
    "    \n",
    "\n",
    "    a = run_gating_flex(tmp, f'res_{marker}', 2)\n",
    "    print(a)\n",
    "\n",
    "    cut = tmp.groupby(f'gmm_res_{marker}')[f'res_{marker}'].min().max()\n",
    "    cutoffs.append(cut)\n",
    "    # set_rc(5,5)\n",
    "    # sns.histplot(x=f'res_{marker}', data=tmp.reset_index())\n",
    "    # plt.axvline(cut, c='r')\n",
    "    # plt.show()\n",
    "pd.Series(cutoffs).describe()"
   ]
  },
  {
   "cell_type": "code",
   "execution_count": null,
   "metadata": {
    "tags": []
   },
   "outputs": [],
   "source": [
    "subset = get_cd8(labeled_data_updated)\n",
    "marker = 'pd1'\n",
    "cutoffs = []\n",
    "for case_id in candidates.index.values:\n",
    "    print(case_id)\n",
    "    tmp = subset.loc[case_id]\n",
    "    tmp = tmp.loc[tmp['meta'] == 'Tumor (H&E)']\n",
    "    \n",
    "    print('Rerunning Residuals')\n",
    "    rerun =  pd.concat([run_af_regression(subdf) for cell_type, subdf in tmp.groupby('filtered_cell_type')])\n",
    "    for col in qptiff_channels[:-1]:\n",
    "        rerun[f'res_{col}'] = rerun[f'residual_{col}_cond_autofluorescence']\n",
    "    tmp = rerun\n",
    "    \n",
    "    lb = tmp[f'res_{marker}'].quantile(0.01)\n",
    "    ub = tmp[f'res_{marker}'].quantile(0.99)\n",
    "\n",
    "    crit = (tmp[f'res_{marker}'] < ub) & (tmp[f'res_{marker}'] > lb)\n",
    "    tmp = tmp.loc[crit]\n",
    "    \n",
    "    a = run_gating_flex(tmp, f'res_{marker}', 2)\n",
    "    print(a)\n",
    "\n",
    "    cut = tmp.groupby(f'gmm_res_{marker}')[f'res_{marker}'].min().max()\n",
    "    cutoffs.append(cut)\n",
    "    # set_rc(5,5)\n",
    "    # sns.histplot(x=f'res_{marker}', data=tmp.reset_index())\n",
    "    # plt.axvline(cut, c='r')\n",
    "    # plt.show()\n",
    "pd.Series(cutoffs).describe()"
   ]
  },
  {
   "cell_type": "code",
   "execution_count": null,
   "metadata": {
    "tags": []
   },
   "outputs": [],
   "source": [
    "subset = get_tumor(labeled_data_updated)\n",
    "marker = 'pdl1'\n",
    "cutoffs = []\n",
    "for case_id in candidates.index.values:\n",
    "    print(case_id)\n",
    "    tmp = subset.loc[case_id]\n",
    "    tmp = tmp.loc[tmp['meta'] == 'Tumor (H&E)']\n",
    "    \n",
    "    print('Rerunning Residuals')\n",
    "    rerun =  pd.concat([run_af_regression(subdf) for cell_type, subdf in tmp.groupby('filtered_cell_type')])\n",
    "    for col in qptiff_channels[:-1]:\n",
    "        rerun[f'res_{col}'] = rerun[f'residual_{col}_cond_autofluorescence']\n",
    "    tmp = rerun\n",
    "    \n",
    "    lb = tmp[f'res_{marker}'].quantile(0.01)\n",
    "    ub = tmp[f'res_{marker}'].quantile(0.99)\n",
    "\n",
    "    crit = (tmp[f'res_{marker}'] < ub) & (tmp[f'res_{marker}'] > lb)\n",
    "    tmp = tmp.loc[crit]\n",
    "    \n",
    "    a = run_gating_flex(tmp, f'res_{marker}', 2)\n",
    "    print(a)\n",
    "\n",
    "    cut = tmp.groupby(f'gmm_res_{marker}')[f'res_{marker}'].min().max()\n",
    "    cutoffs.append(cut)\n",
    "    # set_rc(5,5)\n",
    "    # sns.histplot(x=f'res_{marker}', data=tmp.reset_index())\n",
    "    # plt.axvline(cut, c='r')\n",
    "    # plt.show()\n",
    "pd.Series(cutoffs).describe()"
   ]
  },
  {
   "cell_type": "code",
   "execution_count": null,
   "metadata": {},
   "outputs": [],
   "source": [
    "%%capture\n",
    "residual_rerun =  pd.concat([run_af_regression(subdf) for (case_id, cell_type), subdf in labeled_data_updated.groupby(['case_id','filtered_cell_type'])])\n",
    "for col in qptiff_channels[:-1]:\n",
    "    residual_rerun[f'res_{col}'] = residual_rerun[f'residual_{col}_cond_autofluorescence']"
   ]
  },
  {
   "cell_type": "code",
   "execution_count": null,
   "metadata": {},
   "outputs": [],
   "source": [
    "residual_rerun.shape"
   ]
  },
  {
   "cell_type": "code",
   "execution_count": null,
   "metadata": {
    "tags": []
   },
   "outputs": [],
   "source": [
    "subset = get_tumor(residual_rerun)\n",
    "marker = 'pdl1'\n",
    "cutoffs = []\n",
    "for case_id in candidates.index.values:\n",
    "    print(case_id)\n",
    "    tmp = subset.loc[case_id]\n",
    "    tmp = tmp.loc[tmp['meta'] == 'Tumor (H&E)']\n",
    "    \n",
    "    lb = tmp[f'res_{marker}'].quantile(0.01)\n",
    "    ub = tmp[f'res_{marker}'].quantile(0.99)\n",
    "\n",
    "    crit = (tmp[f'res_{marker}'] < ub) & (tmp[f'res_{marker}'] > lb)\n",
    "    tmp = tmp.loc[crit]\n",
    "    \n",
    "    a = run_gating_flex(tmp, f'res_{marker}', 2)\n",
    "    print(a)\n",
    "\n",
    "    cut = tmp.groupby(f'gmm_res_{marker}')[f'res_{marker}'].min().max()\n",
    "    cutoffs.append(cut)\n",
    "    set_rc(5,5)\n",
    "    sns.histplot(x=f'res_{marker}', data=tmp.reset_index())\n",
    "    plt.axvline(cut, c='r')\n",
    "    plt.show()\n",
    "pd.Series(cutoffs).describe()"
   ]
  },
  {
   "cell_type": "code",
   "execution_count": null,
   "metadata": {
    "tags": []
   },
   "outputs": [],
   "source": [
    "subset = get_tumor(residual_rerun)\n",
    "marker = 'pdl1'\n",
    "cutoffs = []\n",
    "for case_id in candidates.index.values:\n",
    "    print(case_id)\n",
    "    tmp = subset.loc[case_id]\n",
    "    # tmp = tmp.loc[tmp['meta'] == 'Tumor (H&E)']\n",
    "    \n",
    "    lb = tmp[f'res_{marker}'].quantile(0.01)\n",
    "    ub = tmp[f'res_{marker}'].quantile(0.99)\n",
    "\n",
    "    crit = (tmp[f'res_{marker}'] < ub) & (tmp[f'res_{marker}'] > lb)\n",
    "    tmp = tmp.loc[crit]\n",
    "    \n",
    "    a = run_gating_flex(tmp, f'res_{marker}', 2)\n",
    "    print(a)\n",
    "\n",
    "    cut = tmp.groupby(f'gmm_res_{marker}')[f'res_{marker}'].min().max()\n",
    "    cutoffs.append(cut)\n",
    "    set_rc(5,5)\n",
    "    sns.histplot(x=f'res_{marker}', data=tmp.reset_index())\n",
    "    plt.axvline(cut, c='r')\n",
    "    plt.show()\n",
    "pd.Series(cutoffs).describe()"
   ]
  },
  {
   "cell_type": "code",
   "execution_count": null,
   "metadata": {},
   "outputs": [],
   "source": []
  },
  {
   "cell_type": "code",
   "execution_count": null,
   "metadata": {},
   "outputs": [],
   "source": []
  },
  {
   "cell_type": "code",
   "execution_count": null,
   "metadata": {
    "tags": []
   },
   "outputs": [],
   "source": [
    "subset = get_cd8(residual_rerun)\n",
    "marker = 'pd1'\n",
    "cutoffs = []\n",
    "for case_id in candidates.index.values:\n",
    "    print(case_id)\n",
    "    tmp = subset.loc[case_id]\n",
    "    tmp = tmp.loc[tmp['meta'] == 'Tumor (H&E)']\n",
    "    \n",
    "    lb = tmp[f'res_{marker}'].quantile(0.01)\n",
    "    ub = tmp[f'res_{marker}'].quantile(0.99)\n",
    "\n",
    "    crit = (tmp[f'res_{marker}'] < ub) & (tmp[f'res_{marker}'] > lb)\n",
    "    tmp = tmp.loc[crit]\n",
    "    \n",
    "    a = run_gating_flex(tmp, f'res_{marker}', 2)\n",
    "    print(a)\n",
    "\n",
    "    cut = tmp.groupby(f'gmm_res_{marker}')[f'res_{marker}'].min().max()\n",
    "    cutoffs.append(cut)\n",
    "    set_rc(5,5)\n",
    "    sns.histplot(x=f'res_{marker}', data=tmp.reset_index())\n",
    "    plt.axvline(cut, c='r')\n",
    "    plt.show()\n",
    "pd.Series(cutoffs).describe()"
   ]
  },
  {
   "cell_type": "code",
   "execution_count": null,
   "metadata": {},
   "outputs": [],
   "source": [
    "sns.histplot(x=f'res_{marker}', data=subset.reset_index())\n",
    "plt.axvline(0.185, c='r')\n"
   ]
  },
  {
   "cell_type": "code",
   "execution_count": null,
   "metadata": {
    "tags": []
   },
   "outputs": [],
   "source": [
    "subset = get_cd8(residual_rerun)\n",
    "marker = 'pd1'\n",
    "cutoffs = []\n",
    "for case_id in candidates.index.values:\n",
    "    print(case_id)\n",
    "    tmp = subset.loc[case_id]\n",
    "    # tmp = tmp.loc[tmp['meta'] == 'Tumor (H&E)']\n",
    "    \n",
    "    lb = tmp[f'res_{marker}'].quantile(0.01)\n",
    "    ub = tmp[f'res_{marker}'].quantile(0.99)\n",
    "\n",
    "    crit = (tmp[f'res_{marker}'] < ub) & (tmp[f'res_{marker}'] > lb)\n",
    "    tmp = tmp.loc[crit]\n",
    "    \n",
    "    a = run_gating_flex(tmp, f'res_{marker}', 2)\n",
    "    print(a)\n",
    "\n",
    "    cut = tmp.groupby(f'gmm_res_{marker}')[f'res_{marker}'].min().max()\n",
    "    cutoffs.append(cut)\n",
    "    set_rc(5,5)\n",
    "    sns.histplot(x=f'res_{marker}', data=tmp.reset_index())\n",
    "    plt.axvline(cut, c='r')\n",
    "    plt.show()\n",
    "pd.Series(cutoffs).describe()"
   ]
  },
  {
   "cell_type": "code",
   "execution_count": null,
   "metadata": {
    "tags": []
   },
   "outputs": [],
   "source": [
    "n_samples = 5\n",
    "min_pos_cells = 25\n",
    "marker = 'pd1'\n",
    "cell_type = 'filtered_cell_label_cd8+'\n",
    "min_residual = 0.133567\n",
    "# channels = [5,2,3]\n",
    "channels = [4,3,2]\n",
    "\n",
    "for case_id in candidates.sample(3).index.values:\n",
    "    print('\\n\\n\\n', case_id)\n",
    "    df = residual_rerun.loc[[case_id]]\n",
    "    print(df.shape)\n",
    "\n",
    "    df[f'res_{marker}_pos'] = df[f'res_{marker}'] > min_residual\n",
    "    df[f'res_{marker}_pos_subset'] = (df[f'filtered_cell_type'] == cell_type) & df[f'res_{marker}_pos']\n",
    "    df[f'res_{marker}_pos_subset'] = df[f'res_{marker}_pos_subset'].astype(int)+2\n",
    "    df.loc[df[f'filtered_cell_type'] != cell_type, f'res_{marker}_pos_subset'] = 0\n",
    "    \n",
    "\n",
    "    set_rc(6,6)\n",
    "    subset = df.loc[df['meta'] == 'Tumor (H&E)']\n",
    "    subset = subset.loc[subset['filtered_cell_type'] == cell_type]\n",
    "    sns.histplot(x='autofluorescence', y=f'res_{marker}', data=subset.reset_index(), )\n",
    "    plt.axhline(min_residual, c='r')\n",
    "    plt.show()\n",
    "        \n",
    "    \n",
    "    print(named_color_map)\n",
    "    cell_samples = df.loc[(case_id, tumor_parses.loc[case_id].index.values),:]\n",
    "\n",
    "    crit = cell_samples.value_counts([f'fov','filtered_cell_type',],sort=False).loc[(slice(None),cell_type)] > 25\n",
    "    filtered_indices = get_indices(crit)\n",
    "    \n",
    "    alt_crit = cell_samples.value_counts([f'fov',f'res_{marker}_pos_subset',],sort=False).loc[(slice(None),3)] > min_pos_cells\n",
    "    alt_indices = get_indices(alt_crit)\n",
    "    \n",
    "    if len(alt_indices) >= n_samples:\n",
    "        print('Found examples')\n",
    "        tumor_parses_subset = tumor_parses.loc[(case_id, alt_indices),:]\n",
    "        print(len(tumor_parses_subset))\n",
    "    else:\n",
    "        print('cant find enough examples')\n",
    "        tumor_parses_subset = tumor_parses.loc[(case_id, filtered_indices),:]\n",
    "        print(len(tumor_parses_subset))\n",
    "\n",
    "\n",
    "    parse_samples, seg, data, fill_mask, fov_calls, store = visualize_fov_samples_postcutoff(case_id, df, tumor_parses_subset,\n",
    "                                                                                             channels=channels, lower_clip_percentile=5, upper_clip_percentile=95,\n",
    "                                                                                             cell_label_col=f'res_{marker}_pos_subset', n_samples=n_samples,\n",
    "                                     mask_key={0:0, 1:1, 2:2}, full_color_map=color_map, return_samples=True )"
   ]
  },
  {
   "cell_type": "code",
   "execution_count": null,
   "metadata": {
    "tags": []
   },
   "outputs": [],
   "source": [
    "n_samples = 5\n",
    "min_pos_cells = 25\n",
    "marker = 'pdl1'\n",
    "cell_type = 'filtered_cell_label_tumor+'\n",
    "min_residual = 0.108897\n",
    "channels = [5,2,3]\n",
    "# channels = [4,3,2]\n",
    "\n",
    "for case_id in candidates.sample(frac=1).index.values:\n",
    "    print('\\n\\n\\n', case_id)\n",
    "    df = residual_rerun.loc[[case_id]]\n",
    "    print(df.shape)\n",
    "\n",
    "    df[f'res_{marker}_pos'] = df[f'res_{marker}'] > min_residual\n",
    "    df[f'res_{marker}_pos_subset'] = (df[f'filtered_cell_type'] == cell_type) & df[f'res_{marker}_pos']\n",
    "    df[f'res_{marker}_pos_subset'] = df[f'res_{marker}_pos_subset'].astype(int)+2\n",
    "    df.loc[df[f'filtered_cell_type'] != cell_type, f'res_{marker}_pos_subset'] = 0\n",
    "    \n",
    "\n",
    "    set_rc(6,6)\n",
    "    subset = df.loc[df['meta'] == 'Tumor (H&E)']\n",
    "    subset = subset.loc[subset['filtered_cell_type'] == cell_type]\n",
    "    sns.histplot(x='autofluorescence', y=f'res_{marker}', data=subset.reset_index(), )\n",
    "    plt.axhline(min_residual, c='r')\n",
    "    plt.show()\n",
    "        \n",
    "    \n",
    "    print(named_color_map)\n",
    "    cell_samples = df.loc[(case_id, tumor_parses.loc[case_id].index.values),:]\n",
    "\n",
    "    crit = cell_samples.value_counts([f'fov','filtered_cell_type',],sort=False).loc[(slice(None),cell_type)] > 25\n",
    "    filtered_indices = get_indices(crit)\n",
    "    \n",
    "    alt_crit = cell_samples.value_counts([f'fov',f'res_{marker}_pos_subset',],sort=False).loc[(slice(None),3)] > min_pos_cells\n",
    "    alt_indices = get_indices(alt_crit)\n",
    "    \n",
    "    if len(alt_indices) >= n_samples:\n",
    "        print('Found examples')\n",
    "        tumor_parses_subset = tumor_parses.loc[(case_id, alt_indices),:]\n",
    "        print(len(tumor_parses_subset))\n",
    "    else:\n",
    "        print('cant find enough examples')\n",
    "        tumor_parses_subset = tumor_parses.loc[(case_id, filtered_indices),:]\n",
    "        print(len(tumor_parses_subset))\n",
    "\n",
    "\n",
    "    parse_samples, seg, data, fill_mask, fov_calls, store = visualize_fov_samples_postcutoff(case_id, df, tumor_parses_subset,\n",
    "                                                                                             channels=channels, lower_clip_percentile=5, upper_clip_percentile=95,\n",
    "                                                                                             cell_label_col=f'res_{marker}_pos_subset', n_samples=n_samples,\n",
    "                                     mask_key={0:0, 1:1, 2:2}, full_color_map=color_map, return_samples=True )"
   ]
  },
  {
   "cell_type": "code",
   "execution_count": null,
   "metadata": {},
   "outputs": [],
   "source": []
  },
  {
   "cell_type": "code",
   "execution_count": null,
   "metadata": {},
   "outputs": [],
   "source": []
  },
  {
   "cell_type": "code",
   "execution_count": null,
   "metadata": {},
   "outputs": [],
   "source": [
    "subtype_cutoffs = {\n",
    "    'residual_pd1_in_cd8+': 0.133567,\n",
    "    'residual_pdl1_in_tumor+':0.108897,\n",
    "}"
   ]
  },
  {
   "cell_type": "code",
   "execution_count": null,
   "metadata": {},
   "outputs": [],
   "source": [
    "residual_rerun['filtered_cell_type'].unique()"
   ]
  },
  {
   "cell_type": "code",
   "execution_count": null,
   "metadata": {},
   "outputs": [],
   "source": [
    "residual_rerun['detailed_cell_type'] = residual_rerun['filtered_cell_type']"
   ]
  },
  {
   "cell_type": "code",
   "execution_count": null,
   "metadata": {},
   "outputs": [],
   "source": [
    "crit = (residual_rerun['filtered_cell_type'] == 'filtered_cell_label_cd8+') & (residual_rerun['res_pd1'] >= subtype_cutoffs['residual_pd1_in_cd8+'])\n",
    "residual_rerun.loc[crit, 'detailed_cell_type'] = 'CD8+ PD1 High'\n",
    "\n",
    "crit = (residual_rerun['filtered_cell_type'] == 'filtered_cell_label_cd8+') & (residual_rerun['res_pd1'] < subtype_cutoffs['residual_pd1_in_cd8+'])\n",
    "residual_rerun.loc[crit, 'detailed_cell_type'] = 'CD8+ PD1 Low'\n",
    "\n",
    "\n",
    "crit = (residual_rerun['filtered_cell_type'] == 'filtered_cell_label_tumor+') & (residual_rerun['res_pdl1'] >= subtype_cutoffs['residual_pdl1_in_tumor+'])\n",
    "residual_rerun.loc[crit, 'detailed_cell_type'] = 'Tumor+ PDL1 High'\n",
    "\n",
    "crit = (residual_rerun['filtered_cell_type'] == 'filtered_cell_label_tumor+') & (residual_rerun['res_pdl1'] < subtype_cutoffs['residual_pdl1_in_tumor+'])\n",
    "residual_rerun.loc[crit, 'detailed_cell_type'] = 'Tumor+ PDL1 Low'\n"
   ]
  },
  {
   "cell_type": "code",
   "execution_count": null,
   "metadata": {},
   "outputs": [],
   "source": [
    "residual_rerun.value_counts(['detailed_cell_type'])"
   ]
  },
  {
   "cell_type": "code",
   "execution_count": null,
   "metadata": {},
   "outputs": [],
   "source": [
    "f_update"
   ]
  },
  {
   "cell_type": "code",
   "execution_count": null,
   "metadata": {},
   "outputs": [],
   "source": [
    "f_rerun = '/mnt/disks/image_data/immunoprofile/ccrcc_subset_processing/ccrcc_ip14_arcsinh_quant_agg_with_basic_cutoffs__rerun_correct_grade_seg__hybrid_manual_global_louvain__morph_flag__cellsubtypes.pkl'\n",
    "residual_rerun.to_pickle(f_rerun)"
   ]
  }
 ],
 "metadata": {
  "environment": {
   "kernel": "conda-env-deepcell-py",
   "name": "pytorch-gpu.1-10.m89",
   "type": "gcloud",
   "uri": "gcr.io/deeplearning-platform-release/pytorch-gpu.1-10:m89"
  },
  "kernelspec": {
   "display_name": "Python [conda env:deepcell]",
   "language": "python",
   "name": "conda-env-deepcell-py"
  },
  "language_info": {
   "codemirror_mode": {
    "name": "ipython",
    "version": 3
   },
   "file_extension": ".py",
   "mimetype": "text/x-python",
   "name": "python",
   "nbconvert_exporter": "python",
   "pygments_lexer": "ipython3",
   "version": "3.8.13"
  }
 },
 "nbformat": 4,
 "nbformat_minor": 5
}
