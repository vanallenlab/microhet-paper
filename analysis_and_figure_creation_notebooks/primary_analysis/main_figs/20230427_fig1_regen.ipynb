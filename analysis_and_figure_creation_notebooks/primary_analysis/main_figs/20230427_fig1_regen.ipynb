{
 "cells": [
  {
   "cell_type": "markdown",
   "metadata": {
    "tags": []
   },
   "source": [
    "## Imports & Helpers"
   ]
  },
  {
   "cell_type": "code",
   "execution_count": 2,
   "metadata": {},
   "outputs": [
    {
     "name": "stdout",
     "output_type": "stream",
     "text": [
      "MODIFYING EARLIER TIL CUTOFFS\n"
     ]
    }
   ],
   "source": [
    "%load_ext autoreload\n",
    "%autoreload 2\n",
    "\n",
    "import sys\n",
    "sys.path.append('../../')\n",
    "from checkmate_imports import *\n",
    "\n",
    "# global variables \n",
    "HUE_ORDER = ['stroma','pred_g2','intermediate_grade','pred_g4']\n",
    "MIN_SEGMENT_SIZE = 50\n",
    "GRADE_DIFF_THRESH = 0.35\n",
    "TUMOR_DIFF_THRESH = 0.35\n",
    "MIN_TUMOR_SEG_MEAN = 0.70\n",
    "NODE_DIFF_CUTOFF = invert_rag_weight(GRADE_DIFF_THRESH) \n",
    "MIN_TIL_COUNT = 10\n",
    "\n",
    "# GRADE_TC_CUTOFF = 0.4  # minimum segment mean grade score to consider in TIL processing \n",
    "# GRADE_TC_CUTOFF = 0.  # minimum segment mean grade score to consider in TIL processing \n",
    "GRADE_TC_CUTOFF = 0.8  # focusing on high grade foci only \n",
    "\n",
    "print('MODIFYING EARLIER TIL CUTOFFS')\n",
    "TIL_ISO_CUTOFF = 14  # based on none vs any AUROC bootstrap on high grade foci + no hard cases\n",
    "TIL_HIGH_CUTOFF = 48 # based on not-high vs high AUROC bootstrap on high grade foci + no hard cases\n",
    "FRAC_CUTOFF = 0.25\n",
    "TIL_AREA_CUTOFF = 10\n",
    "\n",
    "EXCLUSION_RATIO_CUTOFF = 1.5  # margin vs center ratio threshold for \"exclusion\" call\n",
    "TILES_PER_MM2 = 0.256**-2\n",
    "\n",
    "# assume 7x7 minimum case for a square area focus\n",
    "# going 2 tiles inner would result in a 5x5 inner cube and thus area cutoff of 25\n",
    "# MIN_CENTER_AREA = 25\n",
    "MIN_CENTER_AREA = 10  # relaxing from 25 to try to recover possible interesting foci"
   ]
  },
  {
   "cell_type": "code",
   "execution_count": 4,
   "metadata": {},
   "outputs": [],
   "source": [
    "from statannotations.Annotator import Annotator\n",
    "from statannot import add_stat_annotation\n",
    "from itertools import combinations, product"
   ]
  },
  {
   "cell_type": "code",
   "execution_count": 5,
   "metadata": {},
   "outputs": [],
   "source": [
    "# feature_subset = pd.read_csv('../rerun_final_patient_features.csv', index_col=0)\n",
    "feature_subset = pd.read_csv('/home/jupyter/checkmate-histo/consolidated_workflow/tcga_ricketts_rerun/rerun_final_patient_features_RICKETTS_FILTER.csv', index_col=0)\n",
    "\n",
    "anno = pd.read_csv('../manual_cm025_merged_braunsupp_annotations.csv') \n",
    "anno['unique_id'] = 'cm025_' + anno.subjid.astype(str)\n",
    "paper_desert = anno.loc[anno.ImmunoPhenotype == 'Desert','unique_id'].values\n",
    "paper_infl = anno.loc[anno.ImmunoPhenotype == 'Infiltrated','unique_id'].values\n",
    "paper_excl = anno.loc[anno.ImmunoPhenotype == 'Excluded','unique_id'].values\n",
    "anno = anno.set_index('unique_id')\n",
    "\n",
    "node_descriptions = pd.read_csv('../rerun_node_descriptions_with_score_components.csv',index_col=[0])\n",
    "node_descriptions['merged_labels'] = node_descriptions['merged_labels'].astype(int)\n",
    "\n",
    "prox_dist_edges = pd.read_csv('../rerun_proximal_and_distal_edge_annotations_with_score_components.csv',index_col=0)\n",
    "\n",
    "scores = pd.read_csv('../rerun_slidewise_grade_til_scores.csv', index_col=0)\n",
    "\n",
    "load_tile_info = False\n",
    "\n",
    "if load_tile_info:\n",
    "    tilewise_anno = pd.read_csv('../rerun_tilewise_grade_til_annotations.csv', index_col=0) # TIL specific CM025 subset\n",
    "\n",
    "    edge_info = pd.read_csv('../rerun_base_rag_edge_info_annotation.csv', index_col=[0,1,2,3])\n",
    "    # restore set objects (stored as string when saved to csv earlier)\n",
    "    edge_info['edge_set'] = edge_info.reset_index()[['edge0','edge1']].apply(lambda x: set(x),1).values\n",
    "\n",
    "    # read in non-TIL tilewise info \n",
    "    seg_agg = pd.read_csv('../rerun_tilewise_grade_nontil_annotations.csv', index_col=0)\n",
    "    \n",
    "    edge_agg_pivot = pd.read_csv('../rerun_base_rag_edge_info_annotation_processed.csv', index_col=[0,1,2])\n",
    "    edge_class_sum = pd.read_csv('../rerun_base_rag_edge_info_annotation_processed_sum.csv', index_col=0)\n",
    "    edge_binary = edge_class_sum > 0"
   ]
  },
  {
   "cell_type": "markdown",
   "metadata": {},
   "source": [
    "### Override previous infiltration cutoffs to simply be based on median "
   ]
  },
  {
   "cell_type": "code",
   "execution_count": 6,
   "metadata": {},
   "outputs": [
    {
     "name": "stdout",
     "output_type": "stream",
     "text": [
      "selecting cm025 only\n",
      "(623, 148)\n",
      "dropping unusable data (grade seg based)\n",
      "(569, 148)\n",
      "dropping entries missing any in ['os', 'os_event']\n",
      "renaming updated_nonstroma_grade_mean to nonstroma_grade_mean temporarily\n",
      "(558, 148)\n",
      "grade quantile bins:  [0.15729222 0.77056246 0.9979857 ]\n",
      "(558, 149)\n",
      "dropping low tumor tile count cases\n",
      "(558, 149)\n",
      "dropping G1 [keeping unannotated cases]\n",
      "(557, 149)\n",
      "dropping metastatic biopsies\n",
      "(439, 149)\n",
      "keeping all stages \n",
      "(439, 149)\n",
      "only keeping cases MSKCC risk group annotation\n",
      "(439, 150)\n",
      "converting bool edge presence labels to string\n"
     ]
    }
   ],
   "source": [
    "prev = prepare_cm025_subset(feature_subset, anno=anno, drug_type='any', relabel_edge_cats=True, qbins=2, mandatory_vars=[])"
   ]
  },
  {
   "cell_type": "code",
   "execution_count": 7,
   "metadata": {},
   "outputs": [
    {
     "data": {
      "text/plain": [
       "0.1585503963759909"
      ]
     },
     "execution_count": 7,
     "metadata": {},
     "output_type": "execute_result"
    }
   ],
   "source": [
    "prev['all_nodes_area_weighted'].dropna().median()"
   ]
  },
  {
   "cell_type": "code",
   "execution_count": 8,
   "metadata": {},
   "outputs": [
    {
     "data": {
      "text/html": [
       "<div>\n",
       "<style scoped>\n",
       "    .dataframe tbody tr th:only-of-type {\n",
       "        vertical-align: middle;\n",
       "    }\n",
       "\n",
       "    .dataframe tbody tr th {\n",
       "        vertical-align: top;\n",
       "    }\n",
       "\n",
       "    .dataframe thead th {\n",
       "        text-align: right;\n",
       "    }\n",
       "</style>\n",
       "<table border=\"1\" class=\"dataframe\">\n",
       "  <thead>\n",
       "    <tr style=\"text-align: right;\">\n",
       "      <th></th>\n",
       "      <th>count</th>\n",
       "      <th>mean</th>\n",
       "      <th>std</th>\n",
       "      <th>min</th>\n",
       "      <th>25%</th>\n",
       "      <th>50%</th>\n",
       "      <th>75%</th>\n",
       "      <th>max</th>\n",
       "    </tr>\n",
       "    <tr>\n",
       "      <th>global_infiltration_bin</th>\n",
       "      <th></th>\n",
       "      <th></th>\n",
       "      <th></th>\n",
       "      <th></th>\n",
       "      <th></th>\n",
       "      <th></th>\n",
       "      <th></th>\n",
       "      <th></th>\n",
       "    </tr>\n",
       "  </thead>\n",
       "  <tbody>\n",
       "    <tr>\n",
       "      <th>high_hg_global_infiltration</th>\n",
       "      <td>176.0</td>\n",
       "      <td>0.370849</td>\n",
       "      <td>0.247098</td>\n",
       "      <td>0.057034</td>\n",
       "      <td>0.157776</td>\n",
       "      <td>0.337544</td>\n",
       "      <td>0.543110</td>\n",
       "      <td>0.969733</td>\n",
       "    </tr>\n",
       "    <tr>\n",
       "      <th>low_hg_global_infiltration</th>\n",
       "      <td>87.0</td>\n",
       "      <td>0.017764</td>\n",
       "      <td>0.016090</td>\n",
       "      <td>0.000000</td>\n",
       "      <td>0.004593</td>\n",
       "      <td>0.013818</td>\n",
       "      <td>0.030297</td>\n",
       "      <td>0.055446</td>\n",
       "    </tr>\n",
       "    <tr>\n",
       "      <th>no_hg_present</th>\n",
       "      <td>0.0</td>\n",
       "      <td>NaN</td>\n",
       "      <td>NaN</td>\n",
       "      <td>NaN</td>\n",
       "      <td>NaN</td>\n",
       "      <td>NaN</td>\n",
       "      <td>NaN</td>\n",
       "      <td>NaN</td>\n",
       "    </tr>\n",
       "  </tbody>\n",
       "</table>\n",
       "</div>"
      ],
      "text/plain": [
       "                             count      mean       std       min       25%  \\\n",
       "global_infiltration_bin                                                      \n",
       "high_hg_global_infiltration  176.0  0.370849  0.247098  0.057034  0.157776   \n",
       "low_hg_global_infiltration    87.0  0.017764  0.016090  0.000000  0.004593   \n",
       "no_hg_present                  0.0       NaN       NaN       NaN       NaN   \n",
       "\n",
       "                                  50%       75%       max  \n",
       "global_infiltration_bin                                    \n",
       "high_hg_global_infiltration  0.337544  0.543110  0.969733  \n",
       "low_hg_global_infiltration   0.013818  0.030297  0.055446  \n",
       "no_hg_present                     NaN       NaN       NaN  "
      ]
     },
     "execution_count": 8,
     "metadata": {},
     "output_type": "execute_result"
    }
   ],
   "source": [
    "prev.groupby(['global_infiltration_bin'])['all_nodes_area_weighted'].describe()"
   ]
  },
  {
   "cell_type": "code",
   "execution_count": 9,
   "metadata": {},
   "outputs": [
    {
     "name": "stdout",
     "output_type": "stream",
     "text": [
      "Setting Area Infiltration Cutoff to be 0.15855 based on Median\n"
     ]
    }
   ],
   "source": [
    "MEDIAN_HG_INF_CUTOFF = 0.15855\n",
    "print(f'Setting Area Infiltration Cutoff to be {MEDIAN_HG_INF_CUTOFF} based on Median')"
   ]
  },
  {
   "cell_type": "code",
   "execution_count": 10,
   "metadata": {},
   "outputs": [],
   "source": [
    "crit = (feature_subset['cohort'] == 'cm025') & (feature_subset['usable_til_data']) & (feature_subset['all_nodes_area_weighted'] < MEDIAN_HG_INF_CUTOFF)"
   ]
  },
  {
   "cell_type": "code",
   "execution_count": 11,
   "metadata": {},
   "outputs": [],
   "source": [
    "feature_subset.loc[crit, 'global_infiltration_bin'] = 'low_hg_global_infiltration'"
   ]
  },
  {
   "cell_type": "code",
   "execution_count": 12,
   "metadata": {},
   "outputs": [
    {
     "name": "stdout",
     "output_type": "stream",
     "text": [
      "selecting cm025 only\n",
      "(623, 148)\n",
      "dropping unusable data (grade seg based)\n",
      "(569, 148)\n",
      "dropping entries missing any in ['os', 'os_event']\n",
      "renaming updated_nonstroma_grade_mean to nonstroma_grade_mean temporarily\n",
      "(558, 148)\n",
      "grade quantile bins:  [0.15729222 0.77056246 0.9979857 ]\n",
      "(558, 149)\n",
      "dropping low tumor tile count cases\n",
      "(558, 149)\n",
      "dropping G1 [keeping unannotated cases]\n",
      "(557, 149)\n",
      "dropping metastatic biopsies\n",
      "(439, 149)\n",
      "keeping all stages \n",
      "(439, 149)\n",
      "only keeping cases MSKCC risk group annotation\n",
      "(439, 150)\n",
      "converting bool edge presence labels to string\n"
     ]
    }
   ],
   "source": [
    "update = prepare_cm025_subset(feature_subset, anno=anno, drug_type='any', relabel_edge_cats=True, qbins=2, mandatory_vars=[])"
   ]
  },
  {
   "cell_type": "code",
   "execution_count": 13,
   "metadata": {},
   "outputs": [
    {
     "data": {
      "text/html": [
       "<div>\n",
       "<style scoped>\n",
       "    .dataframe tbody tr th:only-of-type {\n",
       "        vertical-align: middle;\n",
       "    }\n",
       "\n",
       "    .dataframe tbody tr th {\n",
       "        vertical-align: top;\n",
       "    }\n",
       "\n",
       "    .dataframe thead th {\n",
       "        text-align: right;\n",
       "    }\n",
       "</style>\n",
       "<table border=\"1\" class=\"dataframe\">\n",
       "  <thead>\n",
       "    <tr style=\"text-align: right;\">\n",
       "      <th></th>\n",
       "      <th>count</th>\n",
       "      <th>mean</th>\n",
       "      <th>std</th>\n",
       "      <th>min</th>\n",
       "      <th>25%</th>\n",
       "      <th>50%</th>\n",
       "      <th>75%</th>\n",
       "      <th>max</th>\n",
       "    </tr>\n",
       "    <tr>\n",
       "      <th>global_infiltration_bin</th>\n",
       "      <th></th>\n",
       "      <th></th>\n",
       "      <th></th>\n",
       "      <th></th>\n",
       "      <th></th>\n",
       "      <th></th>\n",
       "      <th></th>\n",
       "      <th></th>\n",
       "    </tr>\n",
       "  </thead>\n",
       "  <tbody>\n",
       "    <tr>\n",
       "      <th>high_hg_global_infiltration</th>\n",
       "      <td>132.0</td>\n",
       "      <td>0.459134</td>\n",
       "      <td>0.223431</td>\n",
       "      <td>0.15855</td>\n",
       "      <td>0.248671</td>\n",
       "      <td>0.400099</td>\n",
       "      <td>0.619838</td>\n",
       "      <td>0.969733</td>\n",
       "    </tr>\n",
       "    <tr>\n",
       "      <th>low_hg_global_infiltration</th>\n",
       "      <td>131.0</td>\n",
       "      <td>0.047398</td>\n",
       "      <td>0.046386</td>\n",
       "      <td>0.00000</td>\n",
       "      <td>0.008805</td>\n",
       "      <td>0.030429</td>\n",
       "      <td>0.087560</td>\n",
       "      <td>0.155452</td>\n",
       "    </tr>\n",
       "    <tr>\n",
       "      <th>no_hg_present</th>\n",
       "      <td>0.0</td>\n",
       "      <td>NaN</td>\n",
       "      <td>NaN</td>\n",
       "      <td>NaN</td>\n",
       "      <td>NaN</td>\n",
       "      <td>NaN</td>\n",
       "      <td>NaN</td>\n",
       "      <td>NaN</td>\n",
       "    </tr>\n",
       "  </tbody>\n",
       "</table>\n",
       "</div>"
      ],
      "text/plain": [
       "                             count      mean       std      min       25%  \\\n",
       "global_infiltration_bin                                                     \n",
       "high_hg_global_infiltration  132.0  0.459134  0.223431  0.15855  0.248671   \n",
       "low_hg_global_infiltration   131.0  0.047398  0.046386  0.00000  0.008805   \n",
       "no_hg_present                  0.0       NaN       NaN      NaN       NaN   \n",
       "\n",
       "                                  50%       75%       max  \n",
       "global_infiltration_bin                                    \n",
       "high_hg_global_infiltration  0.400099  0.619838  0.969733  \n",
       "low_hg_global_infiltration   0.030429  0.087560  0.155452  \n",
       "no_hg_present                     NaN       NaN       NaN  "
      ]
     },
     "execution_count": 13,
     "metadata": {},
     "output_type": "execute_result"
    }
   ],
   "source": [
    "update.groupby(['global_infiltration_bin'])['all_nodes_area_weighted'].describe()"
   ]
  },
  {
   "cell_type": "code",
   "execution_count": 14,
   "metadata": {},
   "outputs": [],
   "source": [
    "NONKM_FONT_SCALE = 1.8\n",
    "KM_FONT_SCALE = 1.2"
   ]
  },
  {
   "cell_type": "markdown",
   "metadata": {},
   "source": [
    "### Fig 1: ROC Curve KIRC G2 vs G4"
   ]
  },
  {
   "cell_type": "code",
   "execution_count": 15,
   "metadata": {},
   "outputs": [],
   "source": [
    "# from sklearn.metrics import f1_score, roc_auc_score, average_precision_score, roc_curve, confusion_matrix, plot_confusion_matrix\n",
    "\n",
    "# temp = feature_subset.loc[(feature_subset.cohort =='kirc') & (feature_subset.grade.isin(['G2','G4']))]\n",
    "# print(temp.shape)\n",
    "# temp = temp.loc[~temp['nonstroma_grade_mean'].isna()]\n",
    "# print(temp.shape)\n",
    "# temp['g4_not_g2'] = (temp.grade == 'G4').astype(int)\n",
    "# temp['slide_pred'] = (temp['nonstroma_grade_mean'] > 0.5).astype(int)\n",
    "# temp['correct_slide_pred'] = temp['g4_not_g2'] == temp['slide_pred']\n",
    "# temp['correct_slide_pred'].mean()\n",
    "\n",
    "# score = roc_auc_score(temp['g4_not_g2'], temp['nonstroma_grade_mean'])\n",
    "# fpr, tpr, thresh =  roc_curve(temp['g4_not_g2'], temp['nonstroma_grade_mean'])\n",
    "\n",
    "# set_rc(8,8, NONKM_FONT_SCALE)\n",
    "\n",
    "# plt.plot(fpr, tpr, label=f'AUROC {score:.3f}', linewidth=5)\n",
    "# plt.xlabel('FPR')\n",
    "# plt.ylabel('TPR')\n",
    "# plt.title('TCGA-KIRC \\n G2 vs G4')\n",
    "# plt.legend(loc='lower right')\n",
    "# plt.savefig('./main_figs/kirc_auroc.pdf', bbox_inches='tight')\n",
    "# plt.show()"
   ]
  },
  {
   "cell_type": "markdown",
   "metadata": {},
   "source": [
    "### Fig 1: Grade Score by Cohort "
   ]
  },
  {
   "cell_type": "code",
   "execution_count": null,
   "metadata": {},
   "outputs": [],
   "source": []
  },
  {
   "cell_type": "code",
   "execution_count": null,
   "metadata": {},
   "outputs": [],
   "source": []
  },
  {
   "cell_type": "code",
   "execution_count": 29,
   "metadata": {},
   "outputs": [
    {
     "name": "stdout",
     "output_type": "stream",
     "text": [
      "p-value annotation legend:\n",
      "ns: 5.00e-02 < p <= 1.00e+00\n",
      "*: 1.00e-02 < p <= 5.00e-02\n",
      "**: 1.00e-03 < p <= 1.00e-02\n",
      "***: 1.00e-04 < p <= 1.00e-03\n",
      "****: p <= 1.00e-04\n",
      "\n",
      "TCGA-KIRC_G2 v.s. TCGA-KIRC_G4: Mann-Whitney-Wilcoxon test two-sided with Bonferroni correction, P_val=1.011e-18 U_stat=1.374e+03\n",
      "DFCI-PROFILE_G4 v.s. DFCI-PROFILE_G3: Mann-Whitney-Wilcoxon test two-sided with Bonferroni correction, P_val=3.688e-10 U_stat=5.379e+03\n",
      "CM-025_G4 v.s. CM-025_G3: Mann-Whitney-Wilcoxon test two-sided with Bonferroni correction, P_val=4.502e-09 U_stat=5.425e+03\n",
      "CM-025_G2 v.s. CM-025_G4: Mann-Whitney-Wilcoxon test two-sided with Bonferroni correction, P_val=2.605e-19 U_stat=3.120e+02\n",
      "DFCI-PROFILE_G2 v.s. DFCI-PROFILE_G4: Mann-Whitney-Wilcoxon test two-sided with Bonferroni correction, P_val=1.683e-20 U_stat=3.620e+02\n",
      "TCGA-KIRC_G4 v.s. TCGA-KIRC_G3: Mann-Whitney-Wilcoxon test two-sided with Bonferroni correction, P_val=3.289e-09 U_stat=8.220e+03\n",
      "CM-025_G2 v.s. CM-025_G3: Mann-Whitney-Wilcoxon test two-sided with Bonferroni correction, P_val=8.056e-08 U_stat=9.130e+02\n",
      "DFCI-PROFILE_G2 v.s. DFCI-PROFILE_G3: Mann-Whitney-Wilcoxon test two-sided with Bonferroni correction, P_val=8.572e-10 U_stat=1.887e+03\n",
      "TCGA-KIRC_G2 v.s. TCGA-KIRC_G3: Mann-Whitney-Wilcoxon test two-sided with Bonferroni correction, P_val=1.504e-09 U_stat=9.613e+03\n"
     ]
    },
    {
     "data": {
      "image/png": "[encoded data removed]",
      "text/plain": [
       "<Figure size 1080x576 with 1 Axes>"
      ]
     },
     "metadata": {},
     "output_type": "display_data"
    }
   ],
   "source": [
    "# %%capture\n",
    "set_rc(15,8, 2)\n",
    "sns.set_style('white')\n",
    "\n",
    "data = feature_subset.copy()\n",
    "data['cohort'] = data['cohort'].str.upper()\n",
    "data['cohort'] = data['cohort'].replace({'KIRC':'TCGA-KIRC','CM025':'CM-025','PROFILE':'DFCI-PROFILE'})\n",
    "\n",
    "x = 'cohort'\n",
    "y = 'updated_nonstroma_grade_mean'\n",
    "hue = 'grade'\n",
    "\n",
    "hue_order = ['G2','G3','G4']\n",
    "order = [x.upper() for x in ['dfci-profile','tcga-kirc','cm-025',]]\n",
    "box_pairs = []\n",
    "[box_pairs.extend(list(combinations([(cohort,x) for x in ['G2','G3','G4']], 2))) for cohort in ['TCGA-KIRC','CM-025','DFCI-PROFILE']]\n",
    "\n",
    "\n",
    "g = sns.boxplot(x=x, order=order, hue=hue, hue_order=hue_order, y=y, data=data)\n",
    "move_leg(g, x=1)\n",
    "test_results = add_stat_annotation(g, data=data, x=x, y=y, hue=hue,\n",
    "                                   box_pairs=box_pairs,\n",
    "                                   test='Mann-Whitney', text_format='star',\n",
    "                                   loc='inside', verbose=2)\n",
    "test_results\n",
    "\n",
    "plt.ylabel('Grade Score')\n",
    "plt.xlabel('Cohort')\n",
    "\n",
    "\n",
    "plt.savefig(f'./20230427_regen_{y}_vs_{hue}_all_cohorts_signif_test_marker_wide_box.pdf', bbox_inches='tight')"
   ]
  },
  {
   "cell_type": "code",
   "execution_count": null,
   "metadata": {},
   "outputs": [],
   "source": []
  },
  {
   "cell_type": "code",
   "execution_count": null,
   "metadata": {},
   "outputs": [],
   "source": []
  },
  {
   "cell_type": "code",
   "execution_count": null,
   "metadata": {},
   "outputs": [],
   "source": []
  },
  {
   "cell_type": "code",
   "execution_count": 30,
   "metadata": {},
   "outputs": [
    {
     "name": "stdout",
     "output_type": "stream",
     "text": [
      "p-value annotation legend:\n",
      "ns: 5.00e-02 < p <= 1.00e+00\n",
      "*: 1.00e-02 < p <= 5.00e-02\n",
      "**: 1.00e-03 < p <= 1.00e-02\n",
      "***: 1.00e-04 < p <= 1.00e-03\n",
      "****: p <= 1.00e-04\n",
      "\n",
      "DFCI-PROFILE\n",
      " Train Cohort_G4 v.s. DFCI-PROFILE\n",
      " Train Cohort_G3: Mann-Whitney-Wilcoxon test two-sided with Bonferroni correction, P_val=3.688e-10 U_stat=5.379e+03\n",
      "TCGA-KIRC\n",
      " Test Cohort_G2 v.s. TCGA-KIRC\n",
      " Test Cohort_G4: Mann-Whitney-Wilcoxon test two-sided with Bonferroni correction, P_val=1.011e-18 U_stat=1.374e+03\n",
      "CM-025\n",
      " Test Cohort_G4 v.s. CM-025\n",
      " Test Cohort_G3: Mann-Whitney-Wilcoxon test two-sided with Bonferroni correction, P_val=4.502e-09 U_stat=5.425e+03\n",
      "CM-025\n",
      " Test Cohort_G2 v.s. CM-025\n",
      " Test Cohort_G4: Mann-Whitney-Wilcoxon test two-sided with Bonferroni correction, P_val=2.605e-19 U_stat=3.120e+02\n",
      "DFCI-PROFILE\n",
      " Train Cohort_G2 v.s. DFCI-PROFILE\n",
      " Train Cohort_G4: Mann-Whitney-Wilcoxon test two-sided with Bonferroni correction, P_val=1.683e-20 U_stat=3.620e+02\n",
      "TCGA-KIRC\n",
      " Test Cohort_G4 v.s. TCGA-KIRC\n",
      " Test Cohort_G3: Mann-Whitney-Wilcoxon test two-sided with Bonferroni correction, P_val=3.289e-09 U_stat=8.220e+03\n",
      "DFCI-PROFILE\n",
      " Train Cohort_G2 v.s. DFCI-PROFILE\n",
      " Train Cohort_G3: Mann-Whitney-Wilcoxon test two-sided with Bonferroni correction, P_val=8.572e-10 U_stat=1.887e+03\n",
      "CM-025\n",
      " Test Cohort_G2 v.s. CM-025\n",
      " Test Cohort_G3: Mann-Whitney-Wilcoxon test two-sided with Bonferroni correction, P_val=8.056e-08 U_stat=9.130e+02\n",
      "TCGA-KIRC\n",
      " Test Cohort_G2 v.s. TCGA-KIRC\n",
      " Test Cohort_G3: Mann-Whitney-Wilcoxon test two-sided with Bonferroni correction, P_val=1.504e-09 U_stat=9.613e+03\n"
     ]
    },
    {
     "data": {
      "image/png": "[encoded data removed]",
      "text/plain": [
       "<Figure size 1080x576 with 1 Axes>"
      ]
     },
     "metadata": {},
     "output_type": "display_data"
    }
   ],
   "source": [
    "# %%capture\n",
    "set_rc(15,8, 2)\n",
    "sns.set_style('white')\n",
    "\n",
    "data = feature_subset.copy()\n",
    "data['cohort'] = data['cohort'].str.upper()\n",
    "data['cohort'] = data['cohort'].replace({'KIRC':'TCGA-KIRC\\n Test Cohort','CM025':'CM-025\\n Test Cohort','PROFILE':'DFCI-PROFILE\\n Train Cohort'})\n",
    "\n",
    "x = 'cohort'\n",
    "y = 'updated_nonstroma_grade_mean'\n",
    "hue = 'grade'\n",
    "\n",
    "hue_order = ['G2','G3','G4']\n",
    "order = ['DFCI-PROFILE\\n Train Cohort', 'TCGA-KIRC\\n Test Cohort', 'CM-025\\n Test Cohort']\n",
    "box_pairs = []\n",
    "[box_pairs.extend(list(combinations([(cohort,x) for x in ['G2','G3','G4']], 2))) for cohort in order]\n",
    "\n",
    "\n",
    "g = sns.boxplot(x=x, order=order, hue=hue, hue_order=hue_order, y=y, data=data)\n",
    "move_leg(g, x=1)\n",
    "test_results = add_stat_annotation(g, data=data, x=x, y=y, hue=hue,\n",
    "                                   box_pairs=box_pairs,\n",
    "                                   test='Mann-Whitney', text_format='star',\n",
    "                                   loc='inside', verbose=2)\n",
    "test_results\n",
    "\n",
    "plt.ylabel('Grade Score')\n",
    "plt.xlabel('')\n",
    "\n",
    "\n",
    "plt.savefig(f'./20230427_regen_{y}_vs_{hue}_all_cohorts_signif_test_marker_wide_box_alt.pdf', bbox_inches='tight')"
   ]
  },
  {
   "cell_type": "code",
   "execution_count": null,
   "metadata": {},
   "outputs": [],
   "source": []
  },
  {
   "cell_type": "code",
   "execution_count": null,
   "metadata": {},
   "outputs": [],
   "source": []
  },
  {
   "cell_type": "code",
   "execution_count": null,
   "metadata": {},
   "outputs": [],
   "source": []
  },
  {
   "cell_type": "code",
   "execution_count": null,
   "metadata": {},
   "outputs": [],
   "source": []
  }
 ],
 "metadata": {
  "environment": {
   "name": "pytorch-gpu.1-4.m56",
   "type": "gcloud",
   "uri": "gcr.io/deeplearning-platform-release/pytorch-gpu.1-4:m56"
  },
  "kernelspec": {
   "display_name": "pathml",
   "language": "python",
   "name": "pathml"
  },
  "language_info": {
   "codemirror_mode": {
    "name": "ipython",
    "version": 3
   },
   "file_extension": ".py",
   "mimetype": "text/x-python",
   "name": "python",
   "nbconvert_exporter": "python",
   "pygments_lexer": "ipython3",
   "version": "3.8.8"
  }
 },
 "nbformat": 4,
 "nbformat_minor": 5
}
