{
 "cells": [
  {
   "cell_type": "markdown",
   "metadata": {},
   "source": [
    "## Imports & Helpers"
   ]
  },
  {
   "cell_type": "code",
   "execution_count": 1,
   "metadata": {},
   "outputs": [],
   "source": [
    "%load_ext autoreload\n",
    "%autoreload 2\n",
    "\n",
    "import sys\n",
    "sys.path.append('../')\n",
    "\n",
    "from checkmate_imports import *\n",
    "\n",
    "# global variables \n",
    "HUE_ORDER = ['stroma','pred_g2','intermediate_grade','pred_g4']\n",
    "MIN_SEGMENT_SIZE = 50\n",
    "GRADE_DIFF_THRESH = 0.35\n",
    "TUMOR_DIFF_THRESH = 0.35\n",
    "MIN_TUMOR_SEG_MEAN = 0.70\n",
    "NODE_DIFF_CUTOFF = invert_rag_weight(GRADE_DIFF_THRESH)\n",
    "TILES_PER_MM2 = 0.256**-2\n",
    "\n",
    "MIN_TIL_COUNT = 10\n",
    "TIL_ISO_CUTOFF = 14  # based on none vs any AUROC bootstrap on high grade foci + no hard cases\n",
    "TIL_HIGH_CUTOFF = 48 # based on not-high vs high AUROC bootstrap on high grade foci + no hard cases\n",
    "FRAC_CUTOFF = 0.25\n",
    "TIL_AREA_CUTOFF = 10\n",
    "\n",
    "# assume 7x7 minimum case for a square area focus\n",
    "# going 2 tiles inner would result in a 5x5 inner cube and thus area cutoff of 25\n",
    "# MIN_CENTER_AREA = 25\n",
    "MIN_CENTER_AREA = 10  # relaxing from 25 to try to recover possible interesting foci"
   ]
  },
  {
   "cell_type": "code",
   "execution_count": 2,
   "metadata": {},
   "outputs": [],
   "source": [
    "# set minimum # tiles to consider in analysis\n",
    "MIN_TILES = 200\n",
    "\n",
    "def get_anno(df):\n",
    "    return df.reset_index().drop_duplicates(df.index.name).set_index(df.index.name)\n",
    "\n",
    "def run_category_annotation(results, homog_cutoff=0.7, tumor_cutoff=0.5, g2_cutoff=0.1, g4_cutoff=0.1, grade_var='prob_g4_not_g2'):\n",
    "    print(f'assigning categories based on {grade_var}')\n",
    "    \n",
    "    category_count = results.groupby(['unique_id','meta']).count().iloc[:,0]\n",
    "    category_count.name = 'category_count'\n",
    "\n",
    "    nonstroma_category_freq = category_count.drop(labels=['stroma'], level=1).groupby('unique_id').apply(lambda x: x/x.sum())\n",
    "    nonstroma_category_freq.name = 'nonstroma_category_freq'\n",
    "\n",
    "    homog_candidates = get_indices(nonstroma_category_freq.groupby('unique_id').max() >= homog_cutoff)\n",
    "    het_candidates = get_indices(nonstroma_category_freq.groupby('unique_id').max() < homog_cutoff)\n",
    "\n",
    "    nonstroma_category_freq_pivot = pd.DataFrame(nonstroma_category_freq).reset_index().pivot_table(index='unique_id', columns='meta', values='nonstroma_category_freq')\n",
    "    nonstroma_category_freq_pivot.columns = [x+'_nonstroma_freq' for x in nonstroma_category_freq_pivot.columns]\n",
    "    nonstroma_category_freq_pivot = nonstroma_category_freq_pivot.fillna(0)\n",
    "\n",
    "    max_category_freq = nonstroma_category_freq.groupby('unique_id').max()\n",
    "    max_category_freq.name = 'max_category_freq'\n",
    "\n",
    "    min_category_freq = nonstroma_category_freq.groupby('unique_id').min()\n",
    "    min_category_freq.name = 'min_category_freq'\n",
    "\n",
    "    results['max_category_freq'] = max_category_freq\n",
    "    results['min_category_freq'] = min_category_freq\n",
    "\n",
    "    results['candidate_category'] = np.nan\n",
    "\n",
    "    nonstroma_grade_mean = results.loc[results.meta != 'stroma', grade_var].groupby('unique_id').mean()\n",
    "    nonstroma_grade_mean.name = 'nonstroma_grade_mean'\n",
    "\n",
    "    tumor_tile_count = results.loc[results.meta != 'stroma'].groupby('unique_id').count().iloc[:,0]\n",
    "    tumor_tile_count.name = 'tumor_tile_count'\n",
    "\n",
    "    tile_count = results.groupby('unique_id').count().iloc[:,0]\n",
    "    tile_count.name = 'tile_count'\n",
    "\n",
    "    #################\n",
    "    metrics = pd.concat([nonstroma_category_freq_pivot, max_category_freq, min_category_freq, tile_count, tumor_tile_count, nonstroma_grade_mean], 1)\n",
    "\n",
    "    crit0 = (metrics['max_category_freq'] < homog_cutoff) & (metrics['tumor_tile_count'] >= MIN_TILES)\n",
    "    metrics.loc[crit0, 'candidate_category'] = 'heterogeneous'\n",
    "\n",
    "    crit0 = (metrics['max_category_freq'] >= homog_cutoff) & (metrics['tumor_tile_count'] >= MIN_TILES)\n",
    "    metrics.loc[crit0, 'candidate_category'] = 'homogeneous'\n",
    "\n",
    "    combined_simple_anno = get_anno(results)\n",
    "    metrics['candidate_category'] = metrics['candidate_category'].fillna('other')\n",
    "    metrics['nonstroma_grade_mean_above_050'] = metrics['nonstroma_grade_mean'] > tumor_cutoff\n",
    "\n",
    "    # add additional subset to candidate_category\n",
    "    crit_a = metrics.candidate_category == 'heterogeneous'\n",
    "    crit_b = (metrics.pred_g2_nonstroma_freq > g2_cutoff) & (metrics.pred_g4_nonstroma_freq > g4_cutoff)\n",
    "\n",
    "    crit_c = metrics.candidate_category == 'homogeneous'\n",
    "\n",
    "    metrics.loc[crit_a & crit_b, 'candidate_category_ext'] = 'heterogeneous_mincount'\n",
    "    metrics.loc[crit_a & ~crit_b, 'candidate_category_ext'] = 'heterogeneous_other'\n",
    "    metrics.loc[crit_c, 'candidate_category_ext'] = 'homogeneous'\n",
    "    metrics['candidate_category_ext'] = metrics['candidate_category_ext'].fillna('other')\n",
    "    \n",
    "    return metrics"
   ]
  },
  {
   "cell_type": "markdown",
   "metadata": {},
   "source": [
    "#### Profile ccRCC Info "
   ]
  },
  {
   "cell_type": "code",
   "execution_count": 3,
   "metadata": {},
   "outputs": [],
   "source": [
    "profile_anno = pd.read_csv('/home/jupyter/profile_rcc_data_anno_updated_20200114.csv')\n",
    "profile_anno  = profile_anno.set_index('UNIQUE_SAMPLE_ID')\n",
    "profile_anno.index.name = 'unique_id'\n",
    "\n",
    "profile_anno = profile_anno.reset_index()\n",
    "profile_anno['unique_id'] = profile_anno.unique_id.values.astype(float).astype(int)\n",
    "profile_anno = profile_anno.set_index('unique_id')\n",
    "\n",
    "profile_anno['grade'] = profile_anno['fuhrman_grade']\n",
    "profile_anno.loc[~profile_anno.grade.isna(), 'grade'] = profile_anno.loc[~profile_anno.grade.isna(), 'grade'].apply(lambda x: 'G'+str(int(x)))\n",
    "profile_anno['grade'] = profile_anno.grade.fillna('GX')\n",
    "\n",
    "stage_map = {1.:'Stage I', 2.:'Stage II', 3.:'Stage III', 4.: 'Stage IV'}\n",
    "profile_anno['stage'] = profile_anno['stage_at_diagnosis_pathology_preferred_otherwise_clinica'].map(stage_map).fillna('no_anno')\n",
    "\n",
    "# explicitly add cohort name to prevent int ambiguity\n",
    "profile_anno.index = 'profile_' + profile_anno.index.astype(str)\n",
    "\n",
    "\n",
    "profile_inf_tilemean = pd.read_csv('/home/jupyter/checkmate-histo/20220121_rerun_all_profile_ccrcc_with_20210312_profile_models_g24_ENSEMBLE.csv')\n",
    "profile_inf_tilemean = profile_inf_tilemean.set_index('slide_id').join(profile_anno.reset_index().set_index('file_id')['unique_id']).set_index('unique_id')\n",
    "\n",
    "# profile_assignments = pd.read_csv('/home/jupyter/20210119_profile_ccrcc_clustering_label_agg.csv', index_col=0)\n",
    "# profile_assignments.index = 'profile_'+ profile_assignments.index.astype(int).astype(str)"
   ]
  },
  {
   "cell_type": "markdown",
   "metadata": {},
   "source": [
    "#### KIRC Info (20210405 full tile 4-fold inference)"
   ]
  },
  {
   "cell_type": "code",
   "execution_count": 4,
   "metadata": {},
   "outputs": [
    {
     "name": "stdout",
     "output_type": "stream",
     "text": [
      "Correlation between each of 4 folds preditions\n",
      "[[1.         0.83721559 0.82491198 0.87629731]\n",
      " [0.83721559 1.         0.76440673 0.84271355]\n",
      " [0.82491198 0.76440673 1.         0.78926071]\n",
      " [0.87629731 0.84271355 0.78926071 1.        ]]\n"
     ]
    }
   ],
   "source": [
    "kirc_inf = pd.read_pickle('/mnt/disks/bms/20210405_kirc_inference_using_profile_g2_g4_models_all_slides.pkl')\n",
    "kirc_inf = kirc_inf.set_index('slide_id')\n",
    "kirc_inf_pivot = kirc_inf.pivot_table(index=['slide_id','x','y','prob_tumor'], columns='model_id',values='class_1_model_prob').sort_index()\n",
    "print('Correlation between each of 4 folds preditions')\n",
    "print(np.corrcoef(kirc_inf_pivot.sample(10000).T))\n",
    "\n",
    "# grab 4-fold inference p(G4 not G2), and p(Tumor)\n",
    "kirc_inf_tilemean = kirc_inf.groupby(['slide_id','x','y']).mean()\n",
    "kirc_inf_tilemean = reset_set_idx(kirc_inf_tilemean, 'slide_id')\n",
    "kirc_inf_tilemean['slide_id'] = kirc_inf_tilemean.reset_index()['slide_id'].apply(lambda x: '-'.join(x.split('-')[:3])).values"
   ]
  },
  {
   "cell_type": "code",
   "execution_count": 5,
   "metadata": {},
   "outputs": [
    {
     "name": "stdout",
     "output_type": "stream",
     "text": [
      "(447, 752)\n",
      "(406, 752)\n"
     ]
    }
   ],
   "source": [
    "kirc_inf = kirc_inf.reset_index()\n",
    "kirc_inf['tcga_id'] = kirc_inf['slide_id'].apply(lambda x: '-'.join(x.split('-')[:3]))\n",
    "kirc_inf = kirc_inf.set_index('tcga_id')\n",
    "\n",
    "kirc_scores = pd.read_csv('/home/jupyter/20210308_kirc_wgii_ith_scores.csv')\n",
    "\n",
    "kirc_anno = pd.read_csv('/home/jupyter/kirc_anno_with_angio_scores.csv').set_index('Unnamed: 0')\n",
    "print(kirc_anno.shape)\n",
    "kirc_anno = kirc_anno.drop_duplicates('bcr_patient_uuid')\n",
    "print(kirc_anno.shape)\n",
    "\n",
    "kirc_anno.index.name = 'tcga_id'\n",
    "kirc_anno['grade'] = kirc_anno.neoplasm_histologic_grade\n",
    "kirc_anno['stage'] = kirc_anno.pathologic_stage\n",
    "\n",
    "pancan_survival = pd.read_excel('/home/jupyter/TCGA-CDR-SupplementalTableS1.xlsx')\n",
    "kirc_survival = pancan_survival.loc[pancan_survival['type'] == 'KIRC']\n",
    "kirc_survival = kirc_survival.set_index('bcr_patient_barcode')"
   ]
  },
  {
   "cell_type": "markdown",
   "metadata": {},
   "source": [
    "### CM-025 Info"
   ]
  },
  {
   "cell_type": "markdown",
   "metadata": {},
   "source": [
    "##### Load in updated inference (4-folds of models from 20210312 profile ccRCC) on CM-025\n",
    "- Use already averaged version (if needed, full inference set `20210427_tvnt_and_g2_g4_inference_profile_ccrcc_training_manual_cm025_tiles_INFERENCE_AGG_ALL_MODELS.pkl`"
   ]
  },
  {
   "cell_type": "code",
   "execution_count": 6,
   "metadata": {},
   "outputs": [],
   "source": [
    "# cm025_inf = pd.read_csv('/mnt/disks/bms/20210316_cm025_inference_using_profile_g2_g4_models_ALL_TILES.csv')\n",
    "# cm025_inf = cm025_inf.set_index('slide_id')\n",
    "# cm025_inf_pivot = cm025_inf.pivot_table(index=['slide_id','x','y','prob_tumor'], columns='model_id',values='class_1_model_prob').sort_index()\n",
    "# print('Correlation between each of 4 folds preditions')\n",
    "# print(np.corrcoef(cm025_inf_pivot.sample(10000).T))\n",
    "\n",
    "# grab 4-fold inference p(G4 not G2), and p(Tumor)\n",
    "cm025_inf_tilemean = pd.read_pickle('/mnt/disks/manual_bms_tiles/20210427_tvnt_and_g2_g4_inference_profile_ccrcc_training_manual_cm025_tiles_INFERENCE_AGG_ENSEMBLEMEAN.pkl')\n",
    "# cm025_inf_tilemean = cm025_inf.groupby(['slide_id','x','y']).mean()\n",
    "cm025_inf_tilemean = reset_set_idx(cm025_inf_tilemean, 'subjid')\n",
    "cm025_inf_tilemean.index = 'cm025_' + cm025_inf_tilemean.index.astype(str)"
   ]
  },
  {
   "cell_type": "code",
   "execution_count": 7,
   "metadata": {},
   "outputs": [],
   "source": [
    "# grab harmonized ITH calculation from `20210305_revisiting_kirc_ith_score` NB\n",
    "bms_ith_recalc = pd.read_csv('/home/jupyter/20210308_bms_all_cohorts_ith_score_describe_ccf_mod.csv')\n",
    "# cm025_anno = pd.read_csv('./cm025_manifest_with_braun2020_annotations.csv')\n",
    "cm025_anno = pd.read_csv('/mnt/disks/manual_bms_tiles/manual_cm025_merged_braunsupp_annotations.csv').set_index('subjid')"
   ]
  },
  {
   "cell_type": "markdown",
   "metadata": {},
   "source": [
    "#### Add updated annotation set from Thomas/Sabina lab\n"
   ]
  },
  {
   "cell_type": "code",
   "execution_count": 8,
   "metadata": {},
   "outputs": [
    {
     "name": "stdout",
     "output_type": "stream",
     "text": [
      "dropping cases without image file annotated\n"
     ]
    }
   ],
   "source": [
    "manual_bms_grade_sr_anno = pd.read_excel('/home/jupyter/Copy of CA209-025 H&E grade, histotype,necrosis reviewed with SS +AC 5.30.20.xlsx')\n",
    "manual_bms_grade_sr_anno['subjid'] = manual_bms_grade_sr_anno['Patient ID'].apply(lambda x: x.split(' ')[-1].lstrip('0'))\n",
    "manual_bms_grade_sr_anno['unique_id'] = 'cm025_'+manual_bms_grade_sr_anno['subjid'].astype(str)\n",
    "\n",
    "print('dropping cases without image file annotated')\n",
    "manual_bms_grade_sr_anno = manual_bms_grade_sr_anno.loc[~manual_bms_grade_sr_anno['Image Location'].isna()]"
   ]
  },
  {
   "cell_type": "code",
   "execution_count": 9,
   "metadata": {},
   "outputs": [],
   "source": [
    "manual_bms_grade_sr_anno['slide_id'] = manual_bms_grade_sr_anno['Image Location'].apply(lambda x: x.split('\\\\')[-1].strip('.svs'))"
   ]
  },
  {
   "cell_type": "code",
   "execution_count": 10,
   "metadata": {},
   "outputs": [],
   "source": [
    "cm025_anno['unique_id'] = 'cm025_'+cm025_anno.reset_index()['subjid'].astype(str).values"
   ]
  },
  {
   "cell_type": "code",
   "execution_count": 11,
   "metadata": {},
   "outputs": [],
   "source": [
    "cm025_anno = reset_set_idx(cm025_anno,'unique_id')"
   ]
  },
  {
   "cell_type": "markdown",
   "metadata": {},
   "source": [
    "#### May want to incorporate the grade percentage estimates and S/R estimates later"
   ]
  },
  {
   "cell_type": "code",
   "execution_count": 12,
   "metadata": {},
   "outputs": [
    {
     "data": {
      "text/plain": [
       "G4    108\n",
       "G3     85\n",
       "G2     81\n",
       "GX     13\n",
       "G1      2\n",
       "Name: grade, dtype: int64"
      ]
     },
     "execution_count": 12,
     "metadata": {},
     "output_type": "execute_result"
    }
   ],
   "source": [
    "manual_bms_grade_sr_anno['grade'] = manual_bms_grade_sr_anno['Grade MSA+MF+AC'].replace('n.a.', np.nan).apply(lambda x: str(x).split(' ')[0])\n",
    "manual_bms_grade_sr_anno['grade'] = manual_bms_grade_sr_anno['grade'].apply(lambda x: 'G'+str(int(x)) if x!= 'nan' else 'GX')\n",
    "manual_bms_grade_sr_anno['grade'].value_counts()"
   ]
  },
  {
   "cell_type": "code",
   "execution_count": 13,
   "metadata": {},
   "outputs": [
    {
     "data": {
      "text/plain": [
       "GX    381\n",
       "G4    106\n",
       "G3     79\n",
       "G2     68\n",
       "G1      1\n",
       "Name: grade, dtype: int64"
      ]
     },
     "execution_count": 13,
     "metadata": {},
     "output_type": "execute_result"
    }
   ],
   "source": [
    "# drop previously \"GX\" fill to add where available\n",
    "cols_to_use = manual_bms_grade_sr_anno.columns.difference(cm025_anno.columns)\n",
    "cm025_anno = cm025_anno.join(manual_bms_grade_sr_anno[cols_to_use].set_index('unique_id'))\n",
    "cm025_anno['grade'] = cm025_anno['grade'].fillna('GX')\n",
    "cm025_anno['grade'].value_counts()"
   ]
  },
  {
   "cell_type": "code",
   "execution_count": 14,
   "metadata": {},
   "outputs": [],
   "source": [
    "# add recalculated ITH score to anno df and harmonize naming of wGII (lowercase)\n",
    "cm025_anno = get_merged_df(cm025_anno.reset_index().set_index('MAF_Tumor_ID', drop=False), bms_ith_recalc.set_index('Tumor_Sample_Barcode'))\n",
    "cm025_anno['wgii'] = cm025_anno['WGII']\n",
    "cm025_anno = cm025_anno.reset_index(drop=True).set_index('unique_id')"
   ]
  },
  {
   "cell_type": "markdown",
   "metadata": {},
   "source": [
    "### Group tile-level info "
   ]
  },
  {
   "cell_type": "code",
   "execution_count": 15,
   "metadata": {},
   "outputs": [
    {
     "name": "stdout",
     "output_type": "stream",
     "text": [
      "Using full profile self-inference set\n"
     ]
    }
   ],
   "source": [
    "print('Using full profile self-inference set')"
   ]
  },
  {
   "cell_type": "code",
   "execution_count": 16,
   "metadata": {},
   "outputs": [],
   "source": [
    "inference_raw = {\n",
    "    'kirc':kirc_inf_tilemean.set_index('slide_id').drop(columns='prob_g4_not_g2').rename(columns={'class_1_model_prob':'prob_g4_not_g2'}),  \n",
    "    'profile':profile_inf_tilemean.rename(columns={'class_1_model_prob':'prob_g4_not_g2'}),  \n",
    "    'cm025':cm025_inf_tilemean.rename(columns={'class_1_model_prob':'prob_g4_not_g2'}),\n",
    "}"
   ]
  },
  {
   "cell_type": "code",
   "execution_count": 17,
   "metadata": {},
   "outputs": [],
   "source": [
    "for df in inference_raw.values():\n",
    "    df.index.name = 'unique_id'"
   ]
  },
  {
   "cell_type": "markdown",
   "metadata": {},
   "source": [
    "### Do tile-level smoothing"
   ]
  },
  {
   "cell_type": "code",
   "execution_count": 18,
   "metadata": {
    "tags": []
   },
   "outputs": [
    {
     "name": "stdout",
     "output_type": "stream",
     "text": [
      "using p(Tumor) cutoff of 0.5\n",
      "using aggregate mean pred. over all 4 models from 20210312 checkpoints \n",
      "kirc\n",
      "profile\n",
      "Found array with 0 sample(s) (shape=(0, 2)) while a minimum of 1 is required.\n",
      "Error with profile_1096424\n",
      "Expected n_neighbors <= n_samples,  but n_samples = 3, n_neighbors = 4\n",
      "Error with profile_1097978\n",
      "cm025\n",
      "Expected n_neighbors <= n_samples,  but n_samples = 3, n_neighbors = 4\n",
      "Error with cm025_205\n",
      "Expected n_neighbors <= n_samples,  but n_samples = 1, n_neighbors = 4\n",
      "Error with cm025_248\n",
      "Expected n_neighbors <= n_samples,  but n_samples = 3, n_neighbors = 4\n",
      "Error with cm025_507\n",
      "Expected n_neighbors <= n_samples,  but n_samples = 1, n_neighbors = 4\n",
      "Error with cm025_927\n"
     ]
    }
   ],
   "source": [
    "from collections import defaultdict\n",
    "\n",
    "META_VARS = ['stroma', 'pred_g2', 'intermediate_grade', 'pred_g4']\n",
    "N_NEIGHBORS = 4\n",
    "TUMOR_CUTOFF = 0.5\n",
    "LOWER_CUTOFF = 1/3.\n",
    "UPPER_CUTOFF = 2/3.\n",
    "print(f'using p(Tumor) cutoff of {TUMOR_CUTOFF}')\n",
    "\n",
    "###########\n",
    "all_results = defaultdict(list)\n",
    "print('using aggregate mean pred. over all 4 models from 20210312 checkpoints ')\n",
    "for key,df in inference_raw.items():\n",
    "    print(key)\n",
    "    for slide_id, slide_df in df.groupby('unique_id'):\n",
    "        try:\n",
    "            temp = run_inference_smoothing(slide_df, dist_type='uniform', n_neighbors=N_NEIGHBORS, tumor_cutoff=TUMOR_CUTOFF, lower_grade_cutoff=LOWER_CUTOFF, upper_grade_cutoff=UPPER_CUTOFF)\n",
    "\n",
    "            all_results[key].append(temp)\n",
    "\n",
    "        except Exception as e:\n",
    "            print(e)\n",
    "            print(f'Error with {slide_id}')"
   ]
  },
  {
   "cell_type": "markdown",
   "metadata": {},
   "source": [
    "### Aggregate across the 3 cohorts"
   ]
  },
  {
   "cell_type": "code",
   "execution_count": 19,
   "metadata": {},
   "outputs": [
    {
     "name": "stdout",
     "output_type": "stream",
     "text": [
      "(1658468, 8)\n",
      "(875000, 11)\n",
      "(2536654, 9)\n"
     ]
    }
   ],
   "source": [
    "combined = []\n",
    "for key,val in all_results.items():\n",
    "    print(pd.concat(val).shape)\n",
    "    temp = pd.concat(val)\n",
    "    temp['cohort'] = key\n",
    "    combined.append(temp)\n",
    "combined = pd.concat(combined)\n",
    "combined.index.name = 'unique_id'\n",
    "combined.index = combined.index.astype(str)\n",
    "\n",
    "combined_results = combined[['x','y','prob_tumor','prob_g4_not_g2','smoothed_prob_tumor','smoothed_prob_g4_not_g2','meta','cohort']]\n",
    "combined_results.index.name = 'unique_id'"
   ]
  },
  {
   "cell_type": "markdown",
   "metadata": {},
   "source": [
    "#### Reintroduce tilepaths "
   ]
  },
  {
   "cell_type": "code",
   "execution_count": 20,
   "metadata": {},
   "outputs": [],
   "source": [
    "kirc_inf = pd.read_pickle('/mnt/disks/bms/20210405_kirc_inference_using_profile_g2_g4_models_all_slides.pkl')\n",
    "kirc_paths = kirc_inf.loc[kirc_inf.model_id == 'profile_ccrcc_fold0_20210312']\n",
    "kirc_paths['slide_id'] = kirc_paths.reset_index()['slide_id'].apply(lambda x: '-'.join(x.split('-')[:3])).values\n",
    "\n",
    "cm025_paths = pd.read_pickle('/mnt/disks/manual_bms_tiles/20210426_tile_paths_unprocessed_manual_cm025_635_slides.pkl')\n",
    "cm025_paths = cm025_paths.set_index('slide_id').join(reset_set_idx(cm025_anno,'slide_id')['unique_id'])\n",
    "cm025_paths = reset_set_idx(cm025_paths,['unique_id','x','y'])[['full_path']]\n",
    "\n",
    "combined_paths = pd.concat([cm025_paths, kirc_paths.set_index(['slide_id','x','y'])[['full_path']]])\n",
    "\n",
    "combined_results = reset_set_idx(combined_results, ['unique_id','x','y']).join(combined_paths)"
   ]
  },
  {
   "cell_type": "markdown",
   "metadata": {},
   "source": [
    "### Save to file"
   ]
  },
  {
   "cell_type": "code",
   "execution_count": 21,
   "metadata": {},
   "outputs": [],
   "source": [
    "combined_results.to_pickle('./rerun_smoothed_tile_level_info.pkl')"
   ]
  },
  {
   "cell_type": "markdown",
   "metadata": {},
   "source": [
    "---\n",
    "## Harmonize shared clinical/molecular labels"
   ]
  },
  {
   "cell_type": "markdown",
   "metadata": {},
   "source": [
    "### Map survival variables to common naming scheme (used for profile)"
   ]
  },
  {
   "cell_type": "markdown",
   "metadata": {},
   "source": [
    "#### Default units:\n",
    "- CM025: months\n",
    "- KIRC: days \n",
    "- Profile: months"
   ]
  },
  {
   "cell_type": "code",
   "execution_count": 22,
   "metadata": {},
   "outputs": [],
   "source": [
    "# ## LEGACY FEATURES\n",
    "\n",
    "# HOMOG_CUTOFF = 0.85\n",
    "# G2_CUTOFF = 0.05\n",
    "# G4_CUTOFF = 0.05\n",
    "\n",
    "# combined_metrics = run_category_annotation(combined_results.reset_index(level=[1,2]), grade_var='smoothed_prob_g4_not_g2', \n",
    "#                                            homog_cutoff=HOMOG_CUTOFF, g2_cutoff=G2_CUTOFF, g4_cutoff=G4_CUTOFF)\n",
    "\n",
    "# combined_metrics = combined_metrics.join(get_anno(combined_results[['cohort']]))"
   ]
  },
  {
   "cell_type": "code",
   "execution_count": 23,
   "metadata": {},
   "outputs": [
    {
     "data": {
      "text/plain": [
       "(1443, 2)"
      ]
     },
     "execution_count": 23,
     "metadata": {},
     "output_type": "execute_result"
    }
   ],
   "source": [
    "# just use a placeholder since we won't be using features from `run_category_annotation`\n",
    "combined_metrics = combined_results.value_counts(['unique_id'])\n",
    "combined_metrics.name = 'tile_count'\n",
    "combined_metrics = pd.DataFrame(combined_metrics)\n",
    "combined_metrics.index = combined_metrics.index.get_level_values(0)\n",
    "\n",
    "combined_metrics = combined_metrics.join(get_anno(combined_results.reset_index(level=[1,2])[['cohort']]))\n",
    "combined_metrics.shape"
   ]
  },
  {
   "cell_type": "code",
   "execution_count": 24,
   "metadata": {},
   "outputs": [
    {
     "data": {
      "text/html": [
       "<div>\n",
       "<style scoped>\n",
       "    .dataframe tbody tr th:only-of-type {\n",
       "        vertical-align: middle;\n",
       "    }\n",
       "\n",
       "    .dataframe tbody tr th {\n",
       "        vertical-align: top;\n",
       "    }\n",
       "\n",
       "    .dataframe thead th {\n",
       "        text-align: right;\n",
       "    }\n",
       "</style>\n",
       "<table border=\"1\" class=\"dataframe\">\n",
       "  <thead>\n",
       "    <tr style=\"text-align: right;\">\n",
       "      <th></th>\n",
       "      <th>tile_count</th>\n",
       "      <th>cohort</th>\n",
       "      <th>tumor_tile_fraction</th>\n",
       "      <th>tumor_tile_count</th>\n",
       "    </tr>\n",
       "    <tr>\n",
       "      <th>unique_id</th>\n",
       "      <th></th>\n",
       "      <th></th>\n",
       "      <th></th>\n",
       "      <th></th>\n",
       "    </tr>\n",
       "  </thead>\n",
       "  <tbody>\n",
       "    <tr>\n",
       "      <th>cm025_424</th>\n",
       "      <td>40374</td>\n",
       "      <td>cm025</td>\n",
       "      <td>0.559989</td>\n",
       "      <td>22609</td>\n",
       "    </tr>\n",
       "    <tr>\n",
       "      <th>TCGA-T7-A92I</th>\n",
       "      <td>18576</td>\n",
       "      <td>kirc</td>\n",
       "      <td>0.253015</td>\n",
       "      <td>4700</td>\n",
       "    </tr>\n",
       "    <tr>\n",
       "      <th>cm025_234</th>\n",
       "      <td>16127</td>\n",
       "      <td>cm025</td>\n",
       "      <td>0.657593</td>\n",
       "      <td>10605</td>\n",
       "    </tr>\n",
       "    <tr>\n",
       "      <th>cm025_355</th>\n",
       "      <td>14071</td>\n",
       "      <td>cm025</td>\n",
       "      <td>0.189965</td>\n",
       "      <td>2673</td>\n",
       "    </tr>\n",
       "    <tr>\n",
       "      <th>cm025_296</th>\n",
       "      <td>12758</td>\n",
       "      <td>cm025</td>\n",
       "      <td>0.655197</td>\n",
       "      <td>8359</td>\n",
       "    </tr>\n",
       "  </tbody>\n",
       "</table>\n",
       "</div>"
      ],
      "text/plain": [
       "              tile_count cohort  tumor_tile_fraction  tumor_tile_count\n",
       "unique_id                                                             \n",
       "cm025_424          40374  cm025             0.559989             22609\n",
       "TCGA-T7-A92I       18576   kirc             0.253015              4700\n",
       "cm025_234          16127  cm025             0.657593             10605\n",
       "cm025_355          14071  cm025             0.189965              2673\n",
       "cm025_296          12758  cm025             0.655197              8359"
      ]
     },
     "execution_count": 24,
     "metadata": {},
     "output_type": "execute_result"
    }
   ],
   "source": [
    "# operating on p(tumor) > 0.5 cutoff \n",
    "tumor_tile_frac = (combined_results['meta'] != 'stroma').groupby('unique_id').mean()\n",
    "tumor_tile_count = (combined_results['meta'] != 'stroma').groupby('unique_id').sum()\n",
    "\n",
    "combined_metrics['tumor_tile_fraction'] = tumor_tile_frac\n",
    "combined_metrics['tumor_tile_count'] = tumor_tile_count\n",
    "combined_metrics.head()"
   ]
  },
  {
   "cell_type": "code",
   "execution_count": 25,
   "metadata": {},
   "outputs": [],
   "source": [
    "survival_mapper = {}\n",
    "survival_mapper['cm025'] = {'anno':cm025_anno, 'pfs':'PFS', 'pfs_event':'PFS_CNSR', 'os':'OS', 'os_event':'OS_CNSR', 'ttf':'PFS', 'ttf_event':'PFS_CNSR'}\n",
    "survival_mapper['kirc'] = {'anno':kirc_survival, 'pfs':'PFI.time', 'pfs_event':'PFI', 'os':'OS.time', 'os_event':'OS', 'ttf':'no_info', 'ttf_event':'no_info'}\n",
    "survival_mapper['profile'] = {'anno':profile_anno, 'pfs':'dfs_from_nephrectomy', 'pfs_event':'dfs_event', 'os':'os_line_specific', 'os_event':'os_event',\n",
    "                             'ttf':'ttf', 'ttf_event':'ttf_event'}\n",
    "\n",
    "harmonized_survival_info = []\n",
    "for key,val in survival_mapper.items():\n",
    "    temp = pd.DataFrame()\n",
    "    for new_col, old_col in val.items():\n",
    "        if new_col != 'anno':\n",
    "            if old_col != 'no_info':\n",
    "                temp[new_col] = val['anno'][old_col]\n",
    "            else:\n",
    "                temp[new_col] = np.nan\n",
    "                \n",
    "    temp['cohort'] = key \n",
    "    if key == 'kirc': # push to months \n",
    "        temp['os'] = temp['os']/(365/12)\n",
    "        temp['pfs'] = temp['pfs']/(365/12)\n",
    "    harmonized_survival_info.append(temp)\n",
    "\n",
    "harmonized_survival_info = pd.concat(harmonized_survival_info)\n",
    "harmonized_survival_info.index.name = 'unique_id'"
   ]
  },
  {
   "cell_type": "markdown",
   "metadata": {},
   "source": [
    "#### Add age, gender info "
   ]
  },
  {
   "cell_type": "code",
   "execution_count": 26,
   "metadata": {},
   "outputs": [
    {
     "name": "stdout",
     "output_type": "stream",
     "text": [
      "(1455, 12)\n",
      "dropping 4 ambiguous CM025 cases with multiple slides for single SUBJID\n",
      "(1439, 12)\n"
     ]
    }
   ],
   "source": [
    "kirc_survival_reformat = kirc_survival.reset_index()[['bcr_patient_barcode','age_at_initial_pathologic_diagnosis','gender']]\n",
    "kirc_survival_reformat = kirc_survival_reformat.rename(columns={'bcr_patient_barcode':'unique_id', 'age_at_initial_pathologic_diagnosis':'age_at_diagnosis'})\n",
    "# kirc_survival_reformat['dataset'] = 'tcga'\n",
    "\n",
    "kirc_survival_reformat = kirc_survival_reformat.set_index(['unique_id'])\n",
    "kirc_survival_reformat['gender'] = kirc_survival_reformat['gender'].str.lower()\n",
    "profile_anno['gender'] = profile_anno['male_male__female'].map({1:'male',0:'female'})    \n",
    "\n",
    "profile_anno_reformat = profile_anno[['gender','age_at_diagnosis']]\n",
    "# profile_anno_reformat['dataset'] = 'profile'\n",
    "profile_anno_reformat = reset_set_idx(profile_anno_reformat, ['unique_id'])\n",
    "cm025_age_gender = cm025_anno[['Age','Sex']].rename(columns={'Age':'age_at_diagnosis', 'Sex':'gender'})\n",
    "cm025_age_gender['gender'] = cm025_age_gender['gender'].map({'M':'male', 'F':'female'})\n",
    "age_gender = pd.concat([kirc_survival_reformat, profile_anno_reformat,cm025_age_gender])\n",
    "age_gender.index.name = 'unique_id'\n",
    "\n",
    "combined_metrics = get_merged_df(combined_metrics, harmonized_survival_info.drop(columns='cohort'))\n",
    "combined_metrics = get_merged_df(combined_metrics, age_gender)\n",
    "print(combined_metrics.shape)\n",
    "\n",
    "cm025_multi_slide_ambiguous = get_indices(cm025_anno.subjid.duplicated())\n",
    "\n",
    "print(f'dropping {len(cm025_multi_slide_ambiguous)} ambiguous CM025 cases with multiple slides for single SUBJID')\n",
    "combined_metrics = combined_metrics.drop(labels=cm025_multi_slide_ambiguous)\n",
    "print(combined_metrics.shape)"
   ]
  },
  {
   "cell_type": "markdown",
   "metadata": {},
   "source": [
    "#### Add harmonized `biopsy_site_type`, `biopsy_location`, `assigned_grade`, etc"
   ]
  },
  {
   "cell_type": "code",
   "execution_count": 27,
   "metadata": {
    "tags": []
   },
   "outputs": [
    {
     "name": "stdout",
     "output_type": "stream",
     "text": [
      "(1439, 16)\n"
     ]
    }
   ],
   "source": [
    "# assigned grade for all cohorts \n",
    "combined_metrics = get_merged_df(combined_metrics,pd.concat([cm025_anno['grade'],kirc_anno['grade'], profile_anno['grade']]))\n",
    "combined_metrics['grade'] = combined_metrics.grade.fillna('GX')\n",
    "\n",
    "# stage for KIRC and Profile (unavail. for cm025)\n",
    "combined_metrics = get_merged_df(combined_metrics, pd.concat([kirc_anno['stage'], profile_anno['stage']]))\n",
    "combined_metrics['stage'] = combined_metrics.stage.fillna('no_anno')\n",
    "\n",
    "# reformat biopsy site info\n",
    "cm025_anno['biopsy_site_type'] = cm025_anno['Tumor_Sample_Primary_or_Metastasis']\n",
    "cm025_anno['primary_site'] = cm025_anno['biopsy_site_type'] == 'PRIMARY'\n",
    "profile_anno['primary_site'] = profile_anno['biopsy_site_type'] == 'Primary'\n",
    "cm025_anno['metastatic_site'] = cm025_anno['biopsy_site_type'] == 'METASTASIS'\n",
    "profile_anno['metastatic_site'] = profile_anno['biopsy_site_type'] == 'Metastatic Recurrence'\n",
    "\n",
    "# biopsy site (is_primary) for cm025 and Profile\n",
    "combined_metrics = get_merged_df(combined_metrics, pd.concat([cm025_anno['primary_site'], profile_anno['primary_site']]))\n",
    "combined_metrics['primary_site'] = combined_metrics.primary_site.fillna(False)\n",
    "combined_metrics.loc[combined_metrics.cohort == 'kirc', 'primary_site'] = True\n",
    "\n",
    "# biopsy site (is_metastatic) for cm025 and Profile\n",
    "combined_metrics = get_merged_df(combined_metrics, pd.concat([cm025_anno['metastatic_site'], profile_anno['metastatic_site']]))\n",
    "combined_metrics['metastatic_site'] = combined_metrics.metastatic_site.fillna(False)\n",
    "# combined_metrics['percent_included'] = combined_metrics['tumor_tile_count'] / combined_metrics['tile_count']\n",
    "print(combined_metrics.shape)"
   ]
  },
  {
   "cell_type": "markdown",
   "metadata": {},
   "source": [
    "### KIRC RNA signature addition"
   ]
  },
  {
   "cell_type": "code",
   "execution_count": 28,
   "metadata": {},
   "outputs": [],
   "source": [
    "kbi_supp_tcga = pd.read_excel('/home/jupyter/TableS5_Submit.xlsx', sheet_name=3, header=1).set_index(['Patient'])\n",
    "\n",
    "kirc_rna =  pd.read_csv('/home/jupyter/20200910_kirc_rna_matched_hne_stage_grade.csv', index_col=[0,1,2,3,4])\n",
    "\n",
    "rna_scores = pd.read_csv('/home/jupyter/20200910_kirc_angio_rna_signature_scores.csv').set_index('tcga_id')\n",
    "\n",
    "mcderm_angio_sig = ['VEGFA', 'KDR', 'ESM1', 'PECAM1', 'ANGPTL4', 'CD34']\n",
    "mcderm_teff_sig = ['CD8A', 'EOMES', 'PRF1', 'IFNG', 'CD274']\n",
    "mcderm_myeloid_sig = ['IL6', 'CXCL1', 'CXCL2', 'CXCL3', 'IL8','PTGS2']\n",
    "\n",
    "sig_subset = ['javelin_angio_score','mcderm_angio_sig', 'mcderm_teff_sig', 'mcderm_myeloid_sig','TP1 Score', 'TP2 Score']\n",
    "\n",
    "javelin_angio_sig = pd.Series(pd.read_csv('/home/jupyter/javelin_angio_sig_block.csv', header=None).values.reshape(-1)).dropna().values\n",
    "javelin_angio_sig = list(javelin_angio_sig)\n",
    "\n",
    "rna_scores['mcderm_angio_sig'] = kirc_rna[mcderm_angio_sig].mean(1).reset_index(level=[1,2,3,4], drop=True)\n",
    "rna_scores['mcderm_teff_sig'] = kirc_rna[mcderm_teff_sig].mean(1).reset_index(level=[1,2,3,4], drop=True)\n",
    "rna_scores['mcderm_myeloid_sig'] = kirc_rna[mcderm_myeloid_sig].mean(1).reset_index(level=[1,2,3,4], drop=True)\n",
    "\n",
    "rna_scores_merge = pd.concat([rna_scores, kbi_supp_tcga[['TP1 Score', 'TP2 Score']]], 1).dropna()\n",
    "\n",
    "kirc_metrics = combined_metrics.loc[combined_metrics.cohort =='kirc']\n",
    "kirc_metrics = get_merged_df(kirc_metrics, rna_scores_merge[sig_subset])\n",
    "kirc_metrics_rna = kirc_metrics.dropna(subset=['mcderm_angio_sig'])\n",
    "kirc_metrics_rna['tp1_tp2_diff'] = kirc_metrics_rna['TP1 Score']- kirc_metrics_rna['TP2 Score']\n",
    "kirc_metrics_rna.to_pickle('./rerun_kirc_rna_signature_info.pkl')"
   ]
  },
  {
   "cell_type": "markdown",
   "metadata": {},
   "source": [
    "#### Add wGII and ITH scores where available"
   ]
  },
  {
   "cell_type": "code",
   "execution_count": 29,
   "metadata": {
    "tags": []
   },
   "outputs": [],
   "source": [
    "combined_metrics = get_merged_df(combined_metrics, pd.concat([kirc_scores.set_index('tcga_id'), cm025_anno[['wgii','ith']]]))"
   ]
  },
  {
   "cell_type": "markdown",
   "metadata": {},
   "source": [
    "#### Add driver mutation status info"
   ]
  },
  {
   "cell_type": "code",
   "execution_count": 30,
   "metadata": {
    "tags": []
   },
   "outputs": [
    {
     "name": "stdout",
     "output_type": "stream",
     "text": [
      "adding ATM placeholder...\n",
      "adding COL9A3 placeholder...\n",
      "adding NF2 placeholder...\n",
      "adding PCK1 placeholder...\n",
      "adding PIK3CA placeholder...\n",
      "adding S100B placeholder...\n",
      "adding SMARCA4 placeholder...\n",
      "adding TCEB1 placeholder...\n",
      "adding TRMT2B placeholder...\n",
      "adding TSC1 placeholder...\n",
      "adding USP32 placeholder...\n",
      "adding WNT8A placeholder...\n",
      "adding ZNF800 placeholder...\n"
     ]
    },
    {
     "data": {
      "text/plain": [
       "(1439, 18)"
      ]
     },
     "execution_count": 30,
     "metadata": {},
     "output_type": "execute_result"
    }
   ],
   "source": [
    "# load TCGA MAF \n",
    "kidney_maf = pd.read_pickle('/home/jupyter/kidney_mc3.maf')\n",
    "\n",
    "# driver genes in cm025 paper supplement \n",
    "cm025_driver_genes = ['ARID1A', 'ATM', 'BAP1',\n",
    "       'COL9A3', 'KDM5C', 'MTOR', 'NF2', 'PBRM1', 'PCK1', 'PIK3CA', 'PTEN',\n",
    "       'S100B', 'SETD2', 'SMARCA4', 'TCEB1', 'TP53', 'TRMT2B', 'TSC1', 'USP32',\n",
    "       'VHL', 'WNT8A', 'ZNF800']\n",
    "\n",
    "# genes in both profile's panel and the CM-025 paper subset focus\n",
    "shared_drivers = ['ARID1A', 'BAP1', 'KDM5C', 'MTOR', 'PBRM1', 'PTEN', 'SETD2', 'TP53', 'VHL']\n",
    "\n",
    "# truncating = ['Nonsense_Mutation', 'Frame_Shift_Ins','Frame_Shift_Del', 'Splice_Site',\n",
    "#               'Stop_Codon_Del','Start_Codon_Del','Nonstop_Mutation']\n",
    "truncating = ['Nonsense_Mutation', 'Frame_Shift_Ins','Frame_Shift_Del', 'Splice_Site']\n",
    "\n",
    "# add placeholders to profile's gene panel to match columns in cm025 anno\n",
    "for gene in cm025_driver_genes:\n",
    "    try:\n",
    "        profile_anno[gene]\n",
    "    except:\n",
    "        print(f'adding {gene} placeholder...')\n",
    "        profile_anno[gene] = 'no_info'\n",
    "\n",
    "profile_drivers_harmonized = pd.concat([profile_anno[col].map({0.0:'WT', 1.0:'MUT','no_info':'no_info'}) for col in cm025_driver_genes], 1)\n",
    "combined_metrics.shape"
   ]
  },
  {
   "cell_type": "code",
   "execution_count": 31,
   "metadata": {
    "tags": []
   },
   "outputs": [],
   "source": [
    "# add in profile and cm025 info\n",
    "existing_mut_info = pd.concat([cm025_anno[cm025_driver_genes], profile_drivers_harmonized])\n",
    "existing_mut_info.index.name = 'unique_id'\n",
    "\n",
    "existing_mut_info.index = existing_mut_info.index.astype(str)\n",
    "combined_metrics.index = combined_metrics.index.astype(str)\n",
    "\n",
    "combined_metrics = get_merged_df(combined_metrics, existing_mut_info.fillna('no_info'))\n",
    "\n",
    "\n",
    "# use KIRC MAF to get truncating status for driver gene subset \n",
    "kirc_driver_results = {}\n",
    "for gene in cm025_driver_genes:\n",
    "    temp_trunc = kidney_maf.loc[(kidney_maf.Hugo_Symbol == gene) & kidney_maf.Variant_Classification.apply(lambda x: x in truncating)]\n",
    "    filtered_ids = [x for x in temp_trunc.index.values if x in combined_metrics.index.unique()]\n",
    "    kirc_driver_results[gene] = filtered_ids\n",
    "    combined_metrics.loc[filtered_ids, gene] = 'MUT'\n",
    "    combined_metrics[gene] = combined_metrics[gene].fillna('WT')"
   ]
  },
  {
   "cell_type": "markdown",
   "metadata": {},
   "source": [
    "#### Add Drug type, RECIST group, and CB/ICB/NCB binning to profile data based on Braun \n",
    "- CB: CRPR or SD with shrinkage AND PFS > 6mo\n",
    "- NCB: PD AND PFS < 3mo\n",
    "- ICB: not CB, not NCB\n",
    "---\n",
    "- Note that CM025 `PFS` is approximately `ttf` for Profile\n"
   ]
  },
  {
   "cell_type": "code",
   "execution_count": 32,
   "metadata": {},
   "outputs": [
    {
     "data": {
      "text/plain": [
       "(1439, 43)"
      ]
     },
     "execution_count": 32,
     "metadata": {},
     "output_type": "execute_result"
    }
   ],
   "source": [
    "cm025_anno['drug_type'] = cm025_anno['Arm'].map({'EVEROLIMUS':'Non-ICI', 'NIVOLUMAB':'ICI'})\n",
    "\n",
    "profile_anno['recist'] = profile_anno['best_response_during_this_line_of_therapy']\n",
    "profile_anno['recist'] = profile_anno.recist.map({'PR':'CRPR', 'CR':'CRPR','SD':'SD', 'PD':'PD'})\n",
    "\n",
    "cm025_anno['recist'] = cm025_anno['ORR']\n",
    "cm025_anno['recist'] = cm025_anno.recist.map({'CRPR':'CRPR','SD':'SD', 'PD':'PD'})\n",
    "\n",
    "profile_anno.loc[profile_anno['recist'].isin(['CRPR','SD']) & (profile_anno['ttf'] > 6),'benefit'] = 'CB'\n",
    "profile_anno.loc[profile_anno['recist'].isin(['PD']) & (profile_anno['ttf'] < 6),'benefit'] = 'NCB'\n",
    "profile_anno.loc[(~profile_anno.ttf.isna()) & profile_anno.benefit.isna(), 'benefit'] = 'ICB'\n",
    "cm025_anno['benefit'] = cm025_anno['Benefit']\n",
    "\n",
    "# add in profile and cm025 info\n",
    "treatment_info = pd.concat([cm025_anno[['recist','drug_type','benefit']], profile_anno[['recist','drug_type','benefit']]])\n",
    "treatment_info.index = treatment_info.index.astype(str)\n",
    "treatment_info.index.name = 'unique_id'\n",
    "combined_metrics = get_merged_df(combined_metrics, treatment_info.fillna('no_info'))\n",
    "combined_metrics.shape"
   ]
  },
  {
   "cell_type": "code",
   "execution_count": 33,
   "metadata": {},
   "outputs": [],
   "source": [
    "combined_metrics.to_csv('./rerun_patientlevel_harmonized_annotations.csv')"
   ]
  }
 ],
 "metadata": {
  "environment": {
   "name": "pytorch-gpu.1-4.m56",
   "type": "gcloud",
   "uri": "gcr.io/deeplearning-platform-release/pytorch-gpu.1-4:m56"
  },
  "kernelspec": {
   "display_name": "pathml",
   "language": "python",
   "name": "pathml"
  },
  "language_info": {
   "codemirror_mode": {
    "name": "ipython",
    "version": 3
   },
   "file_extension": ".py",
   "mimetype": "text/x-python",
   "name": "python",
   "nbconvert_exporter": "python",
   "pygments_lexer": "ipython3",
   "version": "3.8.8"
  }
 },
 "nbformat": 4,
 "nbformat_minor": 4
}
