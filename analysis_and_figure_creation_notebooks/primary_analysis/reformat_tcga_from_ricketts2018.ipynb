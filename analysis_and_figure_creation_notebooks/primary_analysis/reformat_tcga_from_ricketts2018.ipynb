{
 "cells": [
  {
   "cell_type": "markdown",
   "metadata": {},
   "source": [
    "## Imports & Helpers"
   ]
  },
  {
   "cell_type": "code",
   "execution_count": 28,
   "metadata": {},
   "outputs": [],
   "source": [
    "def flex_save(path, dpi=400, extensions=['.png','.pdf']):\n",
    "    for ext in extensions:\n",
    "        plt.savefig(path+ext, dpi=dpi, bbox_inches='tight')"
   ]
  },
  {
   "cell_type": "code",
   "execution_count": 1,
   "metadata": {},
   "outputs": [
    {
     "name": "stdout",
     "output_type": "stream",
     "text": [
      "MODIFYING EARLIER TIL CUTOFFS\n"
     ]
    }
   ],
   "source": [
    "%load_ext autoreload\n",
    "%autoreload 2\n",
    "\n",
    "import sys\n",
    "sys.path.append('../../')\n",
    "from checkmate_imports import *\n",
    "\n",
    "# global variables \n",
    "HUE_ORDER = ['stroma','pred_g2','intermediate_grade','pred_g4']\n",
    "MIN_SEGMENT_SIZE = 50\n",
    "GRADE_DIFF_THRESH = 0.35\n",
    "TUMOR_DIFF_THRESH = 0.35\n",
    "MIN_TUMOR_SEG_MEAN = 0.70\n",
    "NODE_DIFF_CUTOFF = invert_rag_weight(GRADE_DIFF_THRESH) \n",
    "MIN_TIL_COUNT = 10\n",
    "\n",
    "# GRADE_TC_CUTOFF = 0.4  # minimum segment mean grade score to consider in TIL processing \n",
    "# GRADE_TC_CUTOFF = 0.  # minimum segment mean grade score to consider in TIL processing \n",
    "GRADE_TC_CUTOFF = 0.8  # focusing on high grade foci only \n",
    "\n",
    "print('MODIFYING EARLIER TIL CUTOFFS')\n",
    "TIL_ISO_CUTOFF = 14  # based on none vs any AUROC bootstrap on high grade foci + no hard cases\n",
    "TIL_HIGH_CUTOFF = 48 # based on not-high vs high AUROC bootstrap on high grade foci + no hard cases\n",
    "FRAC_CUTOFF = 0.25\n",
    "TIL_AREA_CUTOFF = 10\n",
    "\n",
    "EXCLUSION_RATIO_CUTOFF = 1.5  # margin vs center ratio threshold for \"exclusion\" call\n",
    "TILES_PER_MM2 = 0.256**-2\n",
    "\n",
    "# assume 7x7 minimum case for a square area focus\n",
    "# going 2 tiles inner would result in a 5x5 inner cube and thus area cutoff of 25\n",
    "# MIN_CENTER_AREA = 25\n",
    "MIN_CENTER_AREA = 10  # relaxing from 25 to try to recover possible interesting foci"
   ]
  },
  {
   "cell_type": "code",
   "execution_count": 2,
   "metadata": {},
   "outputs": [],
   "source": [
    "from statannotations.Annotator import Annotator\n",
    "from statannot import add_stat_annotation\n",
    "from itertools import combinations, product"
   ]
  },
  {
   "cell_type": "code",
   "execution_count": 3,
   "metadata": {},
   "outputs": [],
   "source": [
    "feature_subset = pd.read_csv('../rerun_final_patient_features.csv', index_col=0)\n",
    "\n",
    "anno = pd.read_csv('../manual_cm025_merged_braunsupp_annotations.csv') \n",
    "anno['unique_id'] = 'cm025_' + anno.subjid.astype(str)\n",
    "paper_desert = anno.loc[anno.ImmunoPhenotype == 'Desert','unique_id'].values\n",
    "paper_infl = anno.loc[anno.ImmunoPhenotype == 'Infiltrated','unique_id'].values\n",
    "paper_excl = anno.loc[anno.ImmunoPhenotype == 'Excluded','unique_id'].values\n",
    "anno = anno.set_index('unique_id')\n",
    "\n",
    "node_descriptions = pd.read_csv('../rerun_node_descriptions_with_score_components.csv',index_col=[0])\n",
    "node_descriptions['merged_labels'] = node_descriptions['merged_labels'].astype(int)\n",
    "\n",
    "prox_dist_edges = pd.read_csv('../rerun_proximal_and_distal_edge_annotations_with_score_components.csv',index_col=0)\n",
    "\n",
    "scores = pd.read_csv('../rerun_slidewise_grade_til_scores.csv', index_col=0)\n",
    "\n",
    "load_tile_info = False\n",
    "\n",
    "if load_tile_info:\n",
    "    tilewise_anno = pd.read_csv('../rerun_tilewise_grade_til_annotations.csv', index_col=0) # TIL specific CM025 subset\n",
    "\n",
    "    edge_info = pd.read_csv('../rerun_base_rag_edge_info_annotation.csv', index_col=[0,1,2,3])\n",
    "    # restore set objects (stored as string when saved to csv earlier)\n",
    "    edge_info['edge_set'] = edge_info.reset_index()[['edge0','edge1']].apply(lambda x: set(x),1).values\n",
    "\n",
    "    # read in non-TIL tilewise info \n",
    "    seg_agg = pd.read_csv('../rerun_tilewise_grade_nontil_annotations.csv', index_col=0)\n",
    "    \n",
    "    edge_agg_pivot = pd.read_csv('../rerun_base_rag_edge_info_annotation_processed.csv', index_col=[0,1,2])\n",
    "    edge_class_sum = pd.read_csv('../rerun_base_rag_edge_info_annotation_processed_sum.csv', index_col=0)\n",
    "    edge_binary = edge_class_sum > 0"
   ]
  },
  {
   "cell_type": "code",
   "execution_count": 4,
   "metadata": {},
   "outputs": [],
   "source": [
    "NONKM_FONT_SCALE = 1.8\n",
    "KM_FONT_SCALE = 1.2"
   ]
  },
  {
   "cell_type": "markdown",
   "metadata": {},
   "source": [
    "### Re-filter TCGA-KIRC to match Ricketts 2018 reclassification\n"
   ]
  },
  {
   "cell_type": "code",
   "execution_count": 5,
   "metadata": {},
   "outputs": [
    {
     "name": "stdout",
     "output_type": "stream",
     "text": [
      "mkdir: cannot create directory ‘./main_figs’: File exists\n"
     ]
    }
   ],
   "source": [
    "mkdir './main_figs'"
   ]
  },
  {
   "cell_type": "code",
   "execution_count": 6,
   "metadata": {},
   "outputs": [],
   "source": [
    "rickets = pd.read_csv('./rickets2018_ccrcc_only.csv')"
   ]
  },
  {
   "cell_type": "code",
   "execution_count": 7,
   "metadata": {},
   "outputs": [],
   "source": [
    "rickets_ids = rickets['bcr_patient_barcode'].unique()"
   ]
  },
  {
   "cell_type": "code",
   "execution_count": 8,
   "metadata": {},
   "outputs": [
    {
     "data": {
      "text/plain": [
       "(488,)"
      ]
     },
     "execution_count": 8,
     "metadata": {},
     "output_type": "execute_result"
    }
   ],
   "source": [
    "rickets_ids.shape"
   ]
  },
  {
   "cell_type": "code",
   "execution_count": 9,
   "metadata": {},
   "outputs": [],
   "source": [
    "overlapping_ids = feature_subset.index.intersection(rickets_ids)"
   ]
  },
  {
   "cell_type": "code",
   "execution_count": 10,
   "metadata": {},
   "outputs": [],
   "source": [
    "filtered_kirc = feature_subset.loc[overlapping_ids]"
   ]
  },
  {
   "cell_type": "code",
   "execution_count": 11,
   "metadata": {},
   "outputs": [],
   "source": [
    "a = feature_subset.loc[feature_subset['cohort'] != 'kirc']\n",
    "b = filtered_kirc"
   ]
  },
  {
   "cell_type": "code",
   "execution_count": 12,
   "metadata": {},
   "outputs": [],
   "source": [
    "feature_subset = pd.concat([a,b])"
   ]
  },
  {
   "cell_type": "code",
   "execution_count": 13,
   "metadata": {},
   "outputs": [
    {
     "data": {
      "text/plain": [
       "(1392, 147)"
      ]
     },
     "execution_count": 13,
     "metadata": {},
     "output_type": "execute_result"
    }
   ],
   "source": [
    "feature_subset.shape"
   ]
  },
  {
   "cell_type": "code",
   "execution_count": 14,
   "metadata": {},
   "outputs": [
    {
     "data": {
      "text/plain": [
       "cohort\n",
       "cm025      623\n",
       "kirc       465\n",
       "profile    304\n",
       "dtype: int64"
      ]
     },
     "execution_count": 14,
     "metadata": {},
     "output_type": "execute_result"
    }
   ],
   "source": [
    "feature_subset.value_counts('cohort')"
   ]
  },
  {
   "cell_type": "code",
   "execution_count": 15,
   "metadata": {},
   "outputs": [],
   "source": [
    "rickets['unique_id'] = rickets['bcr_patient_barcode']"
   ]
  },
  {
   "cell_type": "code",
   "execution_count": 16,
   "metadata": {},
   "outputs": [
    {
     "data": {
      "text/plain": [
       "unique_id\n",
       "TCGA-A3-3331    G2\n",
       "TCGA-A3-3378    G3\n",
       "TCGA-A3-3380    G2\n",
       "TCGA-A3-3383    G2\n",
       "TCGA-AK-3425    G2\n",
       "                ..\n",
       "TCGA-B0-4814    G3\n",
       "TCGA-BP-4354    G4\n",
       "TCGA-BP-4770    G4\n",
       "TCGA-B0-4700    G4\n",
       "TCGA-CJ-4900    G4\n",
       "Name: neoplasm_histologic_grade, Length: 488, dtype: object"
      ]
     },
     "execution_count": 16,
     "metadata": {},
     "output_type": "execute_result"
    }
   ],
   "source": [
    "rickets.set_index('unique_id')['neoplasm_histologic_grade']"
   ]
  },
  {
   "cell_type": "code",
   "execution_count": 17,
   "metadata": {},
   "outputs": [],
   "source": [
    "rickets['tcga_ricketts_grade'] = rickets['neoplasm_histologic_grade']"
   ]
  },
  {
   "cell_type": "code",
   "execution_count": 18,
   "metadata": {},
   "outputs": [],
   "source": [
    "feature_subset = feature_subset.join(rickets.set_index('unique_id')['tcga_ricketts_grade'])"
   ]
  },
  {
   "cell_type": "code",
   "execution_count": 19,
   "metadata": {},
   "outputs": [
    {
     "data": {
      "text/plain": [
       "grade  tcga_ricketts_grade\n",
       "G3     G3                     163\n",
       "G2     G2                     140\n",
       "G4     G4                      58\n",
       "GX     G2                      55\n",
       "       G3                      26\n",
       "       G4                       9\n",
       "G1     G1                       6\n",
       "GX     G1                       5\n",
       "       [Not Available]          2\n",
       "       GX                       1\n",
       "dtype: int64"
      ]
     },
     "execution_count": 19,
     "metadata": {},
     "output_type": "execute_result"
    }
   ],
   "source": [
    "feature_subset.loc[feature_subset['cohort'] == 'kirc'][['grade','tcga_ricketts_grade']].value_counts()"
   ]
  },
  {
   "cell_type": "code",
   "execution_count": 20,
   "metadata": {},
   "outputs": [],
   "source": [
    "feature_subset.loc[feature_subset['cohort'] == 'kirc', 'grade'] = feature_subset.loc[feature_subset['cohort'] == 'kirc', 'tcga_ricketts_grade']"
   ]
  },
  {
   "cell_type": "code",
   "execution_count": 21,
   "metadata": {},
   "outputs": [
    {
     "data": {
      "text/plain": [
       "G2                 195\n",
       "G3                 189\n",
       "G4                  67\n",
       "G1                  11\n",
       "[Not Available]      2\n",
       "GX                   1\n",
       "Name: grade, dtype: int64"
      ]
     },
     "execution_count": 21,
     "metadata": {},
     "output_type": "execute_result"
    }
   ],
   "source": [
    "feature_subset.loc[feature_subset['cohort'] == 'kirc', 'grade'].value_counts()"
   ]
  },
  {
   "cell_type": "code",
   "execution_count": 22,
   "metadata": {},
   "outputs": [],
   "source": [
    "feature_subset.loc[(feature_subset['cohort'] == 'kirc') & (feature_subset['grade'] == '[Not Available]'), 'grade'] = 'GX'"
   ]
  },
  {
   "cell_type": "code",
   "execution_count": 23,
   "metadata": {},
   "outputs": [
    {
     "data": {
      "text/plain": [
       "G2    195\n",
       "G3    189\n",
       "G4     67\n",
       "G1     11\n",
       "GX      3\n",
       "Name: grade, dtype: int64"
      ]
     },
     "execution_count": 23,
     "metadata": {},
     "output_type": "execute_result"
    }
   ],
   "source": [
    "feature_subset.loc[feature_subset['cohort'] == 'kirc', 'grade'].value_counts()"
   ]
  },
  {
   "cell_type": "code",
   "execution_count": 24,
   "metadata": {},
   "outputs": [
    {
     "data": {
      "text/plain": [
       "cohort   grade\n",
       "cm025    G1         1\n",
       "         G2        68\n",
       "         G3        76\n",
       "         G4       104\n",
       "         GX       374\n",
       "kirc     G1        11\n",
       "         G2       195\n",
       "         G3       189\n",
       "         G4        67\n",
       "         GX         3\n",
       "profile  G1         5\n",
       "         G2       110\n",
       "         G3       110\n",
       "         G4        79\n",
       "dtype: int64"
      ]
     },
     "execution_count": 24,
     "metadata": {},
     "output_type": "execute_result"
    }
   ],
   "source": [
    "feature_subset.value_counts(['cohort','grade'], sort=False)"
   ]
  },
  {
   "cell_type": "code",
   "execution_count": 25,
   "metadata": {},
   "outputs": [
    {
     "data": {
      "text/plain": [
       "cohort \n",
       "cm025      623\n",
       "kirc       465\n",
       "profile    304\n",
       "dtype: int64"
      ]
     },
     "execution_count": 25,
     "metadata": {},
     "output_type": "execute_result"
    }
   ],
   "source": [
    "feature_subset.value_counts(['cohort'], sort=False)"
   ]
  },
  {
   "cell_type": "code",
   "execution_count": 26,
   "metadata": {},
   "outputs": [],
   "source": [
    "feature_subset.to_csv('./rerun_final_patient_features_RICKETTS_FILTER.csv')"
   ]
  }
 ],
 "metadata": {
  "environment": {
   "name": "pytorch-gpu.1-4.m56",
   "type": "gcloud",
   "uri": "gcr.io/deeplearning-platform-release/pytorch-gpu.1-4:m56"
  },
  "kernelspec": {
   "display_name": "pathml",
   "language": "python",
   "name": "pathml"
  },
  "language_info": {
   "codemirror_mode": {
    "name": "ipython",
    "version": 3
   },
   "file_extension": ".py",
   "mimetype": "text/x-python",
   "name": "python",
   "nbconvert_exporter": "python",
   "pygments_lexer": "ipython3",
   "version": "3.8.8"
  }
 },
 "nbformat": 4,
 "nbformat_minor": 4
}
